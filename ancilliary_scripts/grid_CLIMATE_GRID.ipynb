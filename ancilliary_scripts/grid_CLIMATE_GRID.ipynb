{
 "cells": [
  {
   "cell_type": "code",
   "execution_count": 1,
   "metadata": {},
   "outputs": [],
   "source": [
    "import rdata\n",
    "import xarray as xr\n",
    "\n",
    "# user settings\n",
    "variables = [\"EVAPOTRANS_REF\", \"SUN_INT\", \"SUN_DURATION\", \"PRECIP_DURATION\", \"WIND_PEAK_SPEED\",\n",
    "\t         \"PRECIP_1H_MAX\", \"EVAPOTRANS_REF\", \"TEMP_MAX\",\"HUMIDITY_RELATIVE\",\"TEMP_MIN\", \"TEMP_AVG\",\n",
    "\t         \"WIND_SPEED\", \"PRESSURE\", \"SHORT_WAVE_FROM_SKY\", \"SUN_INT_HORIZ\", \"PRECIP_QUANTITY\"]\n",
    "\n",
    "variables = [\"EVAPOTRANS_REF\"]\n",
    "\n",
    "start_yr = 1950\n",
    "end_yr = 2023\n",
    "\n",
    "data_dir = '/dodrio/scratch/projects/2022_200/project_output/RMIB-UGent/vsc31332_inne/CLIMATE_GRID/'\n",
    "\n",
    "# read in lat lon\n",
    "#d_coords = rdata.read_rda(data_dir+'coord.lst.RData')\n",
    "\n",
    "\n",
    "for variable in variables: \n",
    "\n",
    "    filename = 'climate_atlas_'+str(variable)+'_CLIMATE_GRID_'+str(start_yr)+'_'+str(end_yr)+'_raw.RData'\n",
    "\n",
    "\n"
   ]
  },
  {
   "cell_type": "code",
   "execution_count": 2,
   "metadata": {},
   "outputs": [
    {
     "name": "stderr",
     "output_type": "stream",
     "text": [
      "/dodrio/scratch/projects/2022_200/RCS/CORDEXBE2/innev/miniconda3/envs/valenspy_dev/lib/python3.9/site-packages/rdata/conversion/_conversion.py:856: UserWarning: Missing constructor for R class \"Date\". The underlying R object is returned instead.\n",
      "  warnings.warn(\n"
     ]
    }
   ],
   "source": [
    "\n",
    "# read in data as dict and extract pandas df\n",
    "d_data = rdata.read_rda(data_dir+filename)\n",
    "\n"
   ]
  },
  {
   "cell_type": "code",
   "execution_count": 3,
   "metadata": {},
   "outputs": [],
   "source": [
    "df = d_data['all.data'].head()"
   ]
  },
  {
   "cell_type": "code",
   "execution_count": 4,
   "metadata": {},
   "outputs": [
    {
     "ename": "SyntaxError",
     "evalue": "invalid syntax (3848992546.py, line 17)",
     "output_type": "error",
     "traceback": [
      "\u001b[0;36m  Cell \u001b[0;32mIn[4], line 17\u001b[0;36m\u001b[0m\n\u001b[0;31m    filename_out = str(variable)'_CLIMATE_GRID_'+str(start_yr)+'_'+str(end_yr)+'_daily.nc\"\u001b[0m\n\u001b[0m                                ^\u001b[0m\n\u001b[0;31mSyntaxError\u001b[0m\u001b[0;31m:\u001b[0m invalid syntax\n"
     ]
    }
   ],
   "source": [
    "da = xr.DataArray(\n",
    "    data=data,\n",
    "    dims=[\"lat\", \"lon\", \"time\"],\n",
    "    coords=dict(\n",
    "        lon=(lon),\n",
    "        lat=([\"x\", \"y\"], lat),\n",
    "        time=time,\n",
    "        reference_time=reference_time,\n",
    "    ),\n",
    "    attrs=dict(\n",
    "        description=\"Ambient temperature.\",\n",
    "        units=\"degC\",\n",
    "    ),\n",
    ")\n",
    "\n",
    "\n",
    "filename_out = str(variable)'_CLIMATE_GRID_'+str(start_yr)+'_'+str(end_yr)+'_daily.nc\"\n"
   ]
  },
  {
   "cell_type": "code",
   "execution_count": null,
   "metadata": {},
   "outputs": [],
   "source": []
  }
 ],
 "metadata": {
  "kernelspec": {
   "display_name": "valenspy_dev",
   "language": "python",
   "name": "python3"
  },
  "language_info": {
   "codemirror_mode": {
    "name": "ipython",
    "version": 3
   },
   "file_extension": ".py",
   "mimetype": "text/x-python",
   "name": "python",
   "nbconvert_exporter": "python",
   "pygments_lexer": "ipython3",
   "version": "3.9.18"
  }
 },
 "nbformat": 4,
 "nbformat_minor": 2
}
