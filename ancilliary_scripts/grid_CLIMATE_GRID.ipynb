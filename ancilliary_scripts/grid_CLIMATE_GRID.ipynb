{
 "cells": [
  {
   "cell_type": "code",
   "execution_count": null,
   "metadata": {},
   "outputs": [],
   "source": [
    "import rdata\n",
    "import xarray as xr\n",
    "\n",
    "# user settings\n",
    "variables = [\"EVAPOTRANS_REF\", \"SUN_INT\", \"SUN_DURATION\", \"PRECIP_DURATION\", \"WIND_PEAK_SPEED\",\n",
    "\t         \"PRECIP_1H_MAX\", \"EVAPOTRANS_REF\", \"TEMP_MAX\",\"HUMIDITY_RELATIVE\",\"TEMP_MIN\", \"TEMP_AVG\",\n",
    "\t         \"WIND_SPEED\", \"PRESSURE\", \"SHORT_WAVE_FROM_SKY\", \"SUN_INT_HORIZ\", \"PRECIP_QUANTITY\"]\n",
    "\n",
    "variables = [\"EVAPOTRANS_REF\"]\n",
    "\n",
    "start_yr = 1950\n",
    "end_yr = 2023\n",
    "\n",
    "data_dir = '/dodrio/scratch/projects/2022_200/project_output/RMIB-UGent/vsc31332_inne/CLIMATE_GRID/'\n",
    "\n",
    "# read in lat lon\n",
    "#d_coords = rdata.read_rda(data_dir+'coord.lst.RData')\n",
    "\n",
    "\n",
    "for variable in variables: \n",
    "\n",
    "    filename = 'climate_atlas_'+str(variable)+'_CLIMATE_GRID_'+str(start_yr)+'_'+str(end_yr)+'_raw.RData'\n",
    "\n",
    "\n"
   ]
  },
  {
   "cell_type": "code",
   "execution_count": null,
   "metadata": {},
   "outputs": [
    {
     "ename": "",
     "evalue": "",
     "output_type": "error",
     "traceback": [
      "\u001b[1;31mThe Kernel crashed while executing code in the current cell or a previous cell. \n",
      "\u001b[1;31mPlease review the code in the cell(s) to identify a possible cause of the failure. \n",
      "\u001b[1;31mClick <a href='https://aka.ms/vscodeJupyterKernelCrash'>here</a> for more info. \n",
      "\u001b[1;31mView Jupyter <a href='command:jupyter.viewOutput'>log</a> for further details."
     ]
    }
   ],
   "source": [
    "\n",
    "# read in data as dict and extract pandas df\n",
    "d_data = rdata.read_rda(data_dir+filename)\n",
    "\n"
   ]
  },
  {
   "cell_type": "code",
   "execution_count": null,
   "metadata": {},
   "outputs": [
    {
     "ename": "NameError",
     "evalue": "name 'df' is not defined",
     "output_type": "error",
     "traceback": [
      "\u001b[0;31m---------------------------------------------------------------------------\u001b[0m",
      "\u001b[0;31mNameError\u001b[0m                                 Traceback (most recent call last)",
      "Cell \u001b[0;32mIn[1], line 1\u001b[0m\n\u001b[0;32m----> 1\u001b[0m \u001b[43mdf\u001b[49m\u001b[38;5;241m.\u001b[39mhead()\n",
      "\u001b[0;31mNameError\u001b[0m: name 'df' is not defined"
     ]
    }
   ],
   "source": [
    "df = d_data['all.data'].head()"
   ]
  },
  {
   "cell_type": "code",
   "execution_count": null,
   "metadata": {},
   "outputs": [],
   "source": [
    "da = xr.DataArray(\n",
    "    data=data,\n",
    "    dims=[\"lat\", \"lon\", \"time\"],\n",
    "    coords=dict(\n",
    "        lon=(lon),\n",
    "        lat=([\"x\", \"y\"], lat),\n",
    "        time=time,\n",
    "        reference_time=reference_time,\n",
    "    ),\n",
    "    attrs=dict(\n",
    "        description=\"Ambient temperature.\",\n",
    "        units=\"degC\",\n",
    "    ),\n",
    ")\n",
    "\n",
    "\n",
    "filename_out = str(variable)'_CLIMATE_GRID_'+str(start_yr)+'_'+str(end_yr)+'_daily.nc\"\n"
   ]
  },
  {
   "cell_type": "code",
   "execution_count": null,
   "metadata": {},
   "outputs": [],
   "source": []
  }
 ],
 "metadata": {
  "kernelspec": {
   "display_name": "valenspy_dev",
   "language": "python",
   "name": "python3"
  },
  "language_info": {
   "codemirror_mode": {
    "name": "ipython",
    "version": 3
   },
   "file_extension": ".py",
   "mimetype": "text/x-python",
   "name": "python",
   "nbconvert_exporter": "python",
   "pygments_lexer": "ipython3",
   "version": "3.9.undefined"
  }
 },
 "nbformat": 4,
 "nbformat_minor": 2
}
