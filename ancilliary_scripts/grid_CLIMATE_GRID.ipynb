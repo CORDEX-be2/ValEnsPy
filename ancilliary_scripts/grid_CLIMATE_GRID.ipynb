{
 "cells": [
  {
   "cell_type": "code",
   "execution_count": 30,
   "metadata": {},
   "outputs": [],
   "source": [
    "import rdata\n",
    "import xarray as xr\n",
    "import pandas as pd\n",
    "from datetime import date\n",
    "\n",
    "# user settings\n",
    "variables = [\"EVAPOTRANS_REF\", \"SUN_INT\", \"SUN_DURATION\", \"PRECIP_DURATION\", \"WIND_PEAK_SPEED\",\n",
    "\t         \"PRECIP_1H_MAX\", \"EVAPOTRANS_REF\", \"TEMP_MAX\",\"HUMIDITY_RELATIVE\",\"TEMP_MIN\", \"TEMP_AVG\",\n",
    "\t         \"WIND_SPEED\", \"PRESSURE\", \"SHORT_WAVE_FROM_SKY\", \"SUN_INT_HORIZ\", \"PRECIP_QUANTITY\"]\n",
    "\n",
    "variables = [\"EVAPOTRANS_REF\"]\n",
    "\n",
    "start_yr = 1950\n",
    "end_yr = 2023\n",
    "\n",
    "data_dir = '/dodrio/scratch/projects/2022_200/project_output/RMIB-UGent/vsc31332_inne/CLIMATE_GRID/'\n",
    "\n",
    "# read in lat lon\n",
    "#d_coords = rdata.read_rda(data_dir+'coord.lst.RData')\n",
    "\n",
    "\n",
    "for variable in variables: \n",
    "\n",
    "    filename = 'climate_atlas_'+str(variable)+'_CLIMATE_GRID_'+str(start_yr)+'_'+str(end_yr)+'_raw.RData'\n",
    "\n",
    "\n"
   ]
  },
  {
   "cell_type": "code",
   "execution_count": 2,
   "metadata": {},
   "outputs": [
    {
     "name": "stderr",
     "output_type": "stream",
     "text": [
      "/dodrio/scratch/projects/2022_200/RCS/CORDEXBE2/innev/miniconda3/envs/valenspy_dev/lib/python3.9/site-packages/rdata/conversion/_conversion.py:856: UserWarning: Missing constructor for R class \"Date\". The underlying R object is returned instead.\n",
      "  warnings.warn(\n"
     ]
    }
   ],
   "source": [
    "\n",
    "# read in data as dict and extract pandas df\n",
    "d_data = rdata.read_rda(data_dir+filename)\n",
    "\n"
   ]
  },
  {
   "cell_type": "code",
   "execution_count": 34,
   "metadata": {},
   "outputs": [],
   "source": [
    "df = d_data['all.data']\n",
    "data_vector = df['value'].values\n",
    "data_reshaped = data_vector.reshape(nlon,nlat)"
   ]
  },
  {
   "cell_type": "code",
   "execution_count": 35,
   "metadata": {},
   "outputs": [
    {
     "data": {
      "text/plain": [
       "27028"
      ]
     },
     "execution_count": 35,
     "metadata": {},
     "output_type": "execute_result"
    }
   ],
   "source": [
    "len(dates)\n"
   ]
  },
  {
   "cell_type": "code",
   "execution_count": 37,
   "metadata": {},
   "outputs": [
    {
     "ename": "NameError",
     "evalue": "name 'd_coords' is not defined",
     "output_type": "error",
     "traceback": [
      "\u001b[0;31m---------------------------------------------------------------------------\u001b[0m",
      "\u001b[0;31mNameError\u001b[0m                                 Traceback (most recent call last)",
      "Cell \u001b[0;32mIn[37], line 2\u001b[0m\n\u001b[1;32m      1\u001b[0m \u001b[38;5;66;03m# get latitudes and longitudes\u001b[39;00m\n\u001b[0;32m----> 2\u001b[0m lats \u001b[38;5;241m=\u001b[39m \u001b[43md_coords\u001b[49m[\u001b[38;5;241m1\u001b[39m,:] \u001b[38;5;66;03m# double check!!\u001b[39;00m\n\u001b[1;32m      3\u001b[0m lons \u001b[38;5;241m=\u001b[39m d_coords[\u001b[38;5;241m0\u001b[39m,:]\n\u001b[1;32m      5\u001b[0m \u001b[38;5;66;03m# define dates - time axis\u001b[39;00m\n",
      "\u001b[0;31mNameError\u001b[0m: name 'd_coords' is not defined"
     ]
    }
   ],
   "source": [
    "# get latitudes and longitudes\n",
    "lats = d_coords[1,:] # double check!!\n",
    "lons = d_coords[0,:]\n",
    "\n",
    "# define dates - time axis\n",
    "dates = pd.date_range(start=f'{start_year}-01-01', end=f'{end_year}-12-31', freq='D')\n",
    "\n",
    "# create data array\n",
    "da = xr.DataArray(\n",
    "    data=data,\n",
    "    dims=[\"lat\", \"lon\", \"time\"],\n",
    "    coords=dict(\n",
    "        lon=lons,\n",
    "        lat=lats,\n",
    "        time=dates,\n",
    "    ),\n",
    "    attrs=dict(\n",
    "        long_name=variable,\n",
    "        units=\"degC\",\n",
    "    ),\n",
    ")\n",
    "\n",
    "# convert to dataset and give dataset attributes\n",
    "\n",
    "ds = da.to_dataset(name=variable)\n",
    "d_attrs = {\"creation_date\": date.today(), \"creators\": \"Ghilain N., Van Schaeybroeck B., Vanderkelen I.\", \n",
    "\"contact\": \"inne.vanderkelen@meteo.be\", \"version\": \"1.1\", \"affiliation\": \"Royal Meteorological Institute of Belgium\"}\n",
    "ds.attrs = d_attrs\n",
    "\n",
    "# export to netcdf\n",
    "\n",
    "filename_out = str(variable)+'_CLIMATE_GRID_'+str(start_yr)+'_'+str(end_yr)+'_daily.nc'\n",
    "ds.to_netcdf(data_dir + filename_out)"
   ]
  }
 ],
 "metadata": {
  "kernelspec": {
   "display_name": "valenspy_dev",
   "language": "python",
   "name": "python3"
  },
  "language_info": {
   "codemirror_mode": {
    "name": "ipython",
    "version": 3
   },
   "file_extension": ".py",
   "mimetype": "text/x-python",
   "name": "python",
   "nbconvert_exporter": "python",
   "pygments_lexer": "ipython3",
   "version": "3.9.18"
  }
 },
 "nbformat": 4,
 "nbformat_minor": 2
}
