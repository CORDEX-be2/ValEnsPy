{
 "cells": [
  {
   "cell_type": "code",
   "execution_count": 9,
   "metadata": {},
   "outputs": [],
   "source": [
    "import os\n",
    "import subprocess\n",
    "import shutil\n",
    "\n",
    "\n",
    "# Directories setup\n",
    "dir_base = \"/dodrio/scratch/projects/2022_200/project_input/External/observations/\"\n",
    "\n",
    "# Variables initialization\n",
    "flag_calc_min_max = False # if set to true, also the min and max are calculated, in addition to the mean. \n",
    "dataset = \"era5\"  # \"era5-land\"\n",
    "domain = \"europe\"  # \"europe\"\n",
    "init_yr = 1940\n",
    "end_yr = 2023\n",
    "\n",
    "var_name_lst = [\n",
    "    \"2m_temperature\"\n",
    "]\n",
    "\n",
    "if flag_calc_min_max:\n",
    "    statistic = [\"mean\", \"max\", \"min\"]\n",
    "    statistic_text = {\"mean\": \"\", \"max\": \"_max\", \"min\": \"_min\"}\n",
    "else:\n",
    "    statistic = [\"mean\"]\n",
    "    statistic_text = {\"mean\": \"\"}\n",
    "\n",
    "amt_fun = len(statistic)\n",
    "\n",
    "amt_var = len(var_name_lst)\n",
    "yr_lst = range(init_yr, end_yr + 1)\n",
    "amt_yr = len(yr_lst)\n",
    "\n",
    "time_freq_hr = \"hourly\"  # Or whichever time frequency is applicable\n",
    "time_freq_day = \"daily\"\n",
    "time_freq_mon = \"monthly\"\n",
    "\n",
    "dir_base_hr = os.path.join(dir_base, dataset, domain, time_freq_hr)\n",
    "dir_base_day = os.path.join(dir_base, dataset, domain, time_freq_day)\n",
    "dir_base_mon = os.path.join(dir_base, dataset, domain, time_freq_mon)\n"
   ]
  },
  {
   "cell_type": "code",
   "execution_count": 10,
   "metadata": {},
   "outputs": [
    {
     "name": "stdout",
     "output_type": "stream",
     "text": [
      "dataset: era5, var: 2m_temperature\n",
      "var: 2m_temperature, year: 1940\n"
     ]
    },
    {
     "name": "stderr",
     "output_type": "stream",
     "text": [
      "cdo    daymean: Open failed on >/dodrio/scratch/projects/2022_200/project_input/External/observations/era5/europe/hourly/2m_temperature/era5-hourly-europe-2m_temperature-1940.nc<\n",
      "                No such file or directory\n",
      "cdo    monmean (Warning): Deflate compression not available for non NetCDF4 data!\n",
      "cdi  warning (cdfDefVarCompression): Deflate compression is only available for NetCDF4!\n"
     ]
    },
    {
     "name": "stdout",
     "output_type": "stream",
     "text": [
      "var: 2m_temperature, year: 1941\n"
     ]
    },
    {
     "name": "stderr",
     "output_type": "stream",
     "text": [
      "cdo    daymean: Open failed on >/dodrio/scratch/projects/2022_200/project_input/External/observations/era5/europe/hourly/2m_temperature/era5-hourly-europe-2m_temperature-1941.nc<\n",
      "                No such file or directory\n",
      "cdo    monmean (Warning): Deflate compression not available for non NetCDF4 data!\n",
      "cdi  warning (cdfDefVarCompression): Deflate compression is only available for NetCDF4!\n"
     ]
    },
    {
     "name": "stdout",
     "output_type": "stream",
     "text": [
      "var: 2m_temperature, year: 1942\n"
     ]
    },
    {
     "name": "stderr",
     "output_type": "stream",
     "text": [
      "cdo    daymean: Open failed on >/dodrio/scratch/projects/2022_200/project_input/External/observations/era5/europe/hourly/2m_temperature/era5-hourly-europe-2m_temperature-1942.nc<\n",
      "                No such file or directory\n",
      "cdo    monmean (Warning): Deflate compression not available for non NetCDF4 data!\n",
      "cdi  warning (cdfDefVarCompression): Deflate compression is only available for NetCDF4!\n"
     ]
    },
    {
     "name": "stdout",
     "output_type": "stream",
     "text": [
      "var: 2m_temperature, year: 1943\n"
     ]
    },
    {
     "name": "stderr",
     "output_type": "stream",
     "text": [
      "cdo    daymean: Open failed on >/dodrio/scratch/projects/2022_200/project_input/External/observations/era5/europe/hourly/2m_temperature/era5-hourly-europe-2m_temperature-1943.nc<\n",
      "                No such file or directory\n",
      "cdo    monmean: Open failed on >/dodrio/scratch/projects/2022_200/project_input/External/observations/era5/europe/daily/2m_temperature/era5-daily-europe-2m_temperature-1943.nc<\n",
      "                No such file or directory\n",
      "cdo    daymean: Open failed on >/dodrio/scratch/projects/2022_200/project_input/External/observations/era5/europe/hourly/2m_temperature/era5-hourly-europe-2m_temperature-1944.nc<\n",
      "                No such file or directory\n",
      "cdo    monmean: Open failed on >/dodrio/scratch/projects/2022_200/project_input/External/observations/era5/europe/daily/2m_temperature/era5-daily-europe-2m_temperature-1944.nc<\n",
      "                No such file or directory\n",
      "cdo    daymean: Open failed on >/dodrio/scratch/projects/2022_200/project_input/External/observations/era5/europe/hourly/2m_temperature/era5-hourly-europe-2m_temperature-1945.nc<\n",
      "                No such file or directory\n"
     ]
    },
    {
     "name": "stdout",
     "output_type": "stream",
     "text": [
      "var: 2m_temperature, year: 1944\n",
      "var: 2m_temperature, year: 1945\n"
     ]
    },
    {
     "name": "stderr",
     "output_type": "stream",
     "text": [
      "cdo    monmean: Open failed on >/dodrio/scratch/projects/2022_200/project_input/External/observations/era5/europe/daily/2m_temperature/era5-daily-europe-2m_temperature-1945.nc<\n",
      "                No such file or directory\n",
      "cdo    daymean: Open failed on >/dodrio/scratch/projects/2022_200/project_input/External/observations/era5/europe/hourly/2m_temperature/era5-hourly-europe-2m_temperature-1946.nc<\n",
      "                No such file or directory\n",
      "cdo    monmean: Open failed on >/dodrio/scratch/projects/2022_200/project_input/External/observations/era5/europe/daily/2m_temperature/era5-daily-europe-2m_temperature-1946.nc<\n",
      "                No such file or directory\n",
      "cdo    daymean: Open failed on >/dodrio/scratch/projects/2022_200/project_input/External/observations/era5/europe/hourly/2m_temperature/era5-hourly-europe-2m_temperature-1947.nc<\n",
      "                No such file or directory\n"
     ]
    },
    {
     "name": "stdout",
     "output_type": "stream",
     "text": [
      "var: 2m_temperature, year: 1946\n",
      "var: 2m_temperature, year: 1947\n"
     ]
    },
    {
     "name": "stderr",
     "output_type": "stream",
     "text": [
      "cdo    monmean: Open failed on >/dodrio/scratch/projects/2022_200/project_input/External/observations/era5/europe/daily/2m_temperature/era5-daily-europe-2m_temperature-1947.nc<\n",
      "                No such file or directory\n",
      "cdo    daymean: Open failed on >/dodrio/scratch/projects/2022_200/project_input/External/observations/era5/europe/hourly/2m_temperature/era5-hourly-europe-2m_temperature-1948.nc<\n",
      "                No such file or directory\n",
      "cdo    monmean: Open failed on >/dodrio/scratch/projects/2022_200/project_input/External/observations/era5/europe/daily/2m_temperature/era5-daily-europe-2m_temperature-1948.nc<\n",
      "                No such file or directory\n",
      "cdo    daymean: Open failed on >/dodrio/scratch/projects/2022_200/project_input/External/observations/era5/europe/hourly/2m_temperature/era5-hourly-europe-2m_temperature-1949.nc<\n",
      "                No such file or directory\n"
     ]
    },
    {
     "name": "stdout",
     "output_type": "stream",
     "text": [
      "var: 2m_temperature, year: 1948\n",
      "var: 2m_temperature, year: 1949\n"
     ]
    },
    {
     "name": "stderr",
     "output_type": "stream",
     "text": [
      "cdo    monmean: Open failed on >/dodrio/scratch/projects/2022_200/project_input/External/observations/era5/europe/daily/2m_temperature/era5-daily-europe-2m_temperature-1949.nc<\n",
      "                No such file or directory\n",
      "cdo    daymean: Open failed on >/dodrio/scratch/projects/2022_200/project_input/External/observations/era5/europe/hourly/2m_temperature/era5-hourly-europe-2m_temperature-1950.nc<\n",
      "                No such file or directory\n",
      "cdo    monmean: Open failed on >/dodrio/scratch/projects/2022_200/project_input/External/observations/era5/europe/daily/2m_temperature/era5-daily-europe-2m_temperature-1950.nc<\n",
      "                No such file or directory\n",
      "cdo    daymean: Open failed on >/dodrio/scratch/projects/2022_200/project_input/External/observations/era5/europe/hourly/2m_temperature/era5-hourly-europe-2m_temperature-1951.nc<\n",
      "                No such file or directory\n"
     ]
    },
    {
     "name": "stdout",
     "output_type": "stream",
     "text": [
      "var: 2m_temperature, year: 1950\n",
      "var: 2m_temperature, year: 1951\n"
     ]
    },
    {
     "name": "stderr",
     "output_type": "stream",
     "text": [
      "cdo    monmean: Open failed on >/dodrio/scratch/projects/2022_200/project_input/External/observations/era5/europe/daily/2m_temperature/era5-daily-europe-2m_temperature-1951.nc<\n",
      "                No such file or directory\n",
      "cdo    daymean: Open failed on >/dodrio/scratch/projects/2022_200/project_input/External/observations/era5/europe/hourly/2m_temperature/era5-hourly-europe-2m_temperature-1952.nc<\n",
      "                No such file or directory\n",
      "cdo    monmean: Open failed on >/dodrio/scratch/projects/2022_200/project_input/External/observations/era5/europe/daily/2m_temperature/era5-daily-europe-2m_temperature-1952.nc<\n",
      "                No such file or directory\n",
      "cdo    daymean: Open failed on >/dodrio/scratch/projects/2022_200/project_input/External/observations/era5/europe/hourly/2m_temperature/era5-hourly-europe-2m_temperature-1953.nc<\n",
      "                No such file or directory\n",
      "cdo    monmean: Open failed on >/dodrio/scratch/projects/2022_200/project_input/External/observations/era5/europe/daily/2m_temperature/era5-daily-europe-2m_temperature-1953.nc<\n",
      "                No such file or directory\n"
     ]
    },
    {
     "name": "stdout",
     "output_type": "stream",
     "text": [
      "var: 2m_temperature, year: 1952\n",
      "var: 2m_temperature, year: 1953\n",
      "var: 2m_temperature, year: 1954\n"
     ]
    },
    {
     "name": "stderr",
     "output_type": "stream",
     "text": [
      "cdo    daymean: Open failed on >/dodrio/scratch/projects/2022_200/project_input/External/observations/era5/europe/hourly/2m_temperature/era5-hourly-europe-2m_temperature-1954.nc<\n",
      "                No such file or directory\n",
      "cdo    monmean: Open failed on >/dodrio/scratch/projects/2022_200/project_input/External/observations/era5/europe/daily/2m_temperature/era5-daily-europe-2m_temperature-1954.nc<\n",
      "                No such file or directory\n",
      "cdo    daymean: Open failed on >/dodrio/scratch/projects/2022_200/project_input/External/observations/era5/europe/hourly/2m_temperature/era5-hourly-europe-2m_temperature-1955.nc<\n",
      "                No such file or directory\n",
      "cdo    monmean: Open failed on >/dodrio/scratch/projects/2022_200/project_input/External/observations/era5/europe/daily/2m_temperature/era5-daily-europe-2m_temperature-1955.nc<\n",
      "                No such file or directory\n"
     ]
    },
    {
     "name": "stdout",
     "output_type": "stream",
     "text": [
      "var: 2m_temperature, year: 1955\n",
      "var: 2m_temperature, year: 1956\n"
     ]
    },
    {
     "name": "stderr",
     "output_type": "stream",
     "text": [
      "cdo    daymean: Open failed on >/dodrio/scratch/projects/2022_200/project_input/External/observations/era5/europe/hourly/2m_temperature/era5-hourly-europe-2m_temperature-1956.nc<\n",
      "                No such file or directory\n",
      "cdo    monmean: Open failed on >/dodrio/scratch/projects/2022_200/project_input/External/observations/era5/europe/daily/2m_temperature/era5-daily-europe-2m_temperature-1956.nc<\n",
      "                No such file or directory\n",
      "cdo    daymean: Open failed on >/dodrio/scratch/projects/2022_200/project_input/External/observations/era5/europe/hourly/2m_temperature/era5-hourly-europe-2m_temperature-1957.nc<\n",
      "                No such file or directory\n",
      "cdo    monmean: Open failed on >/dodrio/scratch/projects/2022_200/project_input/External/observations/era5/europe/daily/2m_temperature/era5-daily-europe-2m_temperature-1957.nc<\n",
      "                No such file or directory\n"
     ]
    },
    {
     "name": "stdout",
     "output_type": "stream",
     "text": [
      "var: 2m_temperature, year: 1957\n",
      "var: 2m_temperature, year: 1958\n"
     ]
    },
    {
     "name": "stderr",
     "output_type": "stream",
     "text": [
      "cdo    daymean: Open failed on >/dodrio/scratch/projects/2022_200/project_input/External/observations/era5/europe/hourly/2m_temperature/era5-hourly-europe-2m_temperature-1958.nc<\n",
      "                No such file or directory\n",
      "cdo    monmean: Open failed on >/dodrio/scratch/projects/2022_200/project_input/External/observations/era5/europe/daily/2m_temperature/era5-daily-europe-2m_temperature-1958.nc<\n",
      "                No such file or directory\n",
      "cdo    daymean: Open failed on >/dodrio/scratch/projects/2022_200/project_input/External/observations/era5/europe/hourly/2m_temperature/era5-hourly-europe-2m_temperature-1959.nc<\n",
      "                No such file or directory\n",
      "cdo    monmean: Open failed on >/dodrio/scratch/projects/2022_200/project_input/External/observations/era5/europe/daily/2m_temperature/era5-daily-europe-2m_temperature-1959.nc<\n",
      "                No such file or directory\n"
     ]
    },
    {
     "name": "stdout",
     "output_type": "stream",
     "text": [
      "var: 2m_temperature, year: 1959\n",
      "var: 2m_temperature, year: 1960\n"
     ]
    },
    {
     "name": "stderr",
     "output_type": "stream",
     "text": [
      "cdo    daymean: Open failed on >/dodrio/scratch/projects/2022_200/project_input/External/observations/era5/europe/hourly/2m_temperature/era5-hourly-europe-2m_temperature-1960.nc<\n",
      "                No such file or directory\n",
      "cdo    monmean: Open failed on >/dodrio/scratch/projects/2022_200/project_input/External/observations/era5/europe/daily/2m_temperature/era5-daily-europe-2m_temperature-1960.nc<\n",
      "                No such file or directory\n",
      "cdo    daymean: Open failed on >/dodrio/scratch/projects/2022_200/project_input/External/observations/era5/europe/hourly/2m_temperature/era5-hourly-europe-2m_temperature-1961.nc<\n",
      "                No such file or directory\n",
      "cdo    monmean: Open failed on >/dodrio/scratch/projects/2022_200/project_input/External/observations/era5/europe/daily/2m_temperature/era5-daily-europe-2m_temperature-1961.nc<\n",
      "                No such file or directory\n"
     ]
    },
    {
     "name": "stdout",
     "output_type": "stream",
     "text": [
      "var: 2m_temperature, year: 1961\n",
      "var: 2m_temperature, year: 1962\n"
     ]
    },
    {
     "name": "stderr",
     "output_type": "stream",
     "text": [
      "cdo    daymean: Open failed on >/dodrio/scratch/projects/2022_200/project_input/External/observations/era5/europe/hourly/2m_temperature/era5-hourly-europe-2m_temperature-1962.nc<\n",
      "                No such file or directory\n",
      "cdo    monmean: Open failed on >/dodrio/scratch/projects/2022_200/project_input/External/observations/era5/europe/daily/2m_temperature/era5-daily-europe-2m_temperature-1962.nc<\n",
      "                No such file or directory\n",
      "cdo    daymean: Open failed on >/dodrio/scratch/projects/2022_200/project_input/External/observations/era5/europe/hourly/2m_temperature/era5-hourly-europe-2m_temperature-1963.nc<\n",
      "                No such file or directory\n",
      "cdo    monmean: Open failed on >/dodrio/scratch/projects/2022_200/project_input/External/observations/era5/europe/daily/2m_temperature/era5-daily-europe-2m_temperature-1963.nc<\n",
      "                No such file or directory\n"
     ]
    },
    {
     "name": "stdout",
     "output_type": "stream",
     "text": [
      "var: 2m_temperature, year: 1963\n",
      "var: 2m_temperature, year: 1964\n"
     ]
    },
    {
     "name": "stderr",
     "output_type": "stream",
     "text": [
      "cdo    daymean: Open failed on >/dodrio/scratch/projects/2022_200/project_input/External/observations/era5/europe/hourly/2m_temperature/era5-hourly-europe-2m_temperature-1964.nc<\n",
      "                No such file or directory\n",
      "cdo    monmean: Open failed on >/dodrio/scratch/projects/2022_200/project_input/External/observations/era5/europe/daily/2m_temperature/era5-daily-europe-2m_temperature-1964.nc<\n",
      "                No such file or directory\n",
      "cdo    daymean: Open failed on >/dodrio/scratch/projects/2022_200/project_input/External/observations/era5/europe/hourly/2m_temperature/era5-hourly-europe-2m_temperature-1965.nc<\n",
      "                No such file or directory\n",
      "cdo    monmean: Open failed on >/dodrio/scratch/projects/2022_200/project_input/External/observations/era5/europe/daily/2m_temperature/era5-daily-europe-2m_temperature-1965.nc<\n",
      "                No such file or directory\n"
     ]
    },
    {
     "name": "stdout",
     "output_type": "stream",
     "text": [
      "var: 2m_temperature, year: 1965\n",
      "var: 2m_temperature, year: 1966\n"
     ]
    },
    {
     "name": "stderr",
     "output_type": "stream",
     "text": [
      "cdo    daymean: Open failed on >/dodrio/scratch/projects/2022_200/project_input/External/observations/era5/europe/hourly/2m_temperature/era5-hourly-europe-2m_temperature-1966.nc<\n",
      "                No such file or directory\n",
      "cdo    monmean: Open failed on >/dodrio/scratch/projects/2022_200/project_input/External/observations/era5/europe/daily/2m_temperature/era5-daily-europe-2m_temperature-1966.nc<\n",
      "                No such file or directory\n",
      "cdo    daymean: Open failed on >/dodrio/scratch/projects/2022_200/project_input/External/observations/era5/europe/hourly/2m_temperature/era5-hourly-europe-2m_temperature-1967.nc<\n",
      "                No such file or directory\n",
      "cdo    monmean: Open failed on >/dodrio/scratch/projects/2022_200/project_input/External/observations/era5/europe/daily/2m_temperature/era5-daily-europe-2m_temperature-1967.nc<\n",
      "                No such file or directory\n"
     ]
    },
    {
     "name": "stdout",
     "output_type": "stream",
     "text": [
      "var: 2m_temperature, year: 1967\n",
      "var: 2m_temperature, year: 1968\n"
     ]
    },
    {
     "name": "stderr",
     "output_type": "stream",
     "text": [
      "cdo    daymean: Open failed on >/dodrio/scratch/projects/2022_200/project_input/External/observations/era5/europe/hourly/2m_temperature/era5-hourly-europe-2m_temperature-1968.nc<\n",
      "                No such file or directory\n",
      "cdo    monmean: Open failed on >/dodrio/scratch/projects/2022_200/project_input/External/observations/era5/europe/daily/2m_temperature/era5-daily-europe-2m_temperature-1968.nc<\n",
      "                No such file or directory\n",
      "cdo    daymean: Open failed on >/dodrio/scratch/projects/2022_200/project_input/External/observations/era5/europe/hourly/2m_temperature/era5-hourly-europe-2m_temperature-1969.nc<\n",
      "                No such file or directory\n",
      "cdo    monmean: Open failed on >/dodrio/scratch/projects/2022_200/project_input/External/observations/era5/europe/daily/2m_temperature/era5-daily-europe-2m_temperature-1969.nc<\n",
      "                No such file or directory\n"
     ]
    },
    {
     "name": "stdout",
     "output_type": "stream",
     "text": [
      "var: 2m_temperature, year: 1969\n",
      "var: 2m_temperature, year: 1970\n"
     ]
    },
    {
     "name": "stderr",
     "output_type": "stream",
     "text": [
      "cdo    daymean: Open failed on >/dodrio/scratch/projects/2022_200/project_input/External/observations/era5/europe/hourly/2m_temperature/era5-hourly-europe-2m_temperature-1970.nc<\n",
      "                No such file or directory\n",
      "cdo    monmean: Open failed on >/dodrio/scratch/projects/2022_200/project_input/External/observations/era5/europe/daily/2m_temperature/era5-daily-europe-2m_temperature-1970.nc<\n",
      "                No such file or directory\n",
      "cdo    daymean: Open failed on >/dodrio/scratch/projects/2022_200/project_input/External/observations/era5/europe/hourly/2m_temperature/era5-hourly-europe-2m_temperature-1971.nc<\n",
      "                No such file or directory\n",
      "cdo    monmean: Open failed on >/dodrio/scratch/projects/2022_200/project_input/External/observations/era5/europe/daily/2m_temperature/era5-daily-europe-2m_temperature-1971.nc<\n",
      "                No such file or directory\n"
     ]
    },
    {
     "name": "stdout",
     "output_type": "stream",
     "text": [
      "var: 2m_temperature, year: 1971\n",
      "var: 2m_temperature, year: 1972\n"
     ]
    },
    {
     "name": "stderr",
     "output_type": "stream",
     "text": [
      "cdo    daymean: Open failed on >/dodrio/scratch/projects/2022_200/project_input/External/observations/era5/europe/hourly/2m_temperature/era5-hourly-europe-2m_temperature-1972.nc<\n",
      "                No such file or directory\n",
      "cdo    monmean: Open failed on >/dodrio/scratch/projects/2022_200/project_input/External/observations/era5/europe/daily/2m_temperature/era5-daily-europe-2m_temperature-1972.nc<\n",
      "                No such file or directory\n",
      "cdo    daymean: Open failed on >/dodrio/scratch/projects/2022_200/project_input/External/observations/era5/europe/hourly/2m_temperature/era5-hourly-europe-2m_temperature-1973.nc<\n",
      "                No such file or directory\n",
      "cdo    monmean: Open failed on >/dodrio/scratch/projects/2022_200/project_input/External/observations/era5/europe/daily/2m_temperature/era5-daily-europe-2m_temperature-1973.nc<\n",
      "                No such file or directory\n"
     ]
    },
    {
     "name": "stdout",
     "output_type": "stream",
     "text": [
      "var: 2m_temperature, year: 1973\n",
      "var: 2m_temperature, year: 1974\n"
     ]
    },
    {
     "name": "stderr",
     "output_type": "stream",
     "text": [
      "cdo    daymean: Open failed on >/dodrio/scratch/projects/2022_200/project_input/External/observations/era5/europe/hourly/2m_temperature/era5-hourly-europe-2m_temperature-1974.nc<\n",
      "                No such file or directory\n",
      "cdo    monmean: Open failed on >/dodrio/scratch/projects/2022_200/project_input/External/observations/era5/europe/daily/2m_temperature/era5-daily-europe-2m_temperature-1974.nc<\n",
      "                No such file or directory\n",
      "cdo    daymean: Open failed on >/dodrio/scratch/projects/2022_200/project_input/External/observations/era5/europe/hourly/2m_temperature/era5-hourly-europe-2m_temperature-1975.nc<\n",
      "                No such file or directory\n",
      "cdo    monmean: Open failed on >/dodrio/scratch/projects/2022_200/project_input/External/observations/era5/europe/daily/2m_temperature/era5-daily-europe-2m_temperature-1975.nc<\n",
      "                No such file or directory\n"
     ]
    },
    {
     "name": "stdout",
     "output_type": "stream",
     "text": [
      "var: 2m_temperature, year: 1975\n",
      "var: 2m_temperature, year: 1976\n"
     ]
    },
    {
     "name": "stderr",
     "output_type": "stream",
     "text": [
      "cdo    daymean: Open failed on >/dodrio/scratch/projects/2022_200/project_input/External/observations/era5/europe/hourly/2m_temperature/era5-hourly-europe-2m_temperature-1976.nc<\n",
      "                No such file or directory\n",
      "cdo    monmean: Open failed on >/dodrio/scratch/projects/2022_200/project_input/External/observations/era5/europe/daily/2m_temperature/era5-daily-europe-2m_temperature-1976.nc<\n",
      "                No such file or directory\n",
      "cdo    daymean: Open failed on >/dodrio/scratch/projects/2022_200/project_input/External/observations/era5/europe/hourly/2m_temperature/era5-hourly-europe-2m_temperature-1977.nc<\n",
      "                No such file or directory\n",
      "cdo    monmean: Open failed on >/dodrio/scratch/projects/2022_200/project_input/External/observations/era5/europe/daily/2m_temperature/era5-daily-europe-2m_temperature-1977.nc<\n",
      "                No such file or directory\n"
     ]
    },
    {
     "name": "stdout",
     "output_type": "stream",
     "text": [
      "var: 2m_temperature, year: 1977\n",
      "var: 2m_temperature, year: 1978\n"
     ]
    },
    {
     "name": "stderr",
     "output_type": "stream",
     "text": [
      "cdo    daymean: Open failed on >/dodrio/scratch/projects/2022_200/project_input/External/observations/era5/europe/hourly/2m_temperature/era5-hourly-europe-2m_temperature-1978.nc<\n",
      "                No such file or directory\n",
      "cdo    monmean: Open failed on >/dodrio/scratch/projects/2022_200/project_input/External/observations/era5/europe/daily/2m_temperature/era5-daily-europe-2m_temperature-1978.nc<\n",
      "                No such file or directory\n"
     ]
    },
    {
     "name": "stdout",
     "output_type": "stream",
     "text": [
      "var: 2m_temperature, year: 1979\n"
     ]
    },
    {
     "name": "stderr",
     "output_type": "stream",
     "text": [
      "cdo    daymean (Warning): Deflate compression not available for non NetCDF4 data!\n",
      "cdi  warning (cdfDefVarCompression): Deflate compression is only available for NetCDF4!\n",
      "cdo    monmean (Warning): Deflate compression not available for non NetCDF4 data!\n",
      "cdi  warning (cdfDefVarCompression): Deflate compression is only available for NetCDF4!\n"
     ]
    },
    {
     "name": "stdout",
     "output_type": "stream",
     "text": [
      "var: 2m_temperature, year: 1980\n"
     ]
    },
    {
     "name": "stderr",
     "output_type": "stream",
     "text": [
      "cdo    daymean (Warning): Deflate compression not available for non NetCDF4 data!\n",
      "cdi  warning (cdfDefVarCompression): Deflate compression is only available for NetCDF4!\n",
      "cdo    monmean (Warning): Deflate compression not available for non NetCDF4 data!\n",
      "cdi  warning (cdfDefVarCompression): Deflate compression is only available for NetCDF4!\n",
      "cdo    daymean (Warning): Deflate compression not available for non NetCDF4 data!\n",
      "cdi  warning (cdfDefVarCompression): Deflate compression is only available for NetCDF4!\n"
     ]
    },
    {
     "name": "stdout",
     "output_type": "stream",
     "text": [
      "var: 2m_temperature, year: 1981\n"
     ]
    },
    {
     "name": "stderr",
     "output_type": "stream",
     "text": [
      "cdo    monmean (Warning): Deflate compression not available for non NetCDF4 data!\n",
      "cdi  warning (cdfDefVarCompression): Deflate compression is only available for NetCDF4!\n",
      "cdo    daymean (Warning): Deflate compression not available for non NetCDF4 data!\n",
      "cdi  warning (cdfDefVarCompression): Deflate compression is only available for NetCDF4!\n"
     ]
    },
    {
     "name": "stdout",
     "output_type": "stream",
     "text": [
      "var: 2m_temperature, year: 1982\n"
     ]
    },
    {
     "name": "stderr",
     "output_type": "stream",
     "text": [
      "cdo    monmean (Warning): Deflate compression not available for non NetCDF4 data!\n",
      "cdi  warning (cdfDefVarCompression): Deflate compression is only available for NetCDF4!\n"
     ]
    },
    {
     "name": "stdout",
     "output_type": "stream",
     "text": [
      "var: 2m_temperature, year: 1983\n"
     ]
    },
    {
     "name": "stderr",
     "output_type": "stream",
     "text": [
      "cdo    daymean (Warning): Deflate compression not available for non NetCDF4 data!\n",
      "cdi  warning (cdfDefVarCompression): Deflate compression is only available for NetCDF4!\n",
      "cdo    monmean (Warning): Deflate compression not available for non NetCDF4 data!\n",
      "cdi  warning (cdfDefVarCompression): Deflate compression is only available for NetCDF4!\n"
     ]
    },
    {
     "name": "stdout",
     "output_type": "stream",
     "text": [
      "var: 2m_temperature, year: 1984\n"
     ]
    },
    {
     "name": "stderr",
     "output_type": "stream",
     "text": [
      "cdo    daymean (Warning): Deflate compression not available for non NetCDF4 data!\n",
      "cdi  warning (cdfDefVarCompression): Deflate compression is only available for NetCDF4!\n",
      "cdo    monmean (Warning): Deflate compression not available for non NetCDF4 data!\n",
      "cdi  warning (cdfDefVarCompression): Deflate compression is only available for NetCDF4!\n"
     ]
    },
    {
     "name": "stdout",
     "output_type": "stream",
     "text": [
      "var: 2m_temperature, year: 1985\n"
     ]
    },
    {
     "name": "stderr",
     "output_type": "stream",
     "text": [
      "cdo    daymean (Warning): Deflate compression not available for non NetCDF4 data!\n",
      "cdi  warning (cdfDefVarCompression): Deflate compression is only available for NetCDF4!\n",
      "cdo    monmean (Warning): Deflate compression not available for non NetCDF4 data!\n",
      "cdi  warning (cdfDefVarCompression): Deflate compression is only available for NetCDF4!\n"
     ]
    },
    {
     "name": "stdout",
     "output_type": "stream",
     "text": [
      "var: 2m_temperature, year: 1986\n"
     ]
    },
    {
     "name": "stderr",
     "output_type": "stream",
     "text": [
      "cdo    daymean (Warning): Deflate compression not available for non NetCDF4 data!\n",
      "cdi  warning (cdfDefVarCompression): Deflate compression is only available for NetCDF4!\n",
      "cdo    monmean (Warning): Deflate compression not available for non NetCDF4 data!\n",
      "cdi  warning (cdfDefVarCompression): Deflate compression is only available for NetCDF4!\n"
     ]
    },
    {
     "name": "stdout",
     "output_type": "stream",
     "text": [
      "var: 2m_temperature, year: 1987\n"
     ]
    },
    {
     "name": "stderr",
     "output_type": "stream",
     "text": [
      "cdo    daymean (Warning): Deflate compression not available for non NetCDF4 data!\n",
      "cdi  warning (cdfDefVarCompression): Deflate compression is only available for NetCDF4!\n",
      "cdo    monmean (Warning): Deflate compression not available for non NetCDF4 data!\n",
      "cdi  warning (cdfDefVarCompression): Deflate compression is only available for NetCDF4!\n"
     ]
    },
    {
     "name": "stdout",
     "output_type": "stream",
     "text": [
      "var: 2m_temperature, year: 1988\n"
     ]
    },
    {
     "name": "stderr",
     "output_type": "stream",
     "text": [
      "cdo    daymean (Warning): Deflate compression not available for non NetCDF4 data!\n",
      "cdi  warning (cdfDefVarCompression): Deflate compression is only available for NetCDF4!\n",
      "cdo    monmean (Warning): Deflate compression not available for non NetCDF4 data!\n",
      "cdi  warning (cdfDefVarCompression): Deflate compression is only available for NetCDF4!\n"
     ]
    },
    {
     "name": "stdout",
     "output_type": "stream",
     "text": [
      "var: 2m_temperature, year: 1989\n"
     ]
    },
    {
     "name": "stderr",
     "output_type": "stream",
     "text": [
      "cdo    daymean (Warning): Deflate compression not available for non NetCDF4 data!\n",
      "cdi  warning (cdfDefVarCompression): Deflate compression is only available for NetCDF4!\n",
      "cdo    monmean (Warning): Deflate compression not available for non NetCDF4 data!\n",
      "cdi  warning (cdfDefVarCompression): Deflate compression is only available for NetCDF4!\n",
      "cdo    daymean (Warning): Deflate compression not available for non NetCDF4 data!\n",
      "cdi  warning (cdfDefVarCompression): Deflate compression is only available for NetCDF4!\n"
     ]
    },
    {
     "name": "stdout",
     "output_type": "stream",
     "text": [
      "var: 2m_temperature, year: 1990\n"
     ]
    },
    {
     "name": "stderr",
     "output_type": "stream",
     "text": [
      "cdo    monmean (Warning): Deflate compression not available for non NetCDF4 data!\n",
      "cdi  warning (cdfDefVarCompression): Deflate compression is only available for NetCDF4!\n"
     ]
    },
    {
     "name": "stdout",
     "output_type": "stream",
     "text": [
      "var: 2m_temperature, year: 1991\n"
     ]
    },
    {
     "name": "stderr",
     "output_type": "stream",
     "text": [
      "cdo    daymean (Warning): Deflate compression not available for non NetCDF4 data!\n",
      "cdi  warning (cdfDefVarCompression): Deflate compression is only available for NetCDF4!\n",
      "cdo    monmean (Warning): Deflate compression not available for non NetCDF4 data!\n",
      "cdi  warning (cdfDefVarCompression): Deflate compression is only available for NetCDF4!\n",
      "cdo    daymean (Warning): Deflate compression not available for non NetCDF4 data!\n",
      "cdi  warning (cdfDefVarCompression): Deflate compression is only available for NetCDF4!\n"
     ]
    },
    {
     "name": "stdout",
     "output_type": "stream",
     "text": [
      "var: 2m_temperature, year: 1992\n"
     ]
    },
    {
     "name": "stderr",
     "output_type": "stream",
     "text": [
      "cdo    monmean (Warning): Deflate compression not available for non NetCDF4 data!\n",
      "cdi  warning (cdfDefVarCompression): Deflate compression is only available for NetCDF4!\n"
     ]
    },
    {
     "name": "stdout",
     "output_type": "stream",
     "text": [
      "var: 2m_temperature, year: 1993\n"
     ]
    },
    {
     "name": "stderr",
     "output_type": "stream",
     "text": [
      "cdo    daymean (Warning): Deflate compression not available for non NetCDF4 data!\n",
      "cdi  warning (cdfDefVarCompression): Deflate compression is only available for NetCDF4!\n",
      "cdo    monmean (Warning): Deflate compression not available for non NetCDF4 data!\n",
      "cdi  warning (cdfDefVarCompression): Deflate compression is only available for NetCDF4!\n",
      "cdo    daymean (Warning): Deflate compression not available for non NetCDF4 data!\n",
      "cdi  warning (cdfDefVarCompression): Deflate compression is only available for NetCDF4!\n"
     ]
    },
    {
     "name": "stdout",
     "output_type": "stream",
     "text": [
      "var: 2m_temperature, year: 1994\n"
     ]
    },
    {
     "name": "stderr",
     "output_type": "stream",
     "text": [
      "cdo    monmean (Warning): Deflate compression not available for non NetCDF4 data!\n",
      "cdi  warning (cdfDefVarCompression): Deflate compression is only available for NetCDF4!\n"
     ]
    },
    {
     "name": "stdout",
     "output_type": "stream",
     "text": [
      "var: 2m_temperature, year: 1995\n"
     ]
    },
    {
     "name": "stderr",
     "output_type": "stream",
     "text": [
      "cdo    daymean (Warning): Deflate compression not available for non NetCDF4 data!\n",
      "cdi  warning (cdfDefVarCompression): Deflate compression is only available for NetCDF4!\n",
      "cdo    monmean (Warning): Deflate compression not available for non NetCDF4 data!\n",
      "cdi  warning (cdfDefVarCompression): Deflate compression is only available for NetCDF4!\n",
      "cdo    daymean (Warning): Deflate compression not available for non NetCDF4 data!\n",
      "cdi  warning (cdfDefVarCompression): Deflate compression is only available for NetCDF4!\n"
     ]
    },
    {
     "name": "stdout",
     "output_type": "stream",
     "text": [
      "var: 2m_temperature, year: 1996\n"
     ]
    },
    {
     "name": "stderr",
     "output_type": "stream",
     "text": [
      "cdo    monmean (Warning): Deflate compression not available for non NetCDF4 data!\n",
      "cdi  warning (cdfDefVarCompression): Deflate compression is only available for NetCDF4!\n"
     ]
    },
    {
     "name": "stdout",
     "output_type": "stream",
     "text": [
      "var: 2m_temperature, year: 1997\n"
     ]
    },
    {
     "name": "stderr",
     "output_type": "stream",
     "text": [
      "cdo    daymean (Warning): Deflate compression not available for non NetCDF4 data!\n",
      "cdi  warning (cdfDefVarCompression): Deflate compression is only available for NetCDF4!\n",
      "cdo    monmean (Warning): Deflate compression not available for non NetCDF4 data!\n",
      "cdi  warning (cdfDefVarCompression): Deflate compression is only available for NetCDF4!\n"
     ]
    },
    {
     "name": "stdout",
     "output_type": "stream",
     "text": [
      "var: 2m_temperature, year: 1998\n"
     ]
    },
    {
     "name": "stderr",
     "output_type": "stream",
     "text": [
      "cdo    daymean (Warning): Deflate compression not available for non NetCDF4 data!\n",
      "cdi  warning (cdfDefVarCompression): Deflate compression is only available for NetCDF4!\n",
      "cdo    monmean (Warning): Deflate compression not available for non NetCDF4 data!\n",
      "cdi  warning (cdfDefVarCompression): Deflate compression is only available for NetCDF4!\n"
     ]
    },
    {
     "name": "stdout",
     "output_type": "stream",
     "text": [
      "var: 2m_temperature, year: 1999\n"
     ]
    },
    {
     "name": "stderr",
     "output_type": "stream",
     "text": [
      "cdo    daymean (Warning): Deflate compression not available for non NetCDF4 data!\n",
      "cdi  warning (cdfDefVarCompression): Deflate compression is only available for NetCDF4!\n",
      "cdo    monmean (Warning): Deflate compression not available for non NetCDF4 data!\n",
      "cdi  warning (cdfDefVarCompression): Deflate compression is only available for NetCDF4!\n",
      "cdo    daymean (Warning): Deflate compression not available for non NetCDF4 data!\n",
      "cdi  warning (cdfDefVarCompression): Deflate compression is only available for NetCDF4!\n"
     ]
    },
    {
     "name": "stdout",
     "output_type": "stream",
     "text": [
      "var: 2m_temperature, year: 2000\n"
     ]
    },
    {
     "name": "stderr",
     "output_type": "stream",
     "text": [
      "cdo    monmean (Warning): Deflate compression not available for non NetCDF4 data!\n",
      "cdi  warning (cdfDefVarCompression): Deflate compression is only available for NetCDF4!\n"
     ]
    },
    {
     "name": "stdout",
     "output_type": "stream",
     "text": [
      "var: 2m_temperature, year: 2001\n"
     ]
    },
    {
     "name": "stderr",
     "output_type": "stream",
     "text": [
      "cdo    daymean (Warning): Deflate compression not available for non NetCDF4 data!\n",
      "cdi  warning (cdfDefVarCompression): Deflate compression is only available for NetCDF4!\n",
      "cdo    monmean (Warning): Deflate compression not available for non NetCDF4 data!\n",
      "cdi  warning (cdfDefVarCompression): Deflate compression is only available for NetCDF4!\n",
      "cdo    daymean (Warning): Deflate compression not available for non NetCDF4 data!\n",
      "cdi  warning (cdfDefVarCompression): Deflate compression is only available for NetCDF4!\n"
     ]
    },
    {
     "name": "stdout",
     "output_type": "stream",
     "text": [
      "var: 2m_temperature, year: 2002\n"
     ]
    },
    {
     "name": "stderr",
     "output_type": "stream",
     "text": [
      "cdo    monmean (Warning): Deflate compression not available for non NetCDF4 data!\n",
      "cdi  warning (cdfDefVarCompression): Deflate compression is only available for NetCDF4!\n"
     ]
    },
    {
     "name": "stdout",
     "output_type": "stream",
     "text": [
      "var: 2m_temperature, year: 2003\n"
     ]
    },
    {
     "name": "stderr",
     "output_type": "stream",
     "text": [
      "cdo    daymean (Warning): Deflate compression not available for non NetCDF4 data!\n",
      "cdi  warning (cdfDefVarCompression): Deflate compression is only available for NetCDF4!\n",
      "cdo    monmean (Warning): Deflate compression not available for non NetCDF4 data!\n",
      "cdi  warning (cdfDefVarCompression): Deflate compression is only available for NetCDF4!\n",
      "cdo    daymean (Warning): Deflate compression not available for non NetCDF4 data!\n",
      "cdi  warning (cdfDefVarCompression): Deflate compression is only available for NetCDF4!\n"
     ]
    },
    {
     "name": "stdout",
     "output_type": "stream",
     "text": [
      "var: 2m_temperature, year: 2004\n"
     ]
    },
    {
     "name": "stderr",
     "output_type": "stream",
     "text": [
      "cdo    monmean (Warning): Deflate compression not available for non NetCDF4 data!\n",
      "cdi  warning (cdfDefVarCompression): Deflate compression is only available for NetCDF4!\n",
      "cdo    daymean (Warning): Deflate compression not available for non NetCDF4 data!\n",
      "cdi  warning (cdfDefVarCompression): Deflate compression is only available for NetCDF4!\n"
     ]
    },
    {
     "name": "stdout",
     "output_type": "stream",
     "text": [
      "var: 2m_temperature, year: 2005\n"
     ]
    },
    {
     "name": "stderr",
     "output_type": "stream",
     "text": [
      "cdo    monmean (Warning): Deflate compression not available for non NetCDF4 data!\n",
      "cdi  warning (cdfDefVarCompression): Deflate compression is only available for NetCDF4!\n"
     ]
    },
    {
     "name": "stdout",
     "output_type": "stream",
     "text": [
      "var: 2m_temperature, year: 2006\n"
     ]
    },
    {
     "name": "stderr",
     "output_type": "stream",
     "text": [
      "cdo    daymean (Warning): Deflate compression not available for non NetCDF4 data!\n",
      "cdi  warning (cdfDefVarCompression): Deflate compression is only available for NetCDF4!\n",
      "cdo    monmean (Warning): Deflate compression not available for non NetCDF4 data!\n",
      "cdi  warning (cdfDefVarCompression): Deflate compression is only available for NetCDF4!\n",
      "cdo    daymean (Warning): Deflate compression not available for non NetCDF4 data!\n",
      "cdi  warning (cdfDefVarCompression): Deflate compression is only available for NetCDF4!\n"
     ]
    },
    {
     "name": "stdout",
     "output_type": "stream",
     "text": [
      "var: 2m_temperature, year: 2007\n"
     ]
    },
    {
     "name": "stderr",
     "output_type": "stream",
     "text": [
      "cdo    monmean (Warning): Deflate compression not available for non NetCDF4 data!\n",
      "cdi  warning (cdfDefVarCompression): Deflate compression is only available for NetCDF4!\n",
      "cdo    daymean (Warning): Deflate compression not available for non NetCDF4 data!\n",
      "cdi  warning (cdfDefVarCompression): Deflate compression is only available for NetCDF4!\n"
     ]
    },
    {
     "name": "stdout",
     "output_type": "stream",
     "text": [
      "var: 2m_temperature, year: 2008\n"
     ]
    },
    {
     "name": "stderr",
     "output_type": "stream",
     "text": [
      "cdo    monmean (Warning): Deflate compression not available for non NetCDF4 data!\n",
      "cdi  warning (cdfDefVarCompression): Deflate compression is only available for NetCDF4!\n"
     ]
    },
    {
     "name": "stdout",
     "output_type": "stream",
     "text": [
      "var: 2m_temperature, year: 2009\n"
     ]
    },
    {
     "name": "stderr",
     "output_type": "stream",
     "text": [
      "cdo    daymean (Warning): Deflate compression not available for non NetCDF4 data!\n",
      "cdi  warning (cdfDefVarCompression): Deflate compression is only available for NetCDF4!\n",
      "cdo    monmean (Warning): Deflate compression not available for non NetCDF4 data!\n",
      "cdi  warning (cdfDefVarCompression): Deflate compression is only available for NetCDF4!\n"
     ]
    },
    {
     "name": "stdout",
     "output_type": "stream",
     "text": [
      "var: 2m_temperature, year: 2010\n"
     ]
    },
    {
     "name": "stderr",
     "output_type": "stream",
     "text": [
      "cdo    daymean (Warning): Deflate compression not available for non NetCDF4 data!\n",
      "cdi  warning (cdfDefVarCompression): Deflate compression is only available for NetCDF4!\n",
      "cdo    monmean (Warning): Deflate compression not available for non NetCDF4 data!\n",
      "cdi  warning (cdfDefVarCompression): Deflate compression is only available for NetCDF4!\n",
      "cdo    daymean (Warning): Deflate compression not available for non NetCDF4 data!\n",
      "cdi  warning (cdfDefVarCompression): Deflate compression is only available for NetCDF4!\n"
     ]
    },
    {
     "name": "stdout",
     "output_type": "stream",
     "text": [
      "var: 2m_temperature, year: 2011\n"
     ]
    },
    {
     "name": "stderr",
     "output_type": "stream",
     "text": [
      "cdo    monmean (Warning): Deflate compression not available for non NetCDF4 data!\n",
      "cdi  warning (cdfDefVarCompression): Deflate compression is only available for NetCDF4!\n",
      "cdo    daymean (Warning): Deflate compression not available for non NetCDF4 data!\n",
      "cdi  warning (cdfDefVarCompression): Deflate compression is only available for NetCDF4!\n"
     ]
    },
    {
     "name": "stdout",
     "output_type": "stream",
     "text": [
      "var: 2m_temperature, year: 2012\n"
     ]
    },
    {
     "name": "stderr",
     "output_type": "stream",
     "text": [
      "cdo    monmean (Warning): Deflate compression not available for non NetCDF4 data!\n",
      "cdi  warning (cdfDefVarCompression): Deflate compression is only available for NetCDF4!\n"
     ]
    },
    {
     "name": "stdout",
     "output_type": "stream",
     "text": [
      "var: 2m_temperature, year: 2013\n"
     ]
    },
    {
     "name": "stderr",
     "output_type": "stream",
     "text": [
      "cdo    daymean (Warning): Deflate compression not available for non NetCDF4 data!\n",
      "cdi  warning (cdfDefVarCompression): Deflate compression is only available for NetCDF4!\n",
      "cdo    monmean (Warning): Deflate compression not available for non NetCDF4 data!\n",
      "cdi  warning (cdfDefVarCompression): Deflate compression is only available for NetCDF4!\n"
     ]
    },
    {
     "name": "stdout",
     "output_type": "stream",
     "text": [
      "var: 2m_temperature, year: 2014\n"
     ]
    },
    {
     "name": "stderr",
     "output_type": "stream",
     "text": [
      "cdo    daymean (Warning): Deflate compression not available for non NetCDF4 data!\n",
      "cdi  warning (cdfDefVarCompression): Deflate compression is only available for NetCDF4!\n",
      "cdo    monmean (Warning): Deflate compression not available for non NetCDF4 data!\n",
      "cdi  warning (cdfDefVarCompression): Deflate compression is only available for NetCDF4!\n",
      "cdo    daymean (Warning): Deflate compression not available for non NetCDF4 data!\n",
      "cdi  warning (cdfDefVarCompression): Deflate compression is only available for NetCDF4!\n"
     ]
    },
    {
     "name": "stdout",
     "output_type": "stream",
     "text": [
      "var: 2m_temperature, year: 2015\n"
     ]
    },
    {
     "name": "stderr",
     "output_type": "stream",
     "text": [
      "cdo    monmean (Warning): Deflate compression not available for non NetCDF4 data!\n",
      "cdi  warning (cdfDefVarCompression): Deflate compression is only available for NetCDF4!\n",
      "cdo    daymean (Warning): Deflate compression not available for non NetCDF4 data!\n",
      "cdi  warning (cdfDefVarCompression): Deflate compression is only available for NetCDF4!\n"
     ]
    },
    {
     "name": "stdout",
     "output_type": "stream",
     "text": [
      "var: 2m_temperature, year: 2016\n"
     ]
    },
    {
     "name": "stderr",
     "output_type": "stream",
     "text": [
      "cdo    monmean (Warning): Deflate compression not available for non NetCDF4 data!\n",
      "cdi  warning (cdfDefVarCompression): Deflate compression is only available for NetCDF4!\n"
     ]
    },
    {
     "name": "stdout",
     "output_type": "stream",
     "text": [
      "var: 2m_temperature, year: 2017\n"
     ]
    },
    {
     "name": "stderr",
     "output_type": "stream",
     "text": [
      "cdo    daymean (Warning): Deflate compression not available for non NetCDF4 data!\n",
      "cdi  warning (cdfDefVarCompression): Deflate compression is only available for NetCDF4!\n",
      "cdo    monmean (Warning): Deflate compression not available for non NetCDF4 data!\n",
      "cdi  warning (cdfDefVarCompression): Deflate compression is only available for NetCDF4!\n"
     ]
    },
    {
     "name": "stdout",
     "output_type": "stream",
     "text": [
      "var: 2m_temperature, year: 2018\n"
     ]
    },
    {
     "name": "stderr",
     "output_type": "stream",
     "text": [
      "cdo    daymean (Warning): Deflate compression not available for non NetCDF4 data!\n",
      "cdi  warning (cdfDefVarCompression): Deflate compression is only available for NetCDF4!\n",
      "cdo    monmean (Warning): Deflate compression not available for non NetCDF4 data!\n",
      "cdi  warning (cdfDefVarCompression): Deflate compression is only available for NetCDF4!\n"
     ]
    },
    {
     "name": "stdout",
     "output_type": "stream",
     "text": [
      "var: 2m_temperature, year: 2019\n"
     ]
    },
    {
     "name": "stderr",
     "output_type": "stream",
     "text": [
      "cdo    daymean (Warning): Deflate compression not available for non NetCDF4 data!\n",
      "cdi  warning (cdfDefVarCompression): Deflate compression is only available for NetCDF4!\n",
      "cdo    monmean (Warning): Deflate compression not available for non NetCDF4 data!\n",
      "cdi  warning (cdfDefVarCompression): Deflate compression is only available for NetCDF4!\n",
      "cdo    daymean: Open failed on >/dodrio/scratch/projects/2022_200/project_input/External/observations/era5/europe/hourly/2m_temperature/era5-hourly-europe-2m_temperature-2020.nc<\n",
      "                No such file or directory\n",
      "cdo    monmean: Open failed on >/dodrio/scratch/projects/2022_200/project_input/External/observations/era5/europe/daily/2m_temperature/era5-daily-europe-2m_temperature-2020.nc<\n",
      "                No such file or directory\n"
     ]
    },
    {
     "name": "stdout",
     "output_type": "stream",
     "text": [
      "var: 2m_temperature, year: 2020\n",
      "var: 2m_temperature, year: 2021\n"
     ]
    },
    {
     "name": "stderr",
     "output_type": "stream",
     "text": [
      "cdo    daymean: Open failed on >/dodrio/scratch/projects/2022_200/project_input/External/observations/era5/europe/hourly/2m_temperature/era5-hourly-europe-2m_temperature-2021.nc<\n",
      "                No such file or directory\n",
      "cdo    monmean: Open failed on >/dodrio/scratch/projects/2022_200/project_input/External/observations/era5/europe/daily/2m_temperature/era5-daily-europe-2m_temperature-2021.nc<\n",
      "                No such file or directory\n",
      "cdo    daymean: Open failed on >/dodrio/scratch/projects/2022_200/project_input/External/observations/era5/europe/hourly/2m_temperature/era5-hourly-europe-2m_temperature-2022.nc<\n",
      "                No such file or directory\n",
      "cdo    monmean: Open failed on >/dodrio/scratch/projects/2022_200/project_input/External/observations/era5/europe/daily/2m_temperature/era5-daily-europe-2m_temperature-2022.nc<\n",
      "                No such file or directory\n"
     ]
    },
    {
     "name": "stdout",
     "output_type": "stream",
     "text": [
      "var: 2m_temperature, year: 2022\n",
      "var: 2m_temperature, year: 2023\n"
     ]
    },
    {
     "name": "stderr",
     "output_type": "stream",
     "text": [
      "cdo    daymean: Open failed on >/dodrio/scratch/projects/2022_200/project_input/External/observations/era5/europe/hourly/2m_temperature/era5-hourly-europe-2m_temperature-2023.nc<\n",
      "                No such file or directory\n",
      "cdo    monmean: Open failed on >/dodrio/scratch/projects/2022_200/project_input/External/observations/era5/europe/daily/2m_temperature/era5-daily-europe-2m_temperature-2023.nc<\n",
      "                No such file or directory\n"
     ]
    }
   ],
   "source": [
    "for var_to_use in var_name_lst:\n",
    "    print(f\"dataset: {dataset}, var: {var_to_use}\")\n",
    "    dir_base_var_hr = os.path.join(dir_base_hr, var_to_use)\n",
    "    dir_base_var_day = os.path.join(dir_base_day, var_to_use)\n",
    "    os.makedirs(dir_base_var_day, exist_ok=True)\n",
    "    dir_base_var_mon = os.path.join(dir_base_mon, var_to_use)\n",
    "    os.makedirs(dir_base_var_mon, exist_ok=True)\n",
    "    \n",
    "    use_cumul = False  # This needs to be set based on the specific dataset\n",
    "    for yr_to_use in yr_lst:\n",
    "        print(f\"var: {var_to_use}, year: {yr_to_use}\")\n",
    "        \n",
    "        file_base_hr = f\"{dataset}-{time_freq_hr}-{domain}-{var_to_use}-{yr_to_use}.nc\"\n",
    "        file_hr = os.path.join(dir_base_var_hr, file_base_hr)\n",
    "        \n",
    "        if use_cumul:\n",
    "            file_tmp1 = os.path.join(scratch_dir_to_use, f\"{file_base_hr}.tmp1\")\n",
    "            file_tmp2 = os.path.join(scratch_dir_to_use, f\"{file_base_hr}.tmp2\")\n",
    "            file_tmp3 = os.path.join(scratch_dir_to_use, f\"{file_base_hr}.tmp3\")\n",
    "            subprocess.run(f\"cdo -b F64 -shifttime,-1hour -selhour,1 {file_hr} {file_tmp1}\", shell=True)\n",
    "            subprocess.run(f\"cdo -b F64 -shifttime,-1hour -selhour,0,2/23 -deltat {file_hr} {file_tmp2}\", shell=True)\n",
    "            subprocess.run(f\"cdo -mergetime {file_tmp1} {file_tmp2} {file_tmp3}\", shell=True)\n",
    "            os.remove(file_tmp1)\n",
    "            os.remove(file_tmp2)\n",
    "        elif var_to_use == \"10m_v_component_of_wind\":\n",
    "            file_tmp1 = file_hr.replace(\"_v_\", \"_u_\")\n",
    "            file_tmp2 = os.path.join(scratch_dir_to_use, f\"{file_base_hr}.tmp2\")\n",
    "            file_tmp3 = os.path.join(scratch_dir_to_use, f\"{file_base_hr}.tmp3\")\n",
    "            subprocess.run(f\"cdo merge {file_hr} {file_tmp1} {file_tmp2}\", shell=True)\n",
    "            subprocess.run(f\"cdo expr,'v10=sqrt(u10*u10+v10*v10)' {file_tmp2} {file_tmp3}\", shell=True)\n",
    "            os.remove(file_tmp2)\n",
    "        elif var_to_use == \"10m_u_component_of_wind\":\n",
    "            file_tmp1 = file_hr.replace(\"_u_\", \"_v_\")\n",
    "            file_tmp2 = os.path.join(scratch_dir_to_use, f\"{file_base_hr}.tmp2\")\n",
    "            file_tmp3 = os.path.join(scratch_dir_to_use, f\"{file_base_hr}.tmp3\")\n",
    "            subprocess.run(f\"cdo merge {file_hr} {file_tmp1} {file_tmp2}\", shell=True)\n",
    "            subprocess.run(f\"cdo expr,'u10=sqrt(u10*u10+v10*v10)' {file_tmp2} {file_tmp3}\", shell=True)\n",
    "            os.remove(file_tmp2)\n",
    "        else:\n",
    "            file_tmp3 = file_hr\n",
    "\n",
    "        for fun_to_use in statistic:\n",
    "            file_day = os.path.join(dir_base_var_day, f\"{dataset}-{time_freq_day}-{domain}-{var_to_use}{statistic_text[fun_to_use]}-{yr_to_use}.nc\")\n",
    "            file_mon = os.path.join(dir_base_var_mon, f\"{dataset}-{time_freq_mon}-{domain}-{var_to_use}{statistic_text[fun_to_use]}-{yr_to_use}.nc\")\n",
    "\n",
    "            subprocess.run(f\"cdo -z zip day{fun_to_use} {file_tmp3} {file_day}\", shell=True)\n",
    "            subprocess.run(f\"cdo -z zip monmean {file_day} {file_mon}\", shell=True)\n",
    "\n",
    "        if use_cumul:\n",
    "            os.remove(file_tmp3)\n",
    "\n",
    "\n"
   ]
  }
 ],
 "metadata": {
  "kernelspec": {
   "display_name": "env_geo",
   "language": "python",
   "name": "env_geo"
  },
  "language_info": {
   "codemirror_mode": {
    "name": "ipython",
    "version": 3
   },
   "file_extension": ".py",
   "mimetype": "text/x-python",
   "name": "python",
   "nbconvert_exporter": "python",
   "pygments_lexer": "ipython3",
   "version": "3.12.2"
  }
 },
 "nbformat": 4,
 "nbformat_minor": 2
}
