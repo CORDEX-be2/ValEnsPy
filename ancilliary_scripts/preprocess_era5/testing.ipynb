{
 "cells": [
  {
   "cell_type": "code",
   "execution_count": 11,
   "metadata": {},
   "outputs": [],
   "source": [
    "import os\n",
    "import subprocess\n",
    "import shutil\n",
    "\n",
    "import pandas as pd\n",
    "\n",
    "\n",
    "# Directories setup\n",
    "dir_base = \"/dodrio/scratch/projects/2022_200/project_input/External/observations/\"\n",
    "\n",
    "# Variables initialization\n",
    "flag_calc_min_max = False # if set to true, also the min and max are calculated, in addition to the mean. \n",
    "dataset = \"era5\"  # \"era5-land\"\n",
    "domain = \"europe\"  # \"europe\"\n",
    "init_yr = 1940\n",
    "end_yr = 2023\n",
    "\n",
    "var_name_lst = [\n",
    "    \"2m_temperature\"\n",
    "]\n",
    "\n",
    "if flag_calc_min_max:\n",
    "    statistic = [\"mean\", \"max\", \"min\"]\n",
    "    statistic_text = {\"mean\": \"\", \"max\": \"_max\", \"min\": \"_min\"}\n",
    "else:\n",
    "    statistic = [\"mean\"]\n",
    "    statistic_text = {\"mean\": \"\"}\n",
    "\n",
    "amt_fun = len(statistic)\n",
    "\n",
    "amt_var = len(var_name_lst)\n",
    "yr_lst = range(init_yr, end_yr + 1)\n",
    "amt_yr = len(yr_lst)\n",
    "\n",
    "time_freq_hr = \"hourly\"  # Or whichever time frequency is applicable\n",
    "time_freq_day = \"daily\"\n",
    "time_freq_mon = \"monthly\"\n",
    "\n",
    "dir_base_hr = os.path.join(dir_base, dataset, domain, time_freq_hr)\n",
    "dir_base_day = os.path.join(dir_base, dataset, domain, time_freq_day)\n",
    "dir_base_mon = os.path.join(dir_base, dataset, domain, time_freq_mon)\n"
   ]
  },
  {
   "cell_type": "code",
   "execution_count": 20,
   "metadata": {},
   "outputs": [
    {
     "name": "stdout",
     "output_type": "stream",
     "text": [
      "dataset: era5, var: 2m_temperature\n",
      "var: 2m_temperature, year: 1940\n"
     ]
    },
    {
     "name": "stderr",
     "output_type": "stream",
     "text": [
      "cdi  warning (cdfInqContents): Coordinates variable number can't be assigned!\n",
      "cdi  warning (cdfInqContents): Coordinates variable expver can't be assigned!\n"
     ]
    }
   ],
   "source": [
    "for var_to_use in var_name_lst:\n",
    "    print(f\"dataset: {dataset}, var: {var_to_use}\")\n",
    "    dir_base_var_hr = os.path.join(dir_base_hr, var_to_use)\n",
    "    dir_base_var_day = os.path.join(dir_base_day, var_to_use)\n",
    "    os.makedirs(dir_base_var_day, exist_ok=True)\n",
    "    dir_base_var_mon = os.path.join(dir_base_mon, var_to_use)\n",
    "    os.makedirs(dir_base_var_mon, exist_ok=True)\n",
    "    if dataset == \"era5-land\": \n",
    "        df_vars = pd.read_csv('era5-land_vars.csv')\n",
    "        flag_cumul = df_vars.loc[df_vars['name.long'] == var_to_use,'cumul'] ==1\n",
    "    else: \n",
    "        flag_cumul = False\n",
    "    for yr_to_use in yr_lst:\n",
    "        print(f\"var: {var_to_use}, year: {yr_to_use}\")\n",
    "        \n",
    "        file_base_hr = f\"{dataset}-{time_freq_hr}-{domain}-{var_to_use}-{yr_to_use}.nc\"\n",
    "        file_hr = os.path.join(dir_base_var_hr, file_base_hr)\n",
    "        \n",
    "        if use_cumul:\n",
    "            file_tmp1 = os.path.join(scratch_dir_to_use, f\"{file_base_hr}.tmp1\")\n",
    "            file_tmp2 = os.path.join(scratch_dir_to_use, f\"{file_base_hr}.tmp2\")\n",
    "            file_tmp3 = os.path.join(scratch_dir_to_use, f\"{file_base_hr}.tmp3\")\n",
    "            subprocess.run(f\"cdo -b F64 -shifttime,-1hour -selhour,1 {file_hr} {file_tmp1}\", shell=True)\n",
    "            subprocess.run(f\"cdo -b F64 -shifttime,-1hour -selhour,0,2/23 -deltat {file_hr} {file_tmp2}\", shell=True)\n",
    "            subprocess.run(f\"cdo -mergetime {file_tmp1} {file_tmp2} {file_tmp3}\", shell=True)\n",
    "            os.remove(file_tmp1)\n",
    "            os.remove(file_tmp2)\n",
    "        elif var_to_use == \"10m_v_component_of_wind\":\n",
    "            file_tmp1 = file_hr.replace(\"_v_\", \"_u_\")\n",
    "            file_tmp2 = os.path.join(scratch_dir_to_use, f\"{file_base_hr}.tmp2\")\n",
    "            file_tmp3 = os.path.join(scratch_dir_to_use, f\"{file_base_hr}.tmp3\")\n",
    "            subprocess.run(f\"cdo merge {file_hr} {file_tmp1} {file_tmp2}\", shell=True)\n",
    "            subprocess.run(f\"cdo expr,'v10=sqrt(u10*u10+v10*v10)' {file_tmp2} {file_tmp3}\", shell=True)\n",
    "            os.remove(file_tmp2)\n",
    "        elif var_to_use == \"10m_u_component_of_wind\":\n",
    "            file_tmp1 = file_hr.replace(\"_u_\", \"_v_\")\n",
    "            file_tmp2 = os.path.join(scratch_dir_to_use, f\"{file_base_hr}.tmp2\")\n",
    "            file_tmp3 = os.path.join(scratch_dir_to_use, f\"{file_base_hr}.tmp3\")\n",
    "            subprocess.run(f\"cdo merge {file_hr} {file_tmp1} {file_tmp2}\", shell=True)\n",
    "            subprocess.run(f\"cdo expr,'u10=sqrt(u10*u10+v10*v10)' {file_tmp2} {file_tmp3}\", shell=True)\n",
    "            os.remove(file_tmp2)\n",
    "        else:\n",
    "            file_tmp3 = file_hr\n",
    "\n",
    "        for fun_to_use in statistic:\n",
    "            file_day = os.path.join(dir_base_var_day, f\"{dataset}-{time_freq_day}-{domain}-{var_to_use}{statistic_text[fun_to_use]}-{yr_to_use}.nc\")\n",
    "            file_mon = os.path.join(dir_base_var_mon, f\"{dataset}-{time_freq_mon}-{domain}-{var_to_use}{statistic_text[fun_to_use]}-{yr_to_use}.nc\")\n",
    "\n",
    "            subprocess.run(f\"cdo -z zip day{fun_to_use} {file_tmp3} {file_day}\", shell=True)\n",
    "            subprocess.run(f\"cdo -z zip monmean {file_day} {file_mon}\", shell=True)\n",
    "\n",
    "        if use_cumul:\n",
    "            os.remove(file_tmp3)\n",
    "\n",
    "\n"
   ]
  },
  {
   "cell_type": "code",
   "execution_count": null,
   "metadata": {},
   "outputs": [],
   "source": []
  }
 ],
 "metadata": {
  "kernelspec": {
   "display_name": "env_geo",
   "language": "python",
   "name": "env_geo"
  },
  "language_info": {
   "codemirror_mode": {
    "name": "ipython",
    "version": 3
   },
   "file_extension": ".py",
   "mimetype": "text/x-python",
   "name": "python",
   "nbconvert_exporter": "python",
   "pygments_lexer": "ipython3",
   "version": "3.12.2"
  }
 },
 "nbformat": 4,
 "nbformat_minor": 2
}
