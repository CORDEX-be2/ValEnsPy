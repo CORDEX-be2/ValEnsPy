{
 "cells": [
  {
   "cell_type": "code",
   "execution_count": 1,
   "metadata": {},
   "outputs": [
    {
     "name": "stdout",
     "output_type": "stream",
     "text": [
      "Converting EVAPOTRANS_REF\n"
     ]
    }
   ],
   "source": [
    "#!/usr/bin/env python3\n",
    "\n",
    "# Script to load the CLIMATE DATA .Rdata files and grid them and convert them to netcdf files per variable\n",
    "# uses the .RData files retrieved from the RMI Oracle databse through the climate_grid_daily.txt script from Bert Van Schaeybroeck\n",
    "\n",
    "# I. Vanderkelen, June 2024\n",
    "\n",
    "import rpy2.robjects as robjects\n",
    "from rpy2.robjects import pandas2ri\n",
    "import xarray as xr\n",
    "import pandas as pd\n",
    "from datetime import date\n",
    "import numpy as np\n",
    "\n",
    "# activate r to pandas convertor\n",
    "pandas2ri.activate()\n",
    "\n",
    "\n",
    "# user settings\n",
    "variables = [\"EVAPOTRANS_REF\"]\n",
    "#], \"SUN_INT\", \"SUN_DURATION\", \"PRECIP_DURATION\", \"WIND_PEAK_SPEED\", \"PRECIP_1H_MAX\", \"EVAPOTRANS_REF\", \"TEMP_MAX\",\"HUMIDITY_RELATIVE\",\"TEMP_MIN\", \"TEMP_AVG\", \"WIND_SPEED\", \"PRESSURE\", \"SHORT_WAVE_FROM_SKY\", \"SUN_INT_HORIZ\", \"PRECIP_QUANTITY\"]\n",
    "\n",
    "# load climategrid meta data on variables and units\n",
    "meta = pd.read_csv('CLIMATE_GRID_meta.csv', delimiter=\";\")\n",
    "\n",
    "# load information on projection used \n",
    "proj_string = \"+proj=lcc +lat_1=49.83333388888889 +lat_2=51.16666722222222 +lat_0=90 +lon_0=4.367486666666666 +x_0=150000.013 +y_0=5400088.438 +ellps=intl +units=m +no_defs\"\n",
    "\n",
    "\n",
    "start_yr = 1950\n",
    "end_yr = 2023\n",
    "dates = pd.date_range(start=f'{start_yr}-01-01', end=f'{end_yr}-12-31', freq='D')\n",
    "\n",
    "data_dir = '/dodrio/scratch/projects/2022_200/project_output/RMIB-UGent/vsc31332_inne/CLIMATE_GRID/'\n",
    "\n",
    "\n",
    "for variable in variables: \n",
    "\tprint('Converting '+ variable)\n",
    "\n",
    "\tfilename = 'climate_atlas_'+str(variable)+'_CLIMATE_GRID_'+str(start_yr)+'_'+str(end_yr)+'.Rdata'\n",
    "\n",
    "\t# load the robject\n",
    "\trobjects.r['load'](data_dir+filename)\n",
    "\n",
    "\t# load the pixel lat and lon variable and use this to transpose to own defined grid\n",
    "\tdf_coords =  pandas2ri.rpy2py(robjects.r['grid.pt.lst'])\n",
    "\n",
    "\n",
    "\t# define own grid  (in the original data, the delta's are not always the same, but the overall distance is similar)\n",
    "\tlons = df_coords['PIXEL_LON_CENTER']\n",
    "\tlon_min = lons.min()\n",
    "\tlon_max = lons.max()\n",
    "\tdelta_lon = 0.0699 #°\n",
    "\tlon_grid = np.arange(lon_min,lon_max+delta_lon,delta_lon)\n",
    "\n",
    "\tlats = df_coords['PIXEL_LAT_CENTER']\n",
    "\tlat_min = lats.min()\n",
    "\tlat_max = lats.max()\n",
    "\tdelta_lat = 0.045 #°\n",
    "\tlat_grid = np.arange(lat_min,lat_max+delta_lat,delta_lat)\n",
    "\n",
    "\n",
    "\t# Find the nearest index in the lons and lats grids and add this to coordinates dataframe\n",
    "\tdef find_nearest(array, value):\n",
    "\t\tidx = (np.abs(array - value)).argmin()\n",
    "\t\treturn idx\n",
    "\n",
    "\tdf_coords['LON_INDEX'] = df_coords['PIXEL_LON_CENTER'].apply(lambda x: find_nearest(lon_grid, x))\n",
    "\tdf_coords['LAT_INDEX'] = df_coords['PIXEL_LAT_CENTER'].apply(lambda x: find_nearest(lat_grid, x))\n",
    "\n",
    "\n",
    "\t# load the vector data\n",
    "\tdata_raw = robjects.r['grid.arr']\n",
    "\n",
    "\t#reshape around time-axis\n",
    "\tntime = data_raw.shape[1] * data_raw.shape[2] * data_raw.shape[3]\n",
    "\tdata = data_raw.reshape(1360, ntime)\n",
    "\n",
    "\t# reshape around lat lon axis\n",
    "\n",
    "\t# create empty array to fill with gridded data\n",
    "\tgrid_data = np.full(( ntime,  len(lat_grid),len(lon_grid)  ), np.nan)\n",
    "\n",
    "\t# Fill the grid data array\n",
    "\tfor index, row in df_coords.iterrows():\n",
    "\t\tlat_idx = int(row['LAT_INDEX'])\n",
    "\t\tlon_idx = int(row['LON_INDEX'])\n",
    "\t\tpixel_id = int(row['PIXEL_ID'])\n",
    "\t\t\n",
    "\t\tgrid_data[:, lat_idx, lon_idx ] = data[int(pixel_id) - 1, :]\n",
    "\n",
    "\n",
    "\t# time selection - the GRIDDATA is downloaded up to the last day \n",
    "\t# only select full years here\n",
    "\tgrid_data = grid_data[:len(dates),:,:]\n",
    "\n",
    "\n",
    "\t# get metadata from meta dataframe\n",
    "\tunit = meta.loc[meta['variable'] == variable, 'unit'].values[0] \n",
    "\tlong_name = meta.loc[meta['variable'] == variable, 'long_name'].values[0] \n",
    "\tdescription = meta.loc[meta['variable'] == variable, 'description'].values[0] \n",
    "\n",
    "\t# create data array\n",
    "\tda = xr.DataArray(\n",
    "\t\tdata=grid_data,\n",
    "\t\tdims=[\"time\",  \"lat\", \"lon\"],\n",
    "\t\tcoords=dict(\n",
    "\t\t\tlon=lon_grid,\n",
    "\t\t\tlat=lat_grid,\n",
    "\t\t\ttime=dates,\n",
    "\t\t),\n",
    "\t\tattrs=dict(\n",
    "\t\t\tlong_name=long_name,\n",
    "\t\t\tdescription = description,\n",
    "\t\t\tunits=unit,\n",
    "\t\t),\n",
    "\t)\n",
    "\n",
    "\tda['lat'].attrs = {'units':\"degrees_north\", 'long_name': \"latitude\"}\n",
    "\tda['lon'].attrs = {'units':\"degrees_east\", 'long_name': \"longitude\"}\n",
    "\n",
    "\t# convert to dataset and give dataset attributes\n",
    "\tds = da.to_dataset(name=variable)\n",
    "\td_attrs = {\"creation_date\": date.today().strftime(\"%d-%m-%Y\"), \"creators\": \"Ghilain N., Van Schaeybroeck B., Vanderkelen I.\", \n",
    "\t\"contact\": \"inne.vanderkelen@meteo.be\", \"version\": \"1.1\", \"affiliation\": \"Royal Meteorological Institute of Belgium\"}\n",
    "\tds.attrs = d_attrs\n",
    "\n",
    "\t# export to netcdf\n",
    "\tfilename_out = str(variable)+'_CLIMATE_GRID_'+str(start_yr)+'_'+str(end_yr)+'_daily.nc'\n",
    "\tds.to_netcdf(data_dir + filename_out, encoding={'time':  {'dtype': 'int32'} })\n",
    "\n"
   ]
  },
  {
   "cell_type": "code",
   "execution_count": 2,
   "metadata": {},
   "outputs": [
    {
     "name": "stdout",
     "output_type": "stream",
     "text": [
      "Objects in R environment after loading the file:\n",
      "grid.arr\n",
      "grid.pt.lst\n",
      "grid.vec\n",
      "munic.arr\n",
      "munic.vec\n"
     ]
    }
   ],
   "source": [
    "robjects.r['load'](data_dir + filename)\n",
    "\n",
    "# List all objects in the R environment\n",
    "all_objects = robjects.r.ls()\n",
    "\n",
    "# Print all objects\n",
    "print(\"Objects in R environment after loading the file:\")\n",
    "for obj in all_objects:\n",
    "    print(obj)"
   ]
  },
  {
   "cell_type": "code",
   "execution_count": 23,
   "metadata": {},
   "outputs": [
    {
     "name": "stdout",
     "output_type": "stream",
     "text": [
      "Converting TEMP_MAX\n"
     ]
    }
   ],
   "source": [
    "#!/usr/bin/env python3\n",
    "\n",
    "# Script to load the CLIMATE DATA .Rdata files and grid them and convert them to netcdf files per variable\n",
    "# uses the .RData files retrieved from the RMI Oracle databse through the climate_grid_daily.txt script from Bert Van Schaeybroeck\n",
    "\n",
    "# I. Vanderkelen, June 2024\n",
    "\n",
    "import rpy2.robjects as robjects\n",
    "from rpy2.robjects import pandas2ri\n",
    "import xarray as xr\n",
    "import pandas as pd\n",
    "from datetime import date\n",
    "import numpy as np\n",
    "\n",
    "# activate r to pandas convertor\n",
    "pandas2ri.activate()\n",
    "\n",
    "\n",
    "# user settings\n",
    "variables = [\"TEMP_MAX\"]\n",
    "#\"EVAPOTRANS_REF\", \"SUN_INT\", \"SUN_DURATION\", \"PRECIP_DURATION\", \"WIND_PEAK_SPEED\", \"PRECIP_1H_MAX\", \"EVAPOTRANS_REF\", \"TEMP_MAX\",\"HUMIDITY_RELATIVE\",\"TEMP_MIN\", \"TEMP_AVG\", \"WIND_SPEED\", \"PRESSURE\", \"SHORT_WAVE_FROM_SKY\", \"SUN_INT_HORIZ\", \"PRECIP_QUANTITY\"]\n",
    "\n",
    "\n",
    "# INFO ON GRID\n",
    "# load climategrid meta data on variables and units\n",
    "meta = pd.read_csv('CLIMATE_GRID_meta.csv', delimiter=\";\")\n",
    "\n",
    "# load information on projection used \n",
    "proj_string = \"+proj=lcc +lat_1=49.83333388888889 +lat_2=51.16666722222222 +lat_0=90 +lon_0=4.367486666666666 +x_0=150000.013 +y_0=5400088.438 +ellps=intl +units=m +no_defs\"\n",
    "# load the pixel lat and lon variable and use this to transpose to own defined grid\n",
    "df_coords_points = pd.read_csv('grid_5kmx5km.csv',header=1,delimiter=' ') # these are the lat lons and lambert coordinates for all pixels in CLIMATE_DATA\n",
    "\n",
    "\n",
    "# load the full grid, creased based on the proj_string and following bounding points:\n",
    "#NE_lon, NE_lat = 9.53269211610237, 53.4367017362904\n",
    "#SW_lon, SW_lat = 0.163155782953472, 47.515819098539\n",
    "df_full_grid = pd.read_csv('lambert_coordinates_full_climate_grid.csv') # made using R script Michel Journee\n",
    "lambert_x_grid_raw = df_full_grid['x1'].unique()\n",
    "lambert_y_grid_raw = df_full_grid['x2'].unique()\n",
    "\n",
    "# cut this grid to boundingbox including gridcells from CLIMATE_GRID\n",
    "lambert_x_grid_cutlow = lambert_x_grid_raw[lambert_x_grid_raw>=df_coords_points['LAMBERT_X'].min()]\n",
    "lambert_x_grid = lambert_x_grid_cutlow[lambert_x_grid_cutlow<=  df_coords_points['LAMBERT_X'].max()]\n",
    "lambert_y_grid_cutlow = lambert_y_grid_raw[lambert_y_grid_raw>=df_coords_points['LAMBERT_Y'].min()]\n",
    "lambert_y_grid = lambert_y_grid_cutlow[lambert_y_grid_cutlow<=  df_coords_points['LAMBERT_Y'].max()]\n",
    "\n",
    "\n",
    "# Find the nearest index in the lons and lats grids and add this to coordinates dataframe\n",
    "def find_nearest(array, value):\n",
    "\tidx = (np.abs(array - value)).argmin()\n",
    "\treturn idx\n",
    "\n",
    "df_coords_points['LAMBERT_X_INDEX'] = df_coords_points['LAMBERT_X'].apply(lambda x: find_nearest(lambert_x_grid, x))\n",
    "df_coords_points['LAMBERT_Y_INDEX'] = df_coords_points['LAMBERT_Y'].apply(lambda x: find_nearest(lambert_y_grid, x))\n",
    "\n",
    "\n",
    "data_dir = '/dodrio/scratch/projects/2022_200/project_output/RMIB-UGent/vsc31332_inne/CLIMATE_GRID/'\n",
    "\n",
    "for variable in variables: \n",
    "\tprint('Converting '+ variable)\n",
    "\n",
    "\tfilename = 'climate_atlas_'+str(variable)+'_CLIMATE_GRID_1950_2023.Rdata'\n",
    "\n",
    "\t# load the robject\n",
    "\trobjects.r['load'](data_dir+filename)\n",
    "\n",
    "\n",
    "\t# load the time data and convert to dates\n",
    "\ttime = robjects.r['time.lst']\n",
    "\tdates = pd.to_datetime(time)\n",
    "\n",
    "\t# load the vector data\n",
    "\tdata = robjects.r['grid.vec']\n",
    "\n",
    "\t# create empty array to fill with gridded data - also for lat and lon\n",
    "\tgrid_data = np.full(( len(dates),  len(lambert_y_grid),len(lambert_x_grid)  ), np.nan)\n",
    "\n",
    "\tlat_2d = np.full((len(lambert_y_grid),len(lambert_x_grid)  ), np.nan)\n",
    "\tlon_2d = np.full((len(lambert_y_grid),len(lambert_x_grid)  ), np.nan)\n",
    "\n",
    "\t# Fill the grid data array\n",
    "\tfor index, row in df_coords_points.iterrows():\n",
    "\t\tlambert_x_idx = int(row['LAMBERT_Y_INDEX'])\n",
    "\t\tlambert_y_idx = int(row['LAMBERT_X_INDEX'])\n",
    "\n",
    "\t\tpixel_id = int(row['PIXEL_ID'])\n",
    "\t\t\n",
    "\t\tgrid_data[:, lambert_x_idx, lambert_y_idx ] = data[int(pixel_id) - 1, :]\n",
    "\n",
    "\t\tlat_2d[ lambert_x_idx, lambert_y_idx ] = df_coords_points[df_coords_points['PIXEL_ID'] == pixel_id][\"LAT\"].values[0]\n",
    "\t\tlon_2d[ lambert_x_idx, lambert_y_idx ] = df_coords_points[df_coords_points['PIXEL_ID'] == pixel_id][\"LON\"].values[0]\n",
    "\n",
    "\n",
    "\t# get metadata from meta dataframe\n",
    "\tunit = meta.loc[meta['variable'] == variable, 'unit'].values[0] \n",
    "\tlong_name = meta.loc[meta['variable'] == variable, 'long_name'].values[0] \n",
    "\tdescription = meta.loc[meta['variable'] == variable, 'description'].values[0] \n",
    "\n",
    "\t# create data array\n",
    "\tda = xr.DataArray(\n",
    "\t\tdata=grid_data,\n",
    "\t\tdims=[\"time\", \"y\", \"x\"],\n",
    "\t\tcoords=dict(\n",
    "\t\t\ty=lambert_y_grid,\n",
    "\t\t\tx=lambert_x_grid,\n",
    "\t\t\ttime=dates,\n",
    "\t\t),\n",
    "\t\tattrs=dict(\n",
    "\t\t\tlong_name=long_name,\n",
    "\t\t\tdescription = description,\n",
    "\t\t\tunits=unit,\n",
    "\t\t),\n",
    "\t)\n",
    "\n",
    "\n",
    "\tda['x'].attrs = {'units':\"E[east]: Easting (meters)\", 'long_name': \" x coordinate Lambert Conic Conformal (2SP)\"}\n",
    "\tda['y'].attrs = {'units':\"N[north]: Northing (meters)\", 'long_name': \"y coordinate Lambert Conic Conformal (2SP)\"}\n",
    "\n",
    "\t# convert to dataset and give dataset attributes\n",
    "\tds = da.to_dataset(name=variable)\n",
    "\n",
    "\t# add 2d lat and lon in lambert coordinates as well\n",
    "\tds[\"lat\"] = xr.DataArray(\n",
    "\t\tdata=lat_2d,\n",
    "\t\tdims=[\"y\", \"x\"],\n",
    "\t\tcoords=dict(\n",
    "\t\t\ty=lambert_y_grid,\n",
    "\t\t\tx=lambert_x_grid,\n",
    "\t\t),\n",
    "\t\tattrs=dict(\n",
    "\t\t\tlong_name=\"latitude\",\n",
    "\t\t\tdescription = \"WGS84 latitude, from values of CLIMATE_GRID, provided per grid point\",\n",
    "\t\t\tunits=\"degrees_north\",\n",
    "\t\t),\n",
    "\t)\n",
    "\n",
    "\tds[\"lon\"] = xr.DataArray(\n",
    "\t\tdata=lon_2d,\n",
    "\t\tdims=[\"y\", \"x\"],\n",
    "\t\tcoords=dict(\n",
    "\t\t\ty=lambert_y_grid,\n",
    "\t\t\tx=lambert_x_grid,\n",
    "\t\t),\n",
    "\t\tattrs=dict(\n",
    "\t\t\tlong_name=\"longitude\",\n",
    "\t\t\tdescription = \"WGS84 longitude, from values of CLIMATE_GRID, provided per grid point\",\n",
    "\t\t\tunits=\"degrees_east\",\n",
    "\t\t),\n",
    "\t)\n",
    "\td_attrs = {\"creation_date\": date.today().strftime(\"%d-%m-%Y\"),\n",
    "\t\"creators\": \"Ghilain N., Van Schaeybroeck B., Vanderkelen I.\", \n",
    "\t\"contact\": \"inne.vanderkelen@meteo.be\",\n",
    "\t\"version\": \"1.1\", \"affiliation\": \"Royal Meteorological Institute of Belgium\", \n",
    "\t\"projection\":proj_string}\n",
    "\tds.attrs = d_attrs\n",
    "\n",
    "\t# export to netcdf\n",
    "\tfilename_out = str(variable)+'_CLIMATE_GRID_'+str(dates.year.min())+'_'+str(dates.year.max())+'_daily.nc'\n",
    "\tds.to_netcdf(data_dir + filename_out, encoding={'time':  {'dtype': 'int32'} })\n",
    "\n"
   ]
  },
  {
   "cell_type": "code",
   "execution_count": 28,
   "metadata": {},
   "outputs": [
    {
     "data": {
      "text/plain": [
       "<matplotlib.collections.QuadMesh at 0x14585d4952b0>"
      ]
     },
     "execution_count": 28,
     "metadata": {},
     "output_type": "execute_result"
    },
    {
     "data": {
      "image/png": "[encoded data removed]",
      "text/plain": [
       "<Figure size 640x480 with 2 Axes>"
      ]
     },
     "metadata": {},
     "output_type": "display_data"
    }
   ],
   "source": [
    "ds[variable].mean('time').plot()"
   ]
  },
  {
   "cell_type": "code",
   "execution_count": 19,
   "metadata": {},
   "outputs": [],
   "source": [
    "\n"
   ]
  },
  {
   "cell_type": "code",
   "execution_count": 21,
   "metadata": {},
   "outputs": [
    {
     "ename": "AttributeError",
     "evalue": "'numpy.ndarray' object has no attribute 'plot'",
     "output_type": "error",
     "traceback": [
      "\u001b[0;31m---------------------------------------------------------------------------\u001b[0m",
      "\u001b[0;31mAttributeError\u001b[0m                            Traceback (most recent call last)",
      "Cell \u001b[0;32mIn[21], line 1\u001b[0m\n\u001b[0;32m----> 1\u001b[0m \u001b[43mlat_2d\u001b[49m\u001b[38;5;241;43m.\u001b[39;49m\u001b[43mplot\u001b[49m(à)\n",
      "\u001b[0;31mAttributeError\u001b[0m: 'numpy.ndarray' object has no attribute 'plot'"
     ]
    }
   ],
   "source": []
  },
  {
   "cell_type": "code",
   "execution_count": 9,
   "metadata": {},
   "outputs": [],
   "source": [
    "# Do transformation into regulat lat lon (WGS84)\n",
    "import rioxarray"
   ]
  },
  {
   "cell_type": "code",
   "execution_count": null,
   "metadata": {},
   "outputs": [],
   "source": [
    "da.rio.write_crs(4326, inplace=True)\n",
    "xda.rio.crs\n",
    "\n",
    "= xds.rio.reproject(\"EPSG:4326\")"
   ]
  },
  {
   "cell_type": "code",
   "execution_count": 3,
   "metadata": {},
   "outputs": [],
   "source": [
    "import cartopy.crs as ccrs\n",
    "\n",
    "# Define the custom projection\n",
    "proj_string = ds.attrs['projection']\n",
    "# Create a Cartopy CRS object from the projection string\n",
    "custom_crs = ccrs.Projection(proj_string)\n",
    "\n",
    "\n",
    "\n",
    ".to_crs(crs=custom_crs)"
   ]
  },
  {
   "cell_type": "code",
   "execution_count": 15,
   "metadata": {},
   "outputs": [],
   "source": [
    "import geopandas as gpd\n",
    "from shapely.geometry import Point\n",
    "from pyproj import Proj, transform\n",
    "import cartopy.crs as ccrs\n",
    "from shapely.ops import unary_union\n",
    "\n",
    "\n",
    "\n",
    "# Define the coordinates of NE and SW points\n",
    "NE_lon, NE_lat = 9.53269211610237, 53.4367017362904\n",
    "SW_lon, SW_lat = 0.163155782953472, 47.515819098539\n",
    "\n",
    "# Create data frames for NE and SW points\n",
    "NE_df = gpd.GeoDataFrame(geometry=[Point(NE_lon, NE_lat)]).set_crs(epsg=4326).to_crs(crs=custom_crs)\n",
    "SW_df = gpd.GeoDataFrame(geometry=[Point(SW_lon, SW_lat)]).set_crs(epsg=4326).to_crs(crs=custom_crs)\n",
    "\n",
    "# Define the resolution\n",
    "resolution = 5000\n",
    "\n",
    "corners = gpd.GeoDataFrame(geometry=gpd.GeoSeries(unary_union([NE_df.unary_union, SW_df.unary_union])))\n",
    "\n",
    "# Create the grid\n",
    "xmin, ymin, xmax, ymax = corners.total_bounds\n",
    "x = np.arange(np.floor(xmin), np.ceil(xmax), resolution)\n",
    "y = np.arange(np.floor(ymin), np.ceil(ymax), resolution)\n",
    "xx, yy = np.meshgrid(x, y)\n",
    "grid_points = [Point(x, y) for x, y in zip(xx.flatten(), yy.flatten())]\n",
    "grid = gpd.GeoDataFrame(geometry=grid_points)\n",
    "grid.crs = custom_crs\n",
    "\n",
    "\n",
    "# Convert to xarray DataArray\n",
    "lon = np.unique(grid.geometry.x)\n",
    "lat = np.unique(grid.geometry.y)\n",
    "lon_bnds = np.linspace(lon[0] - resolution / 2, lon[-1] + resolution / 2, len(lon))\n",
    "lat_bnds = np.linspace(lat[0] - resolution / 2, lat[-1] + resolution / 2, len(lat))\n",
    "da_empty = xr.DataArray(np.zeros((len(lat), len(lon))), coords={'lat': lat, 'lon': lon},\n",
    "                          dims=['lat', 'lon'], attrs={'crs': custom_crs})\n",
    "da_empty.attrs['resolution'] = resolution\n",
    "\n",
    "print(da_empty)\n",
    "\n"
   ]
  },
  {
   "cell_type": "code",
   "execution_count": 33,
   "metadata": {},
   "outputs": [
    {
     "data": {
      "text/plain": [
       "array([-166919., -161919., -156919., -151919., -146919., -141919.,\n",
       "       -136919., -131919., -126919., -121919., -116919., -111919.,\n",
       "       -106919., -101919.,  -96919.,  -91919.,  -86919.,  -81919.,\n",
       "        -76919.,  -71919.,  -66919.,  -61919.,  -56919.,  -51919.,\n",
       "        -46919.,  -41919.,  -36919.,  -31919.,  -26919.,  -21919.,\n",
       "        -16919.,  -11919.,   -6919.,   -1919.,    3081.,    8081.,\n",
       "         13081.,   18081.,   23081.,   28081.,   33081.,   38081.,\n",
       "         43081.,   48081.,   53081.,   58081.,   63081.,   68081.,\n",
       "         73081.,   78081.,   83081.,   88081.,   93081.,   98081.,\n",
       "        103081.,  108081.,  113081.,  118081.,  123081.,  128081.,\n",
       "        133081.,  138081.,  143081.,  148081.,  153081.,  158081.,\n",
       "        163081.,  168081.,  173081.,  178081.,  183081.,  188081.,\n",
       "        193081.,  198081.,  203081.,  208081.,  213081.,  218081.,\n",
       "        223081.,  228081.,  233081.,  238081.,  243081.,  248081.,\n",
       "        253081.,  258081.,  263081.,  268081.,  273081.,  278081.,\n",
       "        283081.,  288081.,  293081.,  298081.,  303081.,  308081.,\n",
       "        313081.,  318081.,  323081.,  328081.,  333081.,  338081.,\n",
       "        343081.,  348081.,  353081.,  358081.,  363081.,  368081.,\n",
       "        373081.,  378081.,  383081.,  388081.,  393081.,  398081.,\n",
       "        403081.,  408081.,  413081.,  418081.,  423081.,  428081.,\n",
       "        433081.,  438081.,  443081.,  448081.,  453081.,  458081.,\n",
       "        463081.,  468081.,  473081.,  478081.,  483081.,  488081.,\n",
       "        493081.])"
      ]
     },
     "execution_count": 33,
     "metadata": {},
     "output_type": "execute_result"
    }
   ],
   "source": [
    "lon"
   ]
  },
  {
   "cell_type": "code",
   "execution_count": 32,
   "metadata": {},
   "outputs": [
    {
     "data": {
      "text/plain": [
       "array([-327500., -322500., -317500., -312500., -307500., -302500.,\n",
       "       -297500., -292500., -287500., -282500., -277500., -272500.,\n",
       "       -267500., -262500., -257500., -252500., -247500., -242500.,\n",
       "       -237500., -232500., -227500., -222500., -217500., -212500.,\n",
       "       -207500., -202500., -197500., -192500., -187500., -182500.,\n",
       "       -177500., -172500., -167500., -162500., -157500., -152500.,\n",
       "       -147500., -142500., -137500., -132500., -127500., -122500.,\n",
       "       -117500., -112500., -107500., -102500.,  -97500.,  -92500.,\n",
       "        -87500.,  -82500.,  -77500.,  -72500.,  -67500.,  -62500.,\n",
       "        -57500.,  -52500.,  -47500.,  -42500.,  -37500.,  -32500.,\n",
       "        -27500.,  -22500.,  -17500.,  -12500.,   -7500.,   -2500.,\n",
       "          2500.,    7500.,   12500.,   17500.,   22500.,   27500.,\n",
       "         32500.,   37500.,   42500.,   47500.,   52500.,   57500.,\n",
       "         62500.,   67500.,   72500.,   77500.,   82500.,   87500.,\n",
       "         92500.,   97500.,  102500.,  107500.,  112500.,  117500.,\n",
       "        122500.,  127500.,  132500.,  137500.,  142500.,  147500.,\n",
       "        152500.,  157500.,  162500.,  167500.,  172500.,  177500.,\n",
       "        182500.,  187500.,  192500.,  197500.,  202500.,  207500.,\n",
       "        212500.,  217500.,  222500.,  227500.,  232500.,  237500.,\n",
       "        242500.,  247500.,  252500.,  257500.,  262500.,  267500.,\n",
       "        272500.,  277500.,  282500.,  287500.,  292500.,  297500.,\n",
       "        302500.,  307500.,  312500.,  317500.,  322500.,  327500.])"
      ]
     },
     "execution_count": 32,
     "metadata": {},
     "output_type": "execute_result"
    }
   ],
   "source": []
  },
  {
   "cell_type": "code",
   "execution_count": 25,
   "metadata": {},
   "outputs": [
    {
     "data": {
      "text/plain": [
       "327500.0"
      ]
     },
     "execution_count": 25,
     "metadata": {},
     "output_type": "execute_result"
    }
   ],
   "source": [
    "df_bert_coordinaten['x1'].max()"
   ]
  },
  {
   "cell_type": "code",
   "execution_count": 28,
   "metadata": {},
   "outputs": [
    {
     "data": {
      "text/plain": [
       "6008014.17991319"
      ]
     },
     "execution_count": 28,
     "metadata": {},
     "output_type": "execute_result"
    }
   ],
   "source": [
    "df_bert_coordinaten['x2'].min()"
   ]
  },
  {
   "cell_type": "code",
   "execution_count": 26,
   "metadata": {},
   "outputs": [
    {
     "data": {
      "text/plain": [
       "6663014.17991319"
      ]
     },
     "execution_count": 26,
     "metadata": {},
     "output_type": "execute_result"
    }
   ],
   "source": [
    "df_bert_coordinaten['x2'].max()"
   ]
  },
  {
   "cell_type": "code",
   "execution_count": 19,
   "metadata": {},
   "outputs": [
    {
     "data": {
      "text/plain": [
       "<matplotlib.collections.QuadMesh at 0x1465eab03af0>"
      ]
     },
     "execution_count": 19,
     "metadata": {},
     "output_type": "execute_result"
    },
    {
     "data": {
      "image/png": "[encoded data removed]",
      "text/plain": [
       "<Figure size 640x480 with 2 Axes>"
      ]
     },
     "metadata": {},
     "output_type": "display_data"
    }
   ],
   "source": [
    "da_empty.plot()"
   ]
  },
  {
   "cell_type": "code",
   "execution_count": null,
   "metadata": {},
   "outputs": [],
   "source": []
  }
 ],
 "metadata": {
  "kernelspec": {
   "display_name": "valenspy_dev",
   "language": "python",
   "name": "python3"
  },
  "language_info": {
   "codemirror_mode": {
    "name": "ipython",
    "version": 3
   },
   "file_extension": ".py",
   "mimetype": "text/x-python",
   "name": "python",
   "nbconvert_exporter": "python",
   "pygments_lexer": "ipython3",
   "version": "3.9.19"
  }
 },
 "nbformat": 4,
 "nbformat_minor": 2
}
