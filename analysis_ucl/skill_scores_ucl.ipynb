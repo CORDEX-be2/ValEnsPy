{
 "cells": [
  {
   "cell_type": "markdown",
   "metadata": {},
   "source": [
    "# Calculate various skill scores WRF\n",
    "\n"
   ]
  },
  {
   "cell_type": "code",
   "execution_count": 52,
   "metadata": {},
   "outputs": [],
   "source": [
    "import xarray as xr\n",
    "from datatree import DataTree\n",
    "import matplotlib.pyplot as plt\n",
    "import os\n",
    "import valenspy as vp\n",
    "from valenspy._utilities import load_yml\n",
    "from valenspy.processing.select import select_point, get_shapefile_mask\n",
    "from valenspy.diagnostic.functions import mean_bias, mean_absolute_error, root_mean_square_error, spearman_correlation, perkins_skill_score, time_series_spatial_mean, calc_metrics_dt, calc_metrics_da,_add_ranks_metrics, root_mean_square_error\n",
    "from valenspy.diagnostic.visualizations import plot_time_series, plot_map, plot_metric_ranking\n",
    "from pathlib import Path\n",
    "import pandas as pd\n",
    "import numpy as np\n",
    "import xoak\n",
    "from sklearn.neighbors import BallTree as skBallTree\n",
    "from scipy.stats import pearsonr\n",
    "\n",
    "from functions import point_data_2_climate_grid\n",
    "\n",
    "# define machine name - used for paths of (observational) datasets\n",
    "machine = 'hortense'\n",
    "\n",
    "manager = vp.InputManager(machine=machine)\n"
   ]
  },
  {
   "cell_type": "markdown",
   "metadata": {},
   "source": [
    "### 0. Defining observational data"
   ]
  },
  {
   "cell_type": "code",
   "execution_count": 53,
   "metadata": {},
   "outputs": [],
   "source": [
    "obs_data_str = 'netatmo'\n",
    "lu_group = \"urban\""
   ]
  },
  {
   "cell_type": "code",
   "execution_count": 54,
   "metadata": {},
   "outputs": [],
   "source": [
    "metrics = [\"rmse\", \"mean_bias\", \"pearson_correlation2\", \"mean_absolute_error\", \"spearman_correlation\"]\n",
    "start_date = \"2019-07-25 00:00:00\"\n",
    "end_date = \"2019-07-25 23:59:59\" \n",
    "start_date = pd.to_datetime(start_date)\n",
    "end_date = pd.to_datetime(end_date)"
   ]
  },
  {
   "cell_type": "markdown",
   "metadata": {},
   "source": [
    "### 1. Getting model data"
   ]
  },
  {
   "cell_type": "code",
   "execution_count": 55,
   "metadata": {},
   "outputs": [],
   "source": [
    "file_wrf = \"/dodrio/scratch/projects/2022_200/project_output/rcs/CORDEXBE2/fiens/UCL/geo_em.d03_new.nc\"\n",
    "ds = xr.open_mfdataset(file_wrf, combine='by_coords')\n",
    "ds = ds.assign_coords({\"lat\":ds.CLAT})\n",
    "ds = ds.assign_coords({\"lon\":ds.CLONG})\n"
   ]
  },
  {
   "cell_type": "markdown",
   "metadata": {},
   "source": [
    "### 2. Loading Observation Data + Converting to right format"
   ]
  },
  {
   "cell_type": "code",
   "execution_count": 56,
   "metadata": {},
   "outputs": [
    {
     "name": "stderr",
     "output_type": "stream",
     "text": [
      "/tmp/ipykernel_1662148/225840095.py:52: UserWarning: Pandas doesn't allow columns to be created via a new attribute name - see https://pandas.pydata.org/pandas-docs/stable/indexing.html#attribute-access\n",
      "  obs_data_agg.date = pd.to_datetime(obs_data_agg.time).dt.date\n"
     ]
    }
   ],
   "source": [
    "ucl_dir = \"/dodrio/scratch/projects/2022_200/project_output/rcs/CORDEXBE2/fiens/UCL/\"\n",
    "if obs_data_str == \"aws\":\n",
    "    # Loading data\n",
    "    aws_file = '/dodrio/scratch/projects/2022_200/project_output/rcs/CORDEXBE2/fiens/UCL/aws_1hour_20190701-20190801.csv'\n",
    "    obs_data = pd.read_csv(aws_file)\n",
    "    obs_data[\"timestamp\"] = obs_data[\"timestamp\"].str.replace(\"T\", \" \")\n",
    "    obs_data[\"time\"] = pd.to_datetime(obs_data.timestamp)\n",
    "    obs_data[['lat', 'lon']] = obs_data['the_geom'].str.extract(r'POINT \\(([\\d.-]+) ([\\d.-]+)\\)')\n",
    "    \n",
    "    # Convert the new columns to float\n",
    "    obs_data['lat'] = obs_data['lat'].astype(float)\n",
    "    obs_data['lon'] = obs_data['lon'].astype(float)\n",
    "    obs_data['time'] = pd.to_datetime(obs_data[\"timestamp\"])\n",
    "    obs_data = obs_data.rename(columns = {\"temp_dry_shelter_avg\": \"T2\"})\n",
    "    obs_data[\"T2\"] = obs_data[\"T2\"]+273.15\n",
    "    obs_data['date'] = pd.to_datetime(obs_data['timestamp']).dt.date\n",
    "\n",
    "elif obs_data_str == \"wow\":\n",
    "    # Loading data\n",
    "    wow_file = ucl_dir + \"wow_qc_BE.csv\"\n",
    "    orig_data = pd.read_csv(wow_file)\n",
    "    orig_data = orig_data.loc[np.where(orig_data.m4)]\n",
    "    obs_data = orig_data[[\"p_id\", \"lon\", \"lat\", \"time\", \"ta\"]]\n",
    "    obs_data = obs_data.rename(columns = {\"ta\" : \"T2\"})\n",
    "    obs_data[\"code\"] = obs_data[\"lat\"].astype(str) + '-' + obs_data[\"lon\"].astype(str)\n",
    "\n",
    "    # Averaging stations that fall within same gridcell\n",
    "    [obs_data_agg, obs_indices] = point_data_2_climate_grid(obs_data, ds, 'T2')\n",
    "\n",
    "    # Converting format\n",
    "    obs_data_agg.date = pd.to_datetime(obs_data_agg.time).dt.date\n",
    "    obs_data = obs_data_agg.rename(columns = {\"grid_index\": \"code\"})\n",
    "    obs_data['time'] = pd.to_datetime(obs_data[\"time\"])\n",
    "    obs_data[\"T2\"] = obs_data[\"T2\"]+273.15\n",
    "    obs_data['date'] = pd.to_datetime(obs_data['time']).dt.date\n",
    "    obs_data[\"lat\"] = np.round(obs_data.lat, 6)\n",
    "    obs_data[\"lon\"] = np.round(obs_data.lon, 6)\n",
    "    obs_data[\"hour\"] = pd.to_datetime(obs_data['time']).dt.hour\n",
    "\n",
    "elif obs_data_str == \"netatmo\":\n",
    "    # Loading data\n",
    "    netatmo_file = ucl_dir + \"netatmo_qc.csv\"\n",
    "    orig_data = pd.read_csv(netatmo_file)\n",
    "    orig_data = orig_data.loc[np.where(orig_data.m4)]\n",
    "    obs_data = orig_data.rename(columns = {\"ta\": \"T2\"})\n",
    "    obs_data[\"T2\"] = obs_data[\"T2\"] + 273.15\n",
    "\n",
    "    # Averaging stations that fall within same gridcell\n",
    "    [obs_data_agg, obs_indices] = point_data_2_climate_grid(obs_data, ds, 'T2')\n",
    "\n",
    "    # Converting format\n",
    "    obs_data_agg.date = pd.to_datetime(obs_data_agg.time).dt.date\n",
    "    obs_data = obs_data_agg.rename(columns = {\"grid_index\": \"code\"})\n",
    "    obs_data['time'] = pd.to_datetime(obs_data[\"time\"])\n",
    "    obs_data[\"lat\"] = np.round(obs_data.lat, 6)\n",
    "    obs_data[\"lon\"] = np.round(obs_data.lon, 6)\n",
    "\n",
    "obs_data = obs_data.loc[np.where(np.logical_and(obs_data.time >= start_date, obs_data.time <= end_date))].reset_index(drop = True)\n",
    "\n",
    "# Checking whether the stations have data for each hour\n",
    "full_range = pd.date_range(start=start_date, \n",
    "                           end=end_date, \n",
    "                           freq=\"h\")  # Hourly intervals\n",
    "drop_stations = []\n",
    "for c in np.unique(obs_data.code):\n",
    "    code_temp = obs_data.loc[np.where(obs_data.code == c)].reset_index(drop = True)\n",
    "    missing_hours = full_range.difference(code_temp[\"time\"])\n",
    "    if len(missing_hours) > 0:\n",
    "        drop_stations.append(c)\n",
    "#print(\"In \" + obs_data_str + str(len(drop_stations)) \" are removed.\")\n",
    "\n",
    "drop_indices = [i for i in np.arange(0, len(obs_data)) if obs_data.loc[i, \"code\"] in drop_stations]\n",
    "obs_data = obs_data.drop(drop_indices).reset_index(drop = True)\n",
    "\n"
   ]
  },
  {
   "cell_type": "code",
   "execution_count": 57,
   "metadata": {},
   "outputs": [],
   "source": [
    "obs_data = obs_data.reset_index()\n",
    "d_coord_points = obs_data[[\"code\", \"lat\", \"lon\"]]\n",
    "\n",
    "d_coord_points = d_coord_points.drop_duplicates().reset_index(drop = True)\n",
    "#d_coord_points.to_csv(ucl_dir + \"Locations_\" + obs_data_str + \"_sensor.csv\", index = False)\n",
    "\n",
    "if obs_data_str == \"wow\" :\n",
    "    if lu_group:\n",
    "        d_coord_points = pd.read_csv(ucl_dir + 'Location_qc_' + lu_group + '_' + obs_data_str + \".csv\")\n",
    "elif obs_data_str == \"netatmo\":\n",
    "    if lu_group:\n",
    "        d_coord_points = pd.read_csv(ucl_dir + 'Location_' + lu_group + '_' + obs_data_str + \".csv\")\n",
    "   \n",
    "\n",
    "d_coord_points[\"lat\"] = np.round(d_coord_points.lat, 6)\n",
    "d_coord_points[\"lon\"] = np.round(d_coord_points.lon, 6)\n"
   ]
  },
  {
   "cell_type": "code",
   "execution_count": 58,
   "metadata": {},
   "outputs": [],
   "source": [
    "obs_data = obs_data.set_index(['lat', 'lon', 'time'])"
   ]
  },
  {
   "cell_type": "markdown",
   "metadata": {},
   "source": [
    "## 2. Skill score calculation\n",
    "Here, temperature is evaluated"
   ]
  },
  {
   "cell_type": "markdown",
   "metadata": {},
   "source": [
    "Load point modelled data and observations"
   ]
  },
  {
   "cell_type": "code",
   "execution_count": 59,
   "metadata": {},
   "outputs": [
    {
     "name": "stdout",
     "output_type": "stream",
     "text": [
      "['WRF_run0_T2,V10,U10,PSFC,RAINNC,TH2,Q2,ALBEDO_20190725-20190726.nc', 'WRF_run1_T2,V10,U10,PSFC,RAINNC,TH2,Q2,ALBEDO_20190725-20190726.nc', 'WRF_run2_T2,V10,U10,PSFC,RAINNC,TH2,Q2,ALBEDO_20190725-20190726.nc', 'WRF_run3_T2,V10,U10,PSFC,RAINNC,TH2,Q2,ALBEDO_20190725-20190726.nc', 'WRF_run4_T2,V10,U10,PSFC,RAINNC,TH2,Q2,ALBEDO_20190725-20190726.nc', 'WRF_run5_T2,V10,U10,PSFC,RAINNC,TH2,Q2,ALBEDO_20190725-20190726.nc', 'WRF_run6_T2,V10,U10,PSFC,RAINNC,TH2,Q2,ALBEDO_20190725-20190726.nc', 'WRF_run7_T2,V10,U10,PSFC,RAINNC,TH2,Q2,ALBEDO_20190725-20190726.nc']\n"
     ]
    }
   ],
   "source": [
    "files = sorted(os.listdir(ucl_dir + 'WRF_output'))\n",
    "print(files)\n"
   ]
  },
  {
   "cell_type": "code",
   "execution_count": 60,
   "metadata": {},
   "outputs": [
    {
     "name": "stdout",
     "output_type": "stream",
     "text": [
      "run0\n"
     ]
    },
    {
     "name": "stderr",
     "output_type": "stream",
     "text": [
      "/tmp/ipykernel_1662148/821712551.py:13: FutureWarning: Setting an item of incompatible dtype is deprecated and will raise an error in a future version of pandas. Value 'run0' has dtype incompatible with float64, please explicitly cast to a compatible dtype first.\n",
      "  df_run_metrics.loc[f, \"member\"] = experiment\n",
      "/tmp/ipykernel_1662148/821712551.py:15: FutureWarning: Setting an item of incompatible dtype is deprecated and will raise an error in a future version of pandas. Value 'T2' has dtype incompatible with float64, please explicitly cast to a compatible dtype first.\n",
      "  df_run_metrics.loc[f, \"variable\"] = variable\n"
     ]
    },
    {
     "name": "stdout",
     "output_type": "stream",
     "text": [
      "run1\n",
      "run2\n",
      "run3\n",
      "run4\n",
      "run5\n",
      "run6\n",
      "run7\n"
     ]
    }
   ],
   "source": [
    "d_da_mod = {}\n",
    "column_names = metrics\n",
    "column_names.append('member')\n",
    "column_names.append('variable')\n",
    "\n",
    "df_run_metrics = pd.DataFrame(np.zeros([np.shape(files)[0], np.shape(metrics)[0]]), columns = column_names)\n",
    "variable = \"T2\"\n",
    "\n",
    "for f in np.arange(0, len(files)):\n",
    "    file = files[f]\n",
    "    experiment = file.split('_')[1]\n",
    "    print(experiment)\n",
    "    df_run_metrics.loc[f, \"member\"] = experiment\n",
    "\n",
    "    df_run_metrics.loc[f, \"variable\"] = variable \n",
    "    ds_mod = xr.open_mfdataset(ucl_dir + 'WRF_output/' + file, combine='by_coords').rename({\"XTIME\": \"time\"})\n",
    "    df_metrics = pd.DataFrame(np.zeros([np.shape(d_coord_points)[0]+1, np.shape(metrics)[0]]), columns = metrics)\n",
    "    for i in np.arange(0, len(d_coord_points)):\n",
    "        point_coord = d_coord_points.loc[i]\n",
    "        lat_array = xr.DataArray(np.array([point_coord.lat]), dims='point')\n",
    "        lon_array = xr.DataArray(np.array([point_coord.lon]), dims='point')\n",
    "\n",
    "        ds_mod = ds_mod.where((ds_mod.time >= start_date) & (ds_mod.time <= end_date), drop=True)\n",
    "        ds_mod.xoak.set_index(['XLAT', 'XLONG'], 'sklearn_geo_balltree')\n",
    "        ds_mod_point = ds_mod.xoak.sel(XLAT = lat_array, XLONG = lon_array)\n",
    "\n",
    "        da_mod_point = ds_mod_point[variable].compute()\n",
    "        df_obs_point = obs_data.loc[point_coord.lat, point_coord.lon, :]\n",
    "\n",
    "        for metric in metrics:\n",
    "            if metric == \"rmse\":\n",
    "                df_metrics.loc[i, metric] = root_mean_square_error(da_mod_point.squeeze(), df_obs_point[variable])\n",
    "            if metric == 'mean_bias':\n",
    "                df_metrics.loc[i, metric] = mean_bias(da_mod_point.squeeze(), df_obs_point[variable])\n",
    "            elif metric == \"mean_absolute_error\":\n",
    "                df_metrics.loc[i, metric] = mean_absolute_error(da_mod_point.squeeze(), df_obs_point[variable])\n",
    "            elif metric == \"spearman_correlation\":\n",
    "                df_metrics.loc[i, metric] = spearman_correlation(da_mod_point.squeeze(), df_obs_point[variable])\n",
    "            elif metric == \"pearson_correlation2\":\n",
    "                df_metrics.loc[i, metric] = (pearsonr(da_mod_point.squeeze(), df_obs_point[variable])[0])**2\n",
    "\n",
    "\n",
    "            \n",
    "            \n",
    "    for metric in metrics:        \n",
    "        df_metrics.loc[len(d_coord_points), metric] = np.mean(df_metrics.loc[0:len(d_coord_points)-1, metric])\n",
    "    \n",
    "    df_run_metrics.loc[f] = df_metrics.loc[len(d_coord_points)]\n",
    "    df_run_metrics.loc[f, \"member\"] = experiment\n",
    "    if lu_group:\n",
    "        df_run_metrics.loc[f, \"variable\"] = variable + '(' + lu_group + ')'\n",
    "    else:\n",
    "        df_run_metrics.loc[f, \"variable\"] = variable \n",
    "\n",
    "    "
   ]
  },
  {
   "cell_type": "code",
   "execution_count": 61,
   "metadata": {},
   "outputs": [
    {
     "data": {
      "text/html": [
       "<div>\n",
       "<style scoped>\n",
       "    .dataframe tbody tr th:only-of-type {\n",
       "        vertical-align: middle;\n",
       "    }\n",
       "\n",
       "    .dataframe tbody tr th {\n",
       "        vertical-align: top;\n",
       "    }\n",
       "\n",
       "    .dataframe thead th {\n",
       "        text-align: right;\n",
       "    }\n",
       "</style>\n",
       "<table border=\"1\" class=\"dataframe\">\n",
       "  <thead>\n",
       "    <tr style=\"text-align: right;\">\n",
       "      <th></th>\n",
       "      <th>rmse</th>\n",
       "      <th>mean_bias</th>\n",
       "      <th>pearson_correlation2</th>\n",
       "      <th>mean_absolute_error</th>\n",
       "      <th>spearman_correlation</th>\n",
       "      <th>member</th>\n",
       "      <th>variable</th>\n",
       "    </tr>\n",
       "  </thead>\n",
       "  <tbody>\n",
       "    <tr>\n",
       "      <th>0</th>\n",
       "      <td>2.543479</td>\n",
       "      <td>0.387327</td>\n",
       "      <td>0.887237</td>\n",
       "      <td>2.073374</td>\n",
       "      <td>0.920155</td>\n",
       "      <td>run0</td>\n",
       "      <td>T2(urban)</td>\n",
       "    </tr>\n",
       "    <tr>\n",
       "      <th>1</th>\n",
       "      <td>2.703728</td>\n",
       "      <td>-0.486312</td>\n",
       "      <td>0.897538</td>\n",
       "      <td>2.257096</td>\n",
       "      <td>0.945129</td>\n",
       "      <td>run1</td>\n",
       "      <td>T2(urban)</td>\n",
       "    </tr>\n",
       "    <tr>\n",
       "      <th>2</th>\n",
       "      <td>2.496301</td>\n",
       "      <td>-0.410573</td>\n",
       "      <td>0.912118</td>\n",
       "      <td>2.083435</td>\n",
       "      <td>0.965635</td>\n",
       "      <td>run2</td>\n",
       "      <td>T2(urban)</td>\n",
       "    </tr>\n",
       "    <tr>\n",
       "      <th>3</th>\n",
       "      <td>3.293015</td>\n",
       "      <td>-0.114432</td>\n",
       "      <td>0.843566</td>\n",
       "      <td>2.797959</td>\n",
       "      <td>0.912031</td>\n",
       "      <td>run3</td>\n",
       "      <td>T2(urban)</td>\n",
       "    </tr>\n",
       "    <tr>\n",
       "      <th>4</th>\n",
       "      <td>2.527728</td>\n",
       "      <td>-1.015147</td>\n",
       "      <td>0.919037</td>\n",
       "      <td>2.113994</td>\n",
       "      <td>0.965426</td>\n",
       "      <td>run4</td>\n",
       "      <td>T2(urban)</td>\n",
       "    </tr>\n",
       "    <tr>\n",
       "      <th>5</th>\n",
       "      <td>2.894698</td>\n",
       "      <td>-0.334017</td>\n",
       "      <td>0.876832</td>\n",
       "      <td>2.448160</td>\n",
       "      <td>0.933339</td>\n",
       "      <td>run5</td>\n",
       "      <td>T2(urban)</td>\n",
       "    </tr>\n",
       "    <tr>\n",
       "      <th>6</th>\n",
       "      <td>2.689656</td>\n",
       "      <td>-0.479737</td>\n",
       "      <td>0.898832</td>\n",
       "      <td>2.251184</td>\n",
       "      <td>0.946568</td>\n",
       "      <td>run6</td>\n",
       "      <td>T2(urban)</td>\n",
       "    </tr>\n",
       "    <tr>\n",
       "      <th>7</th>\n",
       "      <td>2.798670</td>\n",
       "      <td>-0.188659</td>\n",
       "      <td>0.891509</td>\n",
       "      <td>2.359596</td>\n",
       "      <td>0.942661</td>\n",
       "      <td>run7</td>\n",
       "      <td>T2(urban)</td>\n",
       "    </tr>\n",
       "  </tbody>\n",
       "</table>\n",
       "</div>"
      ],
      "text/plain": [
       "       rmse  mean_bias  pearson_correlation2  mean_absolute_error  \\\n",
       "0  2.543479   0.387327              0.887237             2.073374   \n",
       "1  2.703728  -0.486312              0.897538             2.257096   \n",
       "2  2.496301  -0.410573              0.912118             2.083435   \n",
       "3  3.293015  -0.114432              0.843566             2.797959   \n",
       "4  2.527728  -1.015147              0.919037             2.113994   \n",
       "5  2.894698  -0.334017              0.876832             2.448160   \n",
       "6  2.689656  -0.479737              0.898832             2.251184   \n",
       "7  2.798670  -0.188659              0.891509             2.359596   \n",
       "\n",
       "   spearman_correlation member   variable  \n",
       "0              0.920155   run0  T2(urban)  \n",
       "1              0.945129   run1  T2(urban)  \n",
       "2              0.965635   run2  T2(urban)  \n",
       "3              0.912031   run3  T2(urban)  \n",
       "4              0.965426   run4  T2(urban)  \n",
       "5              0.933339   run5  T2(urban)  \n",
       "6              0.946568   run6  T2(urban)  \n",
       "7              0.942661   run7  T2(urban)  "
      ]
     },
     "execution_count": 61,
     "metadata": {},
     "output_type": "execute_result"
    }
   ],
   "source": [
    "df_run_metrics"
   ]
  },
  {
   "cell_type": "code",
   "execution_count": 62,
   "metadata": {},
   "outputs": [],
   "source": [
    "df_metrics_long = pd.melt(df_run_metrics, id_vars=[\"member\", \"variable\"], var_name=\"metric\", value_name=\"value\")"
   ]
  },
  {
   "cell_type": "code",
   "execution_count": 63,
   "metadata": {},
   "outputs": [],
   "source": [
    "# df_ranks = _add_ranks_metrics(df_metrics_long)\n",
    "# df_ranks"
   ]
  },
  {
   "cell_type": "markdown",
   "metadata": {},
   "source": [
    "Plot the ranks in a heatmap"
   ]
  },
  {
   "cell_type": "code",
   "execution_count": 64,
   "metadata": {},
   "outputs": [],
   "source": [
    "def scaling_metrics(df_metric, metric, method = \"minmax\", opt_is_zero = False):\n",
    "    if opt_is_zero:\n",
    "        values_metric = abs(df_metric[metric])\n",
    "        min_value = max(values_metric)\n",
    "        max_value = min(values_metric)\n",
    "    else:\n",
    "        values_metric = df_metric[metric]\n",
    "        min_value = min(values_metric)\n",
    "        max_value = max(values_metric)\n",
    "    scaled_values = (values_metric- min_value)/(max_value - min_value)\n",
    "\n",
    "    return scaled_values\n"
   ]
  },
  {
   "cell_type": "code",
   "execution_count": 65,
   "metadata": {},
   "outputs": [],
   "source": [
    "from valenspy.diagnostic.visualizations import create_custom_cmap\n",
    "import seaborn as sns\n",
    "import matplotlib.colors as mcolors\n",
    "\n",
    "def plot_metric(df_metric, ax=None, var_member = \"member\", plot_colorbar=True, metrics = [\"rmse\", \"mean_bias\", \"pearson_correlation2\", \"mean_absolute_error\", \"spearman_correlation\"], hex_color1 = None, hex_color2=None, **kwargs):\n",
    "    \"\"\"\n",
    "    Plots a heatmap of the ranking of metrics for different model members.\n",
    "\n",
    "    This function takes a DataFrame of metrics, calculates the rankings of these metrics \n",
    "    for each model member, and creates a heatmap representing the ranks. The plot can \n",
    "    optionally include a colorbar to represent the ranking levels. If no axis is provided, \n",
    "    a new figure and axis are created for the plot.\n",
    "    Parameters:\n",
    "    -----------\n",
    "    df_metric : pd.DataFrame\n",
    "        A DataFrame containing the calculated metrics for different model members. Each column \n",
    "        represents a model member, and each row represents a metric.\n",
    "    ax : matplotlib.axes.Axes, optional\n",
    "        A pre-existing axis to plot the heatmap. If None (default), a new figure and axis \n",
    "        are created.\n",
    "    plot_colorbar : bool, optional\n",
    "        If True (default), a colorbar is added to the plot to represent the rank levels. \n",
    "        If False, the heatmap is plotted without a colorbar.\n",
    "    hex_color1 : str\n",
    "        The starting color of the colormap in hex format (e.g., '#FF0000' for red).\n",
    "    hex_color2 : str\n",
    "        The ending color of the colormap in hex format (e.g., '#0000FF' for blue).\n",
    "\n",
    "    Returns:\n",
    "    --------\n",
    "    ax : matplotlib.axes.Axes\n",
    "        The axis object containing the heatmap plot.\n",
    "\n",
    "    Notes:\n",
    "    ------\n",
    "    - The color map has the 'summer' palette as default and is resampled to the number of model members.\n",
    "    - A customized color map can be included or determined as an interpolation between two colorcodes (hex codes)\n",
    "    - Rankings are normalized based on the number of model members.\n",
    "    - The function supports colorbar ticks to represent custom rank labels, which are added \n",
    "      only if `plot_colorbar=True`.\n",
    "    \n",
    "    Example:\n",
    "    --------\n",
    "    plot_metric_ranking(df_metric, ax=None, plot_colorbar=True)\n",
    "    -> Generates a heatmap of metric rankings for each model member, with an optional colorbar.\n",
    "    \"\"\"\n",
    "    df_rescaled = df_metric.copy()\n",
    "\n",
    "    for metric in metrics:\n",
    "        if metric in [\"rmse\", \"mean_bias\", \"mean_absolute_error\"]:\n",
    "            df_rescaled[metric] = scaling_metrics(df_metric, metric, opt_is_zero = True)\n",
    "        if metric in [\"pearson_correlation2\", \"spearman_correlation\"]:\n",
    "            df_rescaled[metric] = scaling_metrics(df_metric, metric, opt_is_zero = False)\n",
    "\n",
    "    #num_levels = df_metric[\"member\"].nunique()\n",
    "\n",
    "    if \"cmap\" not in kwargs:\n",
    "        if hex_color1 and hex_color2:\n",
    "            cmap = create_custom_cmap(hex_color1=hex_color1, hex_color2=hex_color2, num_colors=num_levels)\n",
    "        else:\n",
    "            cmap = plt.get_cmap('RdYlGn')\n",
    "    else:\n",
    "        cmap = plt.get_cmap(kwargs.pop(\"cmap\"))\n",
    "    \n",
    "    #boundaries = np.arange(1, num_levels + 2, 1)\n",
    "    #norm = mcolors.BoundaryNorm(boundaries, cmap.N, clip=True)\n",
    "\n",
    "    if ax is None: \n",
    "        fig, ax = plt.subplots()\n",
    "\n",
    "    if \"title\" in kwargs:\n",
    "        ax.set_title(kwargs.pop(\"title\"), loc=\"right\")\n",
    "    else:\n",
    "        plt.title(df_metric.loc[0, \"variable\"])\n",
    "\n",
    "    heatmap = sns.heatmap(df_rescaled[metrics], ax=ax, cbar=plot_colorbar, cmap = cmap,  **kwargs,annot = df_metric[metrics], fmt=\".4f\", yticklabels=df_metric[var_member])\n",
    "    ax.set_ylabel(\"Members\")\n",
    "    \n",
    "    if plot_colorbar:\n",
    "        colorbar = heatmap.collections[0].colorbar\n",
    "        colorbar.set_ticks([0,1])  # Set the ticks you want\n",
    "        colorbar.set_ticklabels([\"worst\", \"best\"])  # Set the custom labels for the ticks\n",
    "    \n",
    "    return ax"
   ]
  },
  {
   "cell_type": "code",
   "execution_count": 66,
   "metadata": {},
   "outputs": [],
   "source": [
    "df_run_metrics = df_run_metrics.loc[:,~df_run_metrics.columns.duplicated()].copy()"
   ]
  },
  {
   "cell_type": "code",
   "execution_count": 67,
   "metadata": {},
   "outputs": [
    {
     "data": {
      "text/plain": [
       "<Axes: title={'right': 'T2 (netatmo / urban)'}, ylabel='Members'>"
      ]
     },
     "execution_count": 67,
     "metadata": {},
     "output_type": "execute_result"
    },
    {
     "data": {
      "image/png": "[encoded data removed]",
      "text/plain": [
       "<Figure size 640x480 with 2 Axes>"
      ]
     },
     "metadata": {},
     "output_type": "display_data"
    }
   ],
   "source": [
    "if lu_group:\n",
    "    title_plot = 'T2 (' + obs_data_str  + ' / ' + lu_group + ')'\n",
    "else:\n",
    "    title_plot = 'T2 (' + obs_data_str  + ')'\n",
    "\n",
    "\n",
    "plot_metric(df_run_metrics, metrics = [\"rmse\", \"mean_absolute_error\", \"spearman_correlation\", \"pearson_correlation2\", \"mean_bias\"], title = title_plot)"
   ]
  },
  {
   "cell_type": "code",
   "execution_count": 68,
   "metadata": {},
   "outputs": [
    {
     "ename": "NameError",
     "evalue": "name 'df_ranks' is not defined",
     "output_type": "error",
     "traceback": [
      "\u001b[0;31m---------------------------------------------------------------------------\u001b[0m",
      "\u001b[0;31mNameError\u001b[0m                                 Traceback (most recent call last)",
      "Cell \u001b[0;32mIn[68], line 3\u001b[0m\n\u001b[1;32m      1\u001b[0m \u001b[38;5;66;03m# calculate and plot the ranking of this metric\u001b[39;00m\n\u001b[0;32m----> 3\u001b[0m ax \u001b[38;5;241m=\u001b[39m plot_metric_ranking(\u001b[43mdf_ranks\u001b[49m, title\u001b[38;5;241m=\u001b[39mvariable)\n",
      "\u001b[0;31mNameError\u001b[0m: name 'df_ranks' is not defined"
     ]
    }
   ],
   "source": [
    "# calculate and plot the ranking of this metric\n",
    "\n",
    "ax = plot_metric_ranking(df_ranks, title=variable)\n"
   ]
  }
 ],
 "metadata": {
  "kernelspec": {
   "display_name": "Python 3",
   "language": "python",
   "name": "python3"
  },
  "language_info": {
   "codemirror_mode": {
    "name": "ipython",
    "version": 3
   },
   "file_extension": ".py",
   "mimetype": "text/x-python",
   "name": "python",
   "nbconvert_exporter": "python",
   "pygments_lexer": "ipython3",
   "version": "3.13.0"
  }
 },
 "nbformat": 4,
 "nbformat_minor": 2
}
