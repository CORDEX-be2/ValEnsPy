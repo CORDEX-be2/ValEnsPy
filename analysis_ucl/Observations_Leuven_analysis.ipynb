{
 "cells": [
  {
   "cell_type": "code",
   "execution_count": 1,
   "metadata": {},
   "outputs": [],
   "source": [
    "import xarray as xr\n",
    "from datatree import DataTree\n",
    "import matplotlib.pyplot as plt\n",
    "import os\n",
    "import valenspy as vp\n",
    "from valenspy._utilities import load_yml\n",
    "from valenspy.processing.select import select_point\n",
    "from valenspy.diagnostic.functions import mean_bias, mean_absolute_error, root_mean_square_error, spearman_correlation, perkins_skill_score, time_series_spatial_mean, calc_metrics_dt, calc_metrics_da,_add_ranks_metrics, root_mean_square_error\n",
    "from valenspy.diagnostic.visualizations import plot_time_series, plot_map, plot_metric_ranking\n",
    "from pathlib import Path\n",
    "import pandas as pd\n",
    "import numpy as np\n",
    "import xoak\n",
    "from sklearn.neighbors import BallTree as skBallTree\n",
    "from scipy.stats import pearsonr\n",
    "\n",
    "from functions import point_data_2_climate_grid, plot_points_map\n",
    "\n",
    "# define machine name - used for paths of (observational) datasets\n",
    "machine = 'hortense'\n",
    "\n",
    "manager = vp.InputManager(machine=machine)"
   ]
  },
  {
   "cell_type": "markdown",
   "metadata": {},
   "source": [
    "## On the importance of ..."
   ]
  },
  {
   "cell_type": "code",
   "execution_count": 2,
   "metadata": {},
   "outputs": [],
   "source": [
    "obs_data_str = 'wow'\n",
    "metrics = [\"rmse\", \"mean_bias\", \"pearson_correlation2\", \"mean_absolute_error\", \"spearman_correlation\"]\n",
    "start_date = \"2019-07-25 00:00:00\"\n",
    "end_date = \"2019-07-25 23:59:59\" \n",
    "start_date = pd.to_datetime(start_date)\n",
    "end_date = pd.to_datetime(end_date)\n",
    "ucl_dir = \"/dodrio/scratch/projects/2022_200/project_output/rcs/CORDEXBE2/fiens/UCL/\""
   ]
  },
  {
   "cell_type": "code",
   "execution_count": 3,
   "metadata": {},
   "outputs": [],
   "source": [
    "file_wrf = ucl_dir + \"geo_em.d03_new.nc\"\n",
    "ds = xr.open_mfdataset(file_wrf, combine='by_coords')\n",
    "ds = ds.assign_coords({\"lat\":ds.CLAT})\n",
    "ds = ds.assign_coords({\"lon\":ds.CLONG})"
   ]
  },
  {
   "cell_type": "code",
   "execution_count": 4,
   "metadata": {},
   "outputs": [
    {
     "name": "stderr",
     "output_type": "stream",
     "text": [
      "/tmp/ipykernel_720146/1282140250.py:2: DtypeWarning: Columns (30) have mixed types. Specify dtype option on import or set low_memory=False.\n",
      "  orig_data = pd.read_csv(wow_file)\n",
      "/tmp/ipykernel_720146/1282140250.py:11: UserWarning: Pandas doesn't allow columns to be created via a new attribute name - see https://pandas.pydata.org/pandas-docs/stable/indexing.html#attribute-access\n",
      "  obs_data_agg.date = pd.to_datetime(obs_data_agg.time).dt.date\n"
     ]
    }
   ],
   "source": [
    "wow_file = ucl_dir + \"wow_BE.csv\"\n",
    "orig_data = pd.read_csv(wow_file)\n",
    "obs_data = orig_data[[\"Id\", \"Longitude\", \"Latitude\", \"Report Date / Time\", \"Air Temperature\"]]\n",
    "obs_data = obs_data.rename(columns = {\"Air Temperature\" : \"T2\", \"Report Date / Time\": \"time\", \"Longitude\":\"lon\", \"Latitude\": \"lat\"})\n",
    "obs_data[\"code\"] = obs_data[\"lat\"].astype(str) + '-' + obs_data[\"lon\"].astype(str)\n",
    "single_day_index = [i for i in np.arange(0, len(obs_data.time)) if len(obs_data.loc[i, \"time\"]) == 10]\n",
    "obs_data = obs_data.drop(single_day_index).reset_index(drop = True)\n",
    "\n",
    "# Averaging stations that fall within same gridcell\n",
    "[obs_data_agg, obs_indices] = point_data_2_climate_grid(obs_data, ds, 'T2')\n",
    "obs_data_agg.date = pd.to_datetime(obs_data_agg.time).dt.date\n",
    "obs_data = obs_data_agg.rename(columns = {\"grid_index\": \"code\"})\n",
    "obs_data['time'] = pd.to_datetime(obs_data[\"time\"])\n",
    "obs_data[\"T2\"] = obs_data[\"T2\"]+273.15\n",
    "obs_data['date'] = pd.to_datetime(obs_data['time']).dt.date\n",
    "obs_data[\"lat\"] = np.round(obs_data.lat, 6)\n",
    "obs_data[\"lon\"] = np.round(obs_data.lon, 6)\n",
    "obs_data[\"hour\"] = pd.to_datetime(obs_data['time']).dt.hour\n",
    "# Calculating average value for each hour\n",
    "obs_data = obs_data[[\"date\", \"hour\", \"T2\", \"code\", \"lat\", \"lon\"]].groupby([\"date\", \"hour\", \"code\", \"lat\", \"lon\"]).mean().reset_index()\n",
    "obs_data[\"time\"] = pd.to_datetime(obs_data[\"date\"]) + pd.to_timedelta(obs_data[\"hour\"], unit=\"h\")\n",
    "\n",
    "\n",
    "obs_data = obs_data.loc[np.where(np.logical_and(obs_data.time >= start_date, obs_data.time <= end_date))].reset_index(drop = True)\n",
    "\n",
    "# Checking whether the stations have data for each hour\n",
    "full_range = pd.date_range(start=start_date, \n",
    "                           end=end_date, \n",
    "                           freq=\"h\")  # Hourly intervals\n",
    "drop_stations = []\n",
    "for c in np.unique(obs_data.code):\n",
    "    code_temp = obs_data.loc[np.where(obs_data.code == c)].reset_index(drop = True)\n",
    "    missing_hours = full_range.difference(code_temp[\"time\"])\n",
    "    if len(missing_hours) > 0:\n",
    "        drop_stations.append(c)\n",
    "\n",
    "drop_indices = [i for i in np.arange(0, len(obs_data)) if obs_data.loc[i, \"code\"] in drop_stations]\n",
    "obs_data = obs_data.drop(drop_indices).reset_index(drop = True)\n",
    "\n"
   ]
  },
  {
   "cell_type": "code",
   "execution_count": 6,
   "metadata": {},
   "outputs": [],
   "source": [
    "df_duplicates = pd.DataFrame([], columns = [\"lat\", \"lon\", \"grid_index\", \"count\"])\n",
    "\n",
    "for ind in np.unique(obs_indices.grid_index):\n",
    "    locs = np.where(obs_indices.grid_index == ind)[0]\n",
    "    if len(locs) > 1:\n",
    "        for i in locs:\n",
    "            df_duplicates.loc[i, [\"lat\", \"lon\", \"grid_index\"]] = obs_indices.loc[i]\n",
    "            df_duplicates.loc[i, \"count\"] = len(locs)"
   ]
  },
  {
   "cell_type": "code",
   "execution_count": 9,
   "metadata": {},
   "outputs": [],
   "source": [
    "df_leuven = df_duplicates"
   ]
  },
  {
   "cell_type": "code",
   "execution_count": 21,
   "metadata": {},
   "outputs": [],
   "source": [
    "indx_max = np.where(df_leuven[\"count\"] == df_leuven[\"count\"].max())[0]\n",
    "df_leuven_max = df_leuven.iloc[indx_max].reset_index(drop = True)"
   ]
  },
  {
   "cell_type": "code",
   "execution_count": 22,
   "metadata": {},
   "outputs": [
    {
     "data": {
      "text/html": [
       "<div>\n",
       "<style scoped>\n",
       "    .dataframe tbody tr th:only-of-type {\n",
       "        vertical-align: middle;\n",
       "    }\n",
       "\n",
       "    .dataframe tbody tr th {\n",
       "        vertical-align: top;\n",
       "    }\n",
       "\n",
       "    .dataframe thead th {\n",
       "        text-align: right;\n",
       "    }\n",
       "</style>\n",
       "<table border=\"1\" class=\"dataframe\">\n",
       "  <thead>\n",
       "    <tr style=\"text-align: right;\">\n",
       "      <th></th>\n",
       "      <th>lat</th>\n",
       "      <th>lon</th>\n",
       "      <th>grid_index</th>\n",
       "      <th>count</th>\n",
       "    </tr>\n",
       "  </thead>\n",
       "  <tbody>\n",
       "    <tr>\n",
       "      <th>0</th>\n",
       "      <td>50.871</td>\n",
       "      <td>4.694</td>\n",
       "      <td>54279.0</td>\n",
       "      <td>7</td>\n",
       "    </tr>\n",
       "    <tr>\n",
       "      <th>1</th>\n",
       "      <td>50.8743</td>\n",
       "      <td>4.7058</td>\n",
       "      <td>54279.0</td>\n",
       "      <td>7</td>\n",
       "    </tr>\n",
       "    <tr>\n",
       "      <th>2</th>\n",
       "      <td>50.873</td>\n",
       "      <td>4.6949</td>\n",
       "      <td>54279.0</td>\n",
       "      <td>7</td>\n",
       "    </tr>\n",
       "    <tr>\n",
       "      <th>3</th>\n",
       "      <td>50.8733</td>\n",
       "      <td>4.6941</td>\n",
       "      <td>54279.0</td>\n",
       "      <td>7</td>\n",
       "    </tr>\n",
       "    <tr>\n",
       "      <th>4</th>\n",
       "      <td>50.8745</td>\n",
       "      <td>4.6951</td>\n",
       "      <td>54279.0</td>\n",
       "      <td>7</td>\n",
       "    </tr>\n",
       "    <tr>\n",
       "      <th>5</th>\n",
       "      <td>50.8692</td>\n",
       "      <td>4.7048</td>\n",
       "      <td>54279.0</td>\n",
       "      <td>7</td>\n",
       "    </tr>\n",
       "    <tr>\n",
       "      <th>6</th>\n",
       "      <td>50.8708</td>\n",
       "      <td>4.7014</td>\n",
       "      <td>54279.0</td>\n",
       "      <td>7</td>\n",
       "    </tr>\n",
       "  </tbody>\n",
       "</table>\n",
       "</div>"
      ],
      "text/plain": [
       "       lat     lon grid_index count\n",
       "0   50.871   4.694    54279.0     7\n",
       "1  50.8743  4.7058    54279.0     7\n",
       "2   50.873  4.6949    54279.0     7\n",
       "3  50.8733  4.6941    54279.0     7\n",
       "4  50.8745  4.6951    54279.0     7\n",
       "5  50.8692  4.7048    54279.0     7\n",
       "6  50.8708  4.7014    54279.0     7"
      ]
     },
     "execution_count": 22,
     "metadata": {},
     "output_type": "execute_result"
    }
   ],
   "source": [
    "df_leuven_max"
   ]
  },
  {
   "cell_type": "code",
   "execution_count": 25,
   "metadata": {},
   "outputs": [
    {
     "ename": "NameError",
     "evalue": "name 'random' is not defined",
     "output_type": "error",
     "traceback": [
      "\u001b[0;31m---------------------------------------------------------------------------\u001b[0m",
      "\u001b[0;31mNameError\u001b[0m                                 Traceback (most recent call last)",
      "Cell \u001b[0;32mIn[25], line 2\u001b[0m\n\u001b[1;32m      1\u001b[0m \u001b[38;5;28;01mfor\u001b[39;00m i \u001b[38;5;129;01min\u001b[39;00m np\u001b[38;5;241m.\u001b[39marange(\u001b[38;5;241m1\u001b[39m, df_leuven[\u001b[38;5;124m\"\u001b[39m\u001b[38;5;124mcount\u001b[39m\u001b[38;5;124m\"\u001b[39m]\u001b[38;5;241m.\u001b[39mmax()):\n\u001b[0;32m----> 2\u001b[0m     \u001b[38;5;28mprint\u001b[39m(\u001b[43mrandom\u001b[49m(\u001b[38;5;241m7\u001b[39m))\n\u001b[1;32m      3\u001b[0m     temp_station \u001b[38;5;241m=\u001b[39m df_leuven_max\n",
      "\u001b[0;31mNameError\u001b[0m: name 'random' is not defined"
     ]
    }
   ],
   "source": [
    "for i in np.arange(1, df_leuven[\"count\"].max()):\n",
    "    print(random(7))\n",
    "    temp_station = df_leuven_max"
   ]
  }
 ],
 "metadata": {
  "kernelspec": {
   "display_name": "wrf_env",
   "language": "python",
   "name": "python3"
  },
  "language_info": {
   "codemirror_mode": {
    "name": "ipython",
    "version": 3
   },
   "file_extension": ".py",
   "mimetype": "text/x-python",
   "name": "python",
   "nbconvert_exporter": "python",
   "pygments_lexer": "ipython3",
   "version": "3.13.0"
  }
 },
 "nbformat": 4,
 "nbformat_minor": 2
}
