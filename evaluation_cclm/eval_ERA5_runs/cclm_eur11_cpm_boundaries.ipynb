{
 "cells": [
  {
   "cell_type": "markdown",
   "metadata": {},
   "source": [
    "# Plots of CCLM domains"
   ]
  },
  {
   "cell_type": "code",
   "execution_count": 1,
   "metadata": {},
   "outputs": [],
   "source": [
    "import xarray as xr\n",
    "import matplotlib.pyplot as plt\n",
    "import valenspy as vp\n",
    "import numpy as np\n",
    "\n",
    "# define machine name - used for paths of (observational) datasets\n",
    "machine = 'hortense'\n",
    "\n",
    "# reference dataset to compare to\n",
    "model = 'CCLM'\n",
    "\n",
    "\n",
    "manager = vp.InputManager(machine=machine)\n",
    "\n",
    "years_to_analyse = range(1980,1981)\n"
   ]
  },
  {
   "cell_type": "code",
   "execution_count": 5,
   "metadata": {},
   "outputs": [],
   "source": []
  },
  {
   "cell_type": "code",
   "execution_count": 3,
   "metadata": {},
   "outputs": [
    {
     "name": "stdout",
     "output_type": "stream",
     "text": [
      "File paths found:\n",
      "/dodrio/scratch/projects/2022_200/project_output/rcs/CORDEXBE2/postprocessing/BE28_Nukleus/T_2M/daily/T_2M_daymean.nc\n",
      "Variable metadata is missing or incorrect\n",
      "The file is NOT ValEnsPy CF compliant.\n",
      "33.33% of the variables are ValEnsPy CF compliant\n",
      "ValEnsPy CF compliant: ['tas']\n",
      "Unknown to ValEnsPy: ['time_bnds', 'rotated_pole']\n"
     ]
    }
   ],
   "source": [
    "# load CPM simulation to extract domain rlat and rlons\n",
    "\n",
    "ds_mod_cpm = manager.load_data(model, ['tas'], freq=\"daily\", path_identifiers=[\"BE28_Nukleus\", \"mean\"])\n",
    "\n",
    "def extract_border_rlatlon(ds_belgium):\n",
    "    # Extract the rlat/rlon of the outermost rows and columns (the border of the Belgian domain)\n",
    "    rlat_border = xr.concat([ds_belgium['rlat'].isel(rlat=0),\n",
    "                             ds_belgium['rlat'].isel(rlat=-1)], dim='points')\n",
    "\n",
    "    rlon_border = xr.concat([ds_belgium['rlon'].isel(rlon=0), \n",
    "                             ds_belgium['rlon'].isel(rlon=-1),], dim='points')\n",
    "\n",
    "    return rlat_border.values, rlon_border.values\n",
    "\n",
    "rlat_border, rlon_border = extract_border_rlatlon(ds_mod_cpm.isel(time=1))\n"
   ]
  },
  {
   "cell_type": "code",
   "execution_count": 8,
   "metadata": {},
   "outputs": [
    {
     "name": "stdout",
     "output_type": "stream",
     "text": [
      "ta850\n"
     ]
    },
    {
     "ename": "FileNotFoundError",
     "evalue": "No files found for dataset CCLM, variables ['ta850'], period None, frequency daily, region None and path_identifiers ['CB2_CCLM_EUR11_ERA5_evaluation_urb', 'mean', '1981'].",
     "output_type": "error",
     "traceback": [
      "\u001b[0;31m---------------------------------------------------------------------------\u001b[0m",
      "\u001b[0;31mFileNotFoundError\u001b[0m                         Traceback (most recent call last)",
      "Cell \u001b[0;32mIn[8], line 11\u001b[0m\n\u001b[1;32m      9\u001b[0m \u001b[38;5;28;01mfor\u001b[39;00m variable \u001b[38;5;129;01min\u001b[39;00m variables: \n\u001b[1;32m     10\u001b[0m     \u001b[38;5;28mprint\u001b[39m(variable)\n\u001b[0;32m---> 11\u001b[0m     ds_eur11 \u001b[38;5;241m=\u001b[39m \u001b[43mmanager\u001b[49m\u001b[38;5;241;43m.\u001b[39;49m\u001b[43mload_data\u001b[49m\u001b[43m(\u001b[49m\u001b[43mmodel\u001b[49m\u001b[43m,\u001b[49m\u001b[43m \u001b[49m\u001b[43m[\u001b[49m\u001b[43mvariable\u001b[49m\u001b[43m]\u001b[49m\u001b[43m,\u001b[49m\u001b[43m \u001b[49m\u001b[43mfreq\u001b[49m\u001b[38;5;241;43m=\u001b[39;49m\u001b[38;5;124;43m\"\u001b[39;49m\u001b[38;5;124;43mdaily\u001b[39;49m\u001b[38;5;124;43m\"\u001b[39;49m\u001b[43m,\u001b[49m\u001b[43m \u001b[49m\u001b[43mpath_identifiers\u001b[49m\u001b[38;5;241;43m=\u001b[39;49m\u001b[43m[\u001b[49m\u001b[43mexperiment\u001b[49m\u001b[43m,\u001b[49m\u001b[43m \u001b[49m\u001b[38;5;124;43m\"\u001b[39;49m\u001b[38;5;124;43mmean\u001b[39;49m\u001b[38;5;124;43m\"\u001b[39;49m\u001b[43m,\u001b[49m\u001b[43m \u001b[49m\u001b[38;5;124;43m\"\u001b[39;49m\u001b[38;5;124;43m1981\u001b[39;49m\u001b[38;5;124;43m\"\u001b[39;49m\u001b[43m]\u001b[49m\u001b[43m)\u001b[49m\n\u001b[1;32m     14\u001b[0m     da_eur11 \u001b[38;5;241m=\u001b[39m ds_eur11[variable]\u001b[38;5;241m.\u001b[39msel(time \u001b[38;5;241m=\u001b[39m ds_eur11\u001b[38;5;241m.\u001b[39mtime\u001b[38;5;241m.\u001b[39mdt\u001b[38;5;241m.\u001b[39myear\u001b[38;5;241m.\u001b[39misin(years_to_analyse))\u001b[38;5;241m.\u001b[39mmean(\u001b[38;5;124m'\u001b[39m\u001b[38;5;124mtime\u001b[39m\u001b[38;5;124m'\u001b[39m)\n\u001b[1;32m     16\u001b[0m     \u001b[38;5;66;03m# from the EUR11 simulaiton, extract the borders \u001b[39;00m\n",
      "File \u001b[0;32m/dodrio/scratch/projects/2022_200/project_output/RMIB-UGent/vsc31332_inne/ValEnsPy/src/valenspy/input_manager.py:153\u001b[0m, in \u001b[0;36mInputManager.load_data\u001b[0;34m(self, dataset_name, variables, period, freq, region, cf_convert, path_identifiers, metadata_info)\u001b[0m\n\u001b[1;32m    144\u001b[0m files \u001b[38;5;241m=\u001b[39m \u001b[38;5;28mself\u001b[39m\u001b[38;5;241m.\u001b[39m_get_file_paths(\n\u001b[1;32m    145\u001b[0m     dataset_name,\n\u001b[1;32m    146\u001b[0m     variables\u001b[38;5;241m=\u001b[39mvariables,\n\u001b[0;32m   (...)\u001b[0m\n\u001b[1;32m    150\u001b[0m     path_identifiers\u001b[38;5;241m=\u001b[39mpath_identifiers,\n\u001b[1;32m    151\u001b[0m )\n\u001b[1;32m    152\u001b[0m \u001b[38;5;28;01mif\u001b[39;00m \u001b[38;5;129;01mnot\u001b[39;00m files:\n\u001b[0;32m--> 153\u001b[0m     \u001b[38;5;28;01mraise\u001b[39;00m \u001b[38;5;167;01mFileNotFoundError\u001b[39;00m(\n\u001b[1;32m    154\u001b[0m         \u001b[38;5;124mf\u001b[39m\u001b[38;5;124m\"\u001b[39m\u001b[38;5;124mNo files found for dataset \u001b[39m\u001b[38;5;132;01m{\u001b[39;00mdataset_name\u001b[38;5;132;01m}\u001b[39;00m\u001b[38;5;124m, variables \u001b[39m\u001b[38;5;132;01m{\u001b[39;00mvariables\u001b[38;5;132;01m}\u001b[39;00m\u001b[38;5;124m, period \u001b[39m\u001b[38;5;132;01m{\u001b[39;00mperiod\u001b[38;5;132;01m}\u001b[39;00m\u001b[38;5;124m, frequency \u001b[39m\u001b[38;5;132;01m{\u001b[39;00mfreq\u001b[38;5;132;01m}\u001b[39;00m\u001b[38;5;124m, region \u001b[39m\u001b[38;5;132;01m{\u001b[39;00mregion\u001b[38;5;132;01m}\u001b[39;00m\u001b[38;5;124m and path_identifiers \u001b[39m\u001b[38;5;132;01m{\u001b[39;00mpath_identifiers\u001b[38;5;132;01m}\u001b[39;00m\u001b[38;5;124m.\u001b[39m\u001b[38;5;124m\"\u001b[39m\n\u001b[1;32m    155\u001b[0m     )\n\u001b[1;32m    156\u001b[0m \u001b[38;5;28mprint\u001b[39m(\u001b[38;5;124m\"\u001b[39m\u001b[38;5;124mFile paths found:\u001b[39m\u001b[38;5;124m\"\u001b[39m)\n\u001b[1;32m    157\u001b[0m \u001b[38;5;28;01mfor\u001b[39;00m f \u001b[38;5;129;01min\u001b[39;00m files:\n",
      "\u001b[0;31mFileNotFoundError\u001b[0m: No files found for dataset CCLM, variables ['ta850'], period None, frequency daily, region None and path_identifiers ['CB2_CCLM_EUR11_ERA5_evaluation_urb', 'mean', '1981']."
     ]
    }
   ],
   "source": [
    "d_border_values = {}\n",
    "d_border_values_mean = {}\n",
    "d_border_values_mean_experiment = {}\n",
    "variables = ['ta850','ta700','ta500','ta250']\n",
    "experiment = 'CB2_CCLM_EUR11_ERA5_evaluation_urb'\n",
    "\n",
    "pressure_levels = [850,700,500,250]\n",
    "\n",
    "for variable in variables: \n",
    "    print(variable)\n",
    "    ds_eur11 = manager.load_data(model, [variable], freq=\"daily\", path_identifiers=[experiment, \"mean\", [str(year) for year in years_to_analyse]])\n",
    "\n",
    "\n",
    "    da_eur11 = ds_eur11[variable].sel(time = ds_eur11.time.dt.year.isin(years_to_analyse)).mean('time')\n",
    "\n",
    "    # from the EUR11 simulaiton, extract the borders \n",
    "\n",
    "    europe_subset = da_eur11.sel(rlat=slice(rlat_border[0], rlat_border[1]), \n",
    "                                rlon=slice(rlon_border[0], rlon_border[1]))\n",
    "\n",
    "    bottom =  europe_subset.isel(rlat=0).squeeze().values\n",
    "    top =  europe_subset.isel(rlat=-1).squeeze().values\n",
    "    left = europe_subset.isel(rlon=0).squeeze().values\n",
    "    right = europe_subset.isel(rlon=-1).squeeze().values\n",
    "\n",
    "    # merge all into one 1D array\n",
    "    border_values = np.concat([np.array([bottom, top]).ravel(),np.array([left,right]).ravel()])\n",
    "    border_values_mean = np.mean(border_values)\n",
    "\n",
    "    d_border_values[experiment+'_'+variable] = border_values\n",
    "    d_border_values_mean_experiment[variable] = border_values_mean\n",
    "    d_border_values_mean[experiment] = d_border_values_mean_experiment"
   ]
  },
  {
   "cell_type": "code",
   "execution_count": null,
   "metadata": {},
   "outputs": [
    {
     "name": "stdout",
     "output_type": "stream",
     "text": [
      "ta850\n",
      "File paths found:\n",
      "/dodrio/scratch/projects/2022_200/project_output/rcs/CORDEXBE2/postprocessing/CB2_CCLM_EUR11_ERA5_evaluation_urb/T850p/daily/T850p_daymean.nc\n",
      "Variable metadata is missing or incorrect\n",
      "The file is NOT ValEnsPy CF compliant.\n",
      "33.33% of the variables are ValEnsPy CF compliant\n",
      "ValEnsPy CF compliant: ['ta850']\n",
      "Unknown to ValEnsPy: ['time_bnds', 'rotated_pole']\n",
      "ta700\n",
      "File paths found:\n",
      "/dodrio/scratch/projects/2022_200/project_output/rcs/CORDEXBE2/postprocessing/CB2_CCLM_EUR11_ERA5_evaluation_urb/T700p/daily/T700p_daymean.nc\n",
      "Variable metadata is missing or incorrect\n",
      "The file is NOT ValEnsPy CF compliant.\n",
      "33.33% of the variables are ValEnsPy CF compliant\n",
      "ValEnsPy CF compliant: ['ta700']\n",
      "Unknown to ValEnsPy: ['time_bnds', 'rotated_pole']\n",
      "ta500\n",
      "File paths found:\n",
      "/dodrio/scratch/projects/2022_200/project_output/rcs/CORDEXBE2/postprocessing/CB2_CCLM_EUR11_ERA5_evaluation_urb/T500p/daily/T500p_daymean.nc\n",
      "Variable metadata is missing or incorrect\n",
      "The file is NOT ValEnsPy CF compliant.\n",
      "33.33% of the variables are ValEnsPy CF compliant\n",
      "ValEnsPy CF compliant: ['ta500']\n",
      "Unknown to ValEnsPy: ['time_bnds', 'rotated_pole']\n",
      "ta250\n",
      "File paths found:\n",
      "/dodrio/scratch/projects/2022_200/project_output/rcs/CORDEXBE2/postprocessing/CB2_CCLM_EUR11_ERA5_evaluation_urb/T250p/daily/T250p_daymean.nc\n",
      "Variable metadata is missing or incorrect\n",
      "The file is NOT ValEnsPy CF compliant.\n",
      "33.33% of the variables are ValEnsPy CF compliant\n",
      "ValEnsPy CF compliant: ['ta250']\n",
      "Unknown to ValEnsPy: ['time_bnds', 'rotated_pole']\n"
     ]
    }
   ],
   "source": [
    "d_border_values = {}\n",
    "d_border_values_mean = {}\n",
    "d_border_values_mean_experiment = {}\n",
    "variables = ['ta850','ta700','ta500','ta250']\n",
    "experiment = 'CB2_CCLM_EUR11_ERA5_evaluation'\n",
    "\n",
    "pressure_levels = [850,700,500,250]\n",
    "\n",
    "for variable in variables: \n",
    "    print(variable)\n",
    "    ds_eur11 = manager.load_data(model, [variable], freq=\"daily\", path_identifiers=[experiment, \"mean\", [str(year) for year in years_to_analyse]])\n",
    "\n",
    "\n",
    "    da_eur11 = ds_eur11[variable].sel(time = ds_eur11.time.dt.year.isin(years_to_analyse)).mean('time')\n",
    "\n",
    "    # from the EUR11 simulaiton, extract the borders \n",
    "\n",
    "    europe_subset = da_eur11.sel(rlat=slice(rlat_border[0], rlat_border[1]), \n",
    "                                rlon=slice(rlon_border[0], rlon_border[1]))\n",
    "\n",
    "    bottom =  europe_subset.isel(rlat=0).squeeze().values\n",
    "    top =  europe_subset.isel(rlat=-1).squeeze().values\n",
    "    left = europe_subset.isel(rlon=0).squeeze().values\n",
    "    right = europe_subset.isel(rlon=-1).squeeze().values\n",
    "\n",
    "    # merge all into one 1D array\n",
    "    border_values = np.concat([np.array([bottom, top]).ravel(),np.array([left,right]).ravel()])\n",
    "    border_values_mean = np.mean(border_values)\n",
    "\n",
    "    d_border_values[experiment+'_'+variable] = border_values\n",
    "    d_border_values_mean_experiment[variable] = border_values_mean\n",
    "    d_border_values_mean[experiment] = d_border_values_mean_experiment"
   ]
  },
  {
   "cell_type": "code",
   "execution_count": 4,
   "metadata": {},
   "outputs": [
    {
     "ename": "NameError",
     "evalue": "name 'experiments' is not defined",
     "output_type": "error",
     "traceback": [
      "\u001b[0;31m---------------------------------------------------------------------------\u001b[0m",
      "\u001b[0;31mNameError\u001b[0m                                 Traceback (most recent call last)",
      "Cell \u001b[0;32mIn[4], line 5\u001b[0m\n\u001b[1;32m      1\u001b[0m \u001b[38;5;28;01mimport\u001b[39;00m \u001b[38;5;21;01mmatplotlib\u001b[39;00m\u001b[38;5;21;01m.\u001b[39;00m\u001b[38;5;21;01mpyplot\u001b[39;00m \u001b[38;5;28;01mas\u001b[39;00m \u001b[38;5;21;01mplt\u001b[39;00m\n\u001b[1;32m      3\u001b[0m fig,ax \u001b[38;5;241m=\u001b[39m plt\u001b[38;5;241m.\u001b[39msubplots()\n\u001b[0;32m----> 5\u001b[0m \u001b[38;5;28;01mfor\u001b[39;00m experiment \u001b[38;5;129;01min\u001b[39;00m \u001b[43mexperiments\u001b[49m: \n\u001b[1;32m      6\u001b[0m     mean_values_per_pressure \u001b[38;5;241m=\u001b[39m [p \u001b[38;5;28;01mfor\u001b[39;00m key,p \u001b[38;5;129;01min\u001b[39;00m d_border_values_mean[experiment]\u001b[38;5;241m.\u001b[39mitems()]\n\u001b[1;32m      7\u001b[0m     ax\u001b[38;5;241m.\u001b[39mplot(mean_values_per_pressure, pressure_levels, label\u001b[38;5;241m=\u001b[39mexperiment)\n",
      "\u001b[0;31mNameError\u001b[0m: name 'experiments' is not defined"
     ]
    },
    {
     "data": {
      "image/png": "[encoded data removed]",
      "text/plain": [
       "<Figure size 640x480 with 1 Axes>"
      ]
     },
     "metadata": {},
     "output_type": "display_data"
    }
   ],
   "source": [
    "import matplotlib.pyplot as plt\n",
    "\n",
    "fig,ax = plt.subplots()\n",
    "experiments = ['CB2_CCLM_EUR11_ERA5_evaluation','CB2_CCLM_EUR11_ERA5_evaluation_urb']\n",
    "\n",
    "for experiment in experiments: \n",
    "    mean_values_per_pressure = [p for key,p in d_border_values_mean[experiment].items()]\n",
    "    ax.plot(mean_values_per_pressure, pressure_levels, label=experiment)\n",
    "\n",
    "    ax.set_title('T at different pressure levels for border cells', loc='right')\n",
    "    ax.set_ylabel('pressure levels (hPa)')\n",
    "    ax.legend()"
   ]
  },
  {
   "cell_type": "code",
   "execution_count": null,
   "metadata": {},
   "outputs": [],
   "source": []
  }
 ],
 "metadata": {
  "kernelspec": {
   "display_name": "valenspy_dev",
   "language": "python",
   "name": "python3"
  },
  "language_info": {
   "codemirror_mode": {
    "name": "ipython",
    "version": 3
   },
   "file_extension": ".py",
   "mimetype": "text/x-python",
   "name": "python",
   "nbconvert_exporter": "python",
   "pygments_lexer": "ipython3",
   "version": "3.9.20"
  }
 },
 "nbformat": 4,
 "nbformat_minor": 2
}
