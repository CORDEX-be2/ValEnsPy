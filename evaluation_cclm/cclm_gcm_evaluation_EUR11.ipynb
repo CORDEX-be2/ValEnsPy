{
 "cells": [
  {
   "cell_type": "markdown",
   "metadata": {},
   "source": [
    "# Evaluation of test year GCM-driven run"
   ]
  },
  {
   "cell_type": "code",
   "execution_count": 26,
   "metadata": {},
   "outputs": [],
   "source": [
    "import valenspy as vp\n",
    "from valenspy._utilities import load_yml\n",
    "from valenspy.preprocessing_tasks.select import select_point\n",
    "from valenspy.diagnostic_functions import mean_bias, mean_absolute_error, root_mean_square_error, spearman_correlation, perkins_skill_score\n",
    "from pathlib import Path\n",
    "\n",
    "\n",
    "import xarray as xr\n",
    "import numpy as np\n",
    "import pandas as pd\n",
    "\n",
    "\n",
    "# define machine name - used for paths of (observational) datasets\n",
    "machine = 'hortense'\n",
    "\n",
    "manager = vp.InputManager(machine=machine)\n"
   ]
  },
  {
   "cell_type": "markdown",
   "metadata": {},
   "source": [
    "## 0. Pre-defining "
   ]
  },
  {
   "cell_type": "code",
   "execution_count": 27,
   "metadata": {},
   "outputs": [],
   "source": [
    "# Define reference datasets\n",
    "reference = 'ERA5'\n",
    "test_set = 'EC-Earth'\n",
    "domain = 'EUR11'\n",
    "experiment = \"CB2_CCLM_EUR11_EC-Earth_test\"\n",
    "model = \"CCLM\"\n",
    "\n",
    "variables = 'tas'"
   ]
  },
  {
   "cell_type": "code",
   "execution_count": 28,
   "metadata": {},
   "outputs": [],
   "source": [
    "variable = \"tas\""
   ]
  },
  {
   "cell_type": "markdown",
   "metadata": {},
   "source": [
    "## 1. Functions"
   ]
  },
  {
   "cell_type": "code",
   "execution_count": 29,
   "metadata": {},
   "outputs": [],
   "source": [
    "def load_data_exp(variable, model, experiment):\n",
    "\n",
    "    if variable in ['tas','clt', 'clh', 'clm', 'cll']:\n",
    "        daily_statistic = \"mean\"\n",
    "    #    ds_exp = ds_obs.resample(time='1D').mean()\n",
    "\n",
    "    elif variable == 'pr': \n",
    " \n",
    "        daily_statistic = \"sum\"\n",
    "   #     ds_obs = ds_obs.resample(time='1D').sum()\n",
    "\n",
    "    elif variable == \"tasmax\": \n",
    "        daily_statistic = \"max\"\n",
    "       # ds_obs = ds_obs.resample(time='1D').max()\n",
    "\n",
    "    ds_mod = manager.load_data(model, [variable], freq=\"hourly\", path_identifiers=[experiment, daily_statistic])\n",
    "\n",
    "\n",
    "    ds_mod['time'] = ds_mod['time'].dt.floor('D')\n",
    "\n",
    "\n",
    "    da_exp = ds_mod[variable].compute()\n",
    "\n",
    "    return da_exp"
   ]
  },
  {
   "cell_type": "code",
   "execution_count": 30,
   "metadata": {},
   "outputs": [],
   "source": [
    "#def split_data_in_years(data):\n",
    "    "
   ]
  },
  {
   "cell_type": "markdown",
   "metadata": {},
   "source": [
    "## 2. Running"
   ]
  },
  {
   "cell_type": "code",
   "execution_count": 31,
   "metadata": {},
   "outputs": [
    {
     "ename": "FileNotFoundError",
     "evalue": "No files found for dataset CCLM, variables ['tas'], period None, frequency hourly, region None and path_identifiers ['CB2_CCLM_EUR11_EC-Earth_test', 'mean'].",
     "output_type": "error",
     "traceback": [
      "\u001b[0;31m---------------------------------------------------------------------------\u001b[0m",
      "\u001b[0;31mFileNotFoundError\u001b[0m                         Traceback (most recent call last)",
      "Cell \u001b[0;32mIn[31], line 1\u001b[0m\n\u001b[0;32m----> 1\u001b[0m da_ref \u001b[38;5;241m=\u001b[39m \u001b[43mload_data_exp\u001b[49m\u001b[43m(\u001b[49m\u001b[43mvariable\u001b[49m\u001b[43m,\u001b[49m\u001b[43m \u001b[49m\u001b[43mmodel\u001b[49m\u001b[43m,\u001b[49m\u001b[43m \u001b[49m\u001b[43mexperiment\u001b[49m\u001b[43m)\u001b[49m\n",
      "Cell \u001b[0;32mIn[29], line 16\u001b[0m, in \u001b[0;36mload_data_exp\u001b[0;34m(variable, model, experiment)\u001b[0m\n\u001b[1;32m     13\u001b[0m     daily_statistic \u001b[38;5;241m=\u001b[39m \u001b[38;5;124m\"\u001b[39m\u001b[38;5;124mmax\u001b[39m\u001b[38;5;124m\"\u001b[39m\n\u001b[1;32m     14\u001b[0m    \u001b[38;5;66;03m# ds_obs = ds_obs.resample(time='1D').max()\u001b[39;00m\n\u001b[0;32m---> 16\u001b[0m ds_mod \u001b[38;5;241m=\u001b[39m \u001b[43mmanager\u001b[49m\u001b[38;5;241;43m.\u001b[39;49m\u001b[43mload_data\u001b[49m\u001b[43m(\u001b[49m\u001b[43mmodel\u001b[49m\u001b[43m,\u001b[49m\u001b[43m \u001b[49m\u001b[43m[\u001b[49m\u001b[43mvariable\u001b[49m\u001b[43m]\u001b[49m\u001b[43m,\u001b[49m\u001b[43m \u001b[49m\u001b[43mfreq\u001b[49m\u001b[38;5;241;43m=\u001b[39;49m\u001b[38;5;124;43m\"\u001b[39;49m\u001b[38;5;124;43mhourly\u001b[39;49m\u001b[38;5;124;43m\"\u001b[39;49m\u001b[43m,\u001b[49m\u001b[43m \u001b[49m\u001b[43mpath_identifiers\u001b[49m\u001b[38;5;241;43m=\u001b[39;49m\u001b[43m[\u001b[49m\u001b[43mexperiment\u001b[49m\u001b[43m,\u001b[49m\u001b[43m \u001b[49m\u001b[43mdaily_statistic\u001b[49m\u001b[43m]\u001b[49m\u001b[43m)\u001b[49m\n\u001b[1;32m     19\u001b[0m ds_mod[\u001b[38;5;124m'\u001b[39m\u001b[38;5;124mtime\u001b[39m\u001b[38;5;124m'\u001b[39m] \u001b[38;5;241m=\u001b[39m ds_mod[\u001b[38;5;124m'\u001b[39m\u001b[38;5;124mtime\u001b[39m\u001b[38;5;124m'\u001b[39m]\u001b[38;5;241m.\u001b[39mdt\u001b[38;5;241m.\u001b[39mfloor(\u001b[38;5;124m'\u001b[39m\u001b[38;5;124mD\u001b[39m\u001b[38;5;124m'\u001b[39m)\n\u001b[1;32m     22\u001b[0m da_exp \u001b[38;5;241m=\u001b[39m ds_mod[variable]\u001b[38;5;241m.\u001b[39mcompute()\n",
      "File \u001b[0;32m/dodrio/scratch/projects/2022_200/project_output/rcs/CORDEXBE2/fiens/ValEnsPy/src/valenspy/input_manager.py:153\u001b[0m, in \u001b[0;36mInputManager.load_data\u001b[0;34m(self, dataset_name, variables, period, freq, region, cf_convert, path_identifiers, metadata_info)\u001b[0m\n\u001b[1;32m    144\u001b[0m files \u001b[38;5;241m=\u001b[39m \u001b[38;5;28mself\u001b[39m\u001b[38;5;241m.\u001b[39m_get_file_paths(\n\u001b[1;32m    145\u001b[0m     dataset_name,\n\u001b[1;32m    146\u001b[0m     variables\u001b[38;5;241m=\u001b[39mvariables,\n\u001b[0;32m   (...)\u001b[0m\n\u001b[1;32m    150\u001b[0m     path_identifiers\u001b[38;5;241m=\u001b[39mpath_identifiers,\n\u001b[1;32m    151\u001b[0m )\n\u001b[1;32m    152\u001b[0m \u001b[38;5;28;01mif\u001b[39;00m \u001b[38;5;129;01mnot\u001b[39;00m files:\n\u001b[0;32m--> 153\u001b[0m     \u001b[38;5;28;01mraise\u001b[39;00m \u001b[38;5;167;01mFileNotFoundError\u001b[39;00m(\n\u001b[1;32m    154\u001b[0m         \u001b[38;5;124mf\u001b[39m\u001b[38;5;124m\"\u001b[39m\u001b[38;5;124mNo files found for dataset \u001b[39m\u001b[38;5;132;01m{\u001b[39;00mdataset_name\u001b[38;5;132;01m}\u001b[39;00m\u001b[38;5;124m, variables \u001b[39m\u001b[38;5;132;01m{\u001b[39;00mvariables\u001b[38;5;132;01m}\u001b[39;00m\u001b[38;5;124m, period \u001b[39m\u001b[38;5;132;01m{\u001b[39;00mperiod\u001b[38;5;132;01m}\u001b[39;00m\u001b[38;5;124m, frequency \u001b[39m\u001b[38;5;132;01m{\u001b[39;00mfreq\u001b[38;5;132;01m}\u001b[39;00m\u001b[38;5;124m, region \u001b[39m\u001b[38;5;132;01m{\u001b[39;00mregion\u001b[38;5;132;01m}\u001b[39;00m\u001b[38;5;124m and path_identifiers \u001b[39m\u001b[38;5;132;01m{\u001b[39;00mpath_identifiers\u001b[38;5;132;01m}\u001b[39;00m\u001b[38;5;124m.\u001b[39m\u001b[38;5;124m\"\u001b[39m\n\u001b[1;32m    155\u001b[0m     )\n\u001b[1;32m    156\u001b[0m \u001b[38;5;28mprint\u001b[39m(\u001b[38;5;124m\"\u001b[39m\u001b[38;5;124mFile paths found:\u001b[39m\u001b[38;5;124m\"\u001b[39m)\n\u001b[1;32m    157\u001b[0m \u001b[38;5;28;01mfor\u001b[39;00m f \u001b[38;5;129;01min\u001b[39;00m files:\n",
      "\u001b[0;31mFileNotFoundError\u001b[0m: No files found for dataset CCLM, variables ['tas'], period None, frequency hourly, region None and path_identifiers ['CB2_CCLM_EUR11_EC-Earth_test', 'mean']."
     ]
    }
   ],
   "source": [
    "da_ref = load_data_exp(variable, model, experiment)"
   ]
  },
  {
   "cell_type": "markdown",
   "metadata": {},
   "source": [
    "## 2. Calculation and visualisation of time series\n",
    "in this example, the reference data is split up for each year. Each year is plot in a spaghetti plot, where the test year is also included.\n",
    "Additionally, the P5, P50 and P95 of the reference data is included for every day of every year."
   ]
  },
  {
   "cell_type": "code",
   "execution_count": null,
   "metadata": {},
   "outputs": [],
   "source": [
    "def get_ranks_metrics(df: pd.DataFrame): \n",
    "    \"\"\"\n",
    "    Ranks the performance of different models across various metrics based on predefined ranking criteria.\n",
    "\n",
    "    This function applies custom ranking rules to evaluate the performance of models across different metrics.\n",
    "    The ranking is based on the following criteria:\n",
    "    \n",
    "    - 'Mean Bias' is ranked by its absolute value, with smaller values (closer to zero) ranked higher.\n",
    "    - 'Spearman Correlation' and 'Perkins Skill Score' are ranked in descending order, meaning higher values (closer to 1) are better.\n",
    "    - All other metrics are ranked in ascending order, where lower values are better.\n",
    "    \n",
    "    The input DataFrame `df` is expected to have the following structure:\n",
    "    - The first column contains the metric names.\n",
    "    - Each subsequent column contains the performance values of different models for each metric.\n",
    "    \n",
    "    Parameters\n",
    "    ----------\n",
    "    df : pandas.DataFrame\n",
    "        A DataFrame where each row corresponds to a metric, the first column is the metric name, \n",
    "        and the subsequent columns contain performance values for different models.\n",
    "    \n",
    "    Returns\n",
    "    -------\n",
    "    pandas.DataFrame\n",
    "        A DataFrame where each value is replaced by its rank based on the ranking criteria for the corresponding metric.\n",
    "        The rows are indexed by the metric names.\n",
    "    \n",
    "    \"\"\"\n",
    "\n",
    "    # Function to rank values\n",
    "    def rank_values(row):\n",
    "\n",
    "        if row['metric'] == 'Mean Bias':\n",
    "            return row[1:].abs().rank(ascending=True)\n",
    "\n",
    "        if row['metric'] in ['Spearman Correlation', 'Perkins Skill Score']:\n",
    "            return row[1:].rank(ascending=False, method='min')\n",
    "        else:\n",
    "            return row[1:].rank(ascending=True, method='min')\n",
    "\n",
    "    # Apply ranking\n",
    "    df_ranked = df.apply(rank_values, axis=1).set_index(df['metric'])\n",
    "\n",
    "    return df_ranked\n"
   ]
  },
  {
   "cell_type": "markdown",
   "metadata": {},
   "source": [
    "## 3. Calculation of P5, P50, P95 for each year \n",
    "In this example, the P5, P50 and P95 for each year are calculated for the reference run and the test year. "
   ]
  }
 ],
 "metadata": {
  "kernelspec": {
   "display_name": "valenspy_dev",
   "language": "python",
   "name": "python3"
  },
  "language_info": {
   "codemirror_mode": {
    "name": "ipython",
    "version": 3
   },
   "file_extension": ".py",
   "mimetype": "text/x-python",
   "name": "python",
   "nbconvert_exporter": "python",
   "pygments_lexer": "ipython3",
   "version": "3.9.0"
  }
 },
 "nbformat": 4,
 "nbformat_minor": 2
}
