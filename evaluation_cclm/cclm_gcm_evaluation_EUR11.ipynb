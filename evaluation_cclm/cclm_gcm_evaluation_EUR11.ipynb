{
 "cells": [
  {
   "cell_type": "markdown",
   "metadata": {},
   "source": [
    "# Evaluation of test year GCM-driven run"
   ]
  },
  {
   "cell_type": "code",
   "execution_count": null,
   "metadata": {},
   "outputs": [
    {
     "ename": "",
     "evalue": "",
     "output_type": "error",
     "traceback": [
      "\u001b[1;31mFailed to start the Kernel. \n",
      "\u001b[1;31mUnable to start Kernel 'valenspy_dev (Python 3.9.0)' due to a timeout waiting for the ports to get used. \n",
      "\u001b[1;31mView Jupyter <a href='command:jupyter.viewOutput'>log</a> for further details."
     ]
    }
   ],
   "source": [
    "import valenspy as vp\n",
    "from valenspy._utilities import load_yml\n",
    "from valenspy.preprocessing_tasks.select import select_point\n",
    "from valenspy.diagnostic_functions import mean_bias, mean_absolute_error, root_mean_square_error, spearman_correlation, perkins_skill_score\n",
    "from pathlib import Path\n",
    "\n",
    "import xarray as xr\n",
    "import numpy as np\n",
    "import pandas as pd\n",
    "\n",
    "\n",
    "# define machine name - used for paths of (observational) datasets\n",
    "machine = 'hortense'\n",
    "\n",
    "manager = vp.InputManager(machine=machine)\n"
   ]
  },
  {
   "cell_type": "markdown",
   "metadata": {},
   "source": [
    "## 0. Pre-defining "
   ]
  },
  {
   "cell_type": "code",
   "execution_count": null,
   "metadata": {},
   "outputs": [],
   "source": [
    "# Define reference datasets\n",
    "reference = 'ERA5'\n",
    "test_set = 'EC-Earth'\n",
    "domain = 'EUR11'\n",
    "model = \"CCLM\"\n",
    "\n",
    "variable = 'tas'\n",
    "daily_statistic = \"mean\""
   ]
  },
  {
   "cell_type": "markdown",
   "metadata": {},
   "source": [
    "## 1. Functions"
   ]
  },
  {
   "cell_type": "code",
   "execution_count": null,
   "metadata": {},
   "outputs": [],
   "source": [
    "def load_data_exp(variable, model, experiment):\n",
    "\n",
    "    if variable in ['tas','clt', 'clh', 'clm', 'cll']:\n",
    "        daily_statistic = \"mean\"\n",
    "    #    ds_exp = ds_obs.resample(time='1D').mean()\n",
    "\n",
    "    elif variable == 'pr': \n",
    " \n",
    "        daily_statistic = \"sum\"\n",
    "   #     ds_obs = ds_obs.resample(time='1D').sum()\n",
    "\n",
    "    elif variable == \"tasmax\": \n",
    "        daily_statistic = \"max\"\n",
    "       # ds_obs = ds_obs.resample(time='1D').max()\n",
    "\n",
    "    ds_mod = manager.load_data(model, [variable], freq=\"hourly\", path_identifiers=[experiment, daily_statistic])\n",
    "\n",
    "\n",
    "    ds_mod['time'] = ds_mod['time'].dt.floor('D')\n",
    "\n",
    "\n",
    "    da_exp = ds_mod[variable].compute()\n",
    "\n",
    "    return da_exp"
   ]
  },
  {
   "cell_type": "code",
   "execution_count": null,
   "metadata": {},
   "outputs": [],
   "source": [
    "#def split_data_in_years(data):\n",
    "    "
   ]
  },
  {
   "cell_type": "markdown",
   "metadata": {},
   "source": [
    "## 2. Running"
   ]
  },
  {
   "cell_type": "code",
   "execution_count": null,
   "metadata": {},
   "outputs": [],
   "source": [
    "experiment = \"CB2_CCLM_EUR11_EC-Earth_test\"\n",
    "model = \"CCLM\"\n",
    "variable = 'tas'\n",
    "daily_statistic = \"mean\"\n",
    "da_exp = manager.load_data(model, [variable], freq=\"daily\", path_identifiers=[experiment, daily_statistic])\n",
    "da_exp"
   ]
  },
  {
   "cell_type": "code",
   "execution_count": null,
   "metadata": {},
   "outputs": [],
   "source": [
    "experiment = \"CB2_CCLM_EUR11_ERA5_evaluation\"\n",
    "model = \"CCLM\"\n",
    "\n",
    "variable = 'tas'\n",
    "daily_statistic = \"mean\"\n",
    "da_eval = manager.load_data(model, [variable], period = [1980, 1982], freq=\"monthly\", path_identifiers=[experiment, daily_statistic])"
   ]
  },
  {
   "cell_type": "markdown",
   "metadata": {},
   "source": [
    "## 2. Calculation and visualisation of time series\n",
    "in this example, the reference data is split up for each year. Each year is plot in a spaghetti plot, where the test year is also included.\n",
    "Additionally, the P5, P50 and P95 of the reference data is included for every day of every year."
   ]
  },
  {
   "cell_type": "code",
   "execution_count": null,
   "metadata": {},
   "outputs": [],
   "source": [
    "xr.open_dataset(\"/dodrio/scratch/projects/2022_200/project_output/rcs/CORDEXBE2/postprocessing/CB2_CCLM_EUR11_ERA5_evaluation_urb/T_2M/daily/T_2M_daymean_19820226.nc\")"
   ]
  },
  {
   "cell_type": "code",
   "execution_count": null,
   "metadata": {},
   "outputs": [],
   "source": [
    "def get_ranks_metrics(df: pd.DataFrame): \n",
    "    \"\"\"\n",
    "    Ranks the performance of different models across various metrics based on predefined ranking criteria.\n",
    "\n",
    "    This function applies custom ranking rules to evaluate the performance of models across different metrics.\n",
    "    The ranking is based on the following criteria:\n",
    "    \n",
    "    - 'Mean Bias' is ranked by its absolute value, with smaller values (closer to zero) ranked higher.\n",
    "    - 'Spearman Correlation' and 'Perkins Skill Score' are ranked in descending order, meaning higher values (closer to 1) are better.\n",
    "    - All other metrics are ranked in ascending order, where lower values are better.\n",
    "    \n",
    "    The input DataFrame `df` is expected to have the following structure:\n",
    "    - The first column contains the metric names.\n",
    "    - Each subsequent column contains the performance values of different models for each metric.\n",
    "    \n",
    "    Parameters\n",
    "    ----------\n",
    "    df : pandas.DataFrame\n",
    "        A DataFrame where each row corresponds to a metric, the first column is the metric name, \n",
    "        and the subsequent columns contain performance values for different models.\n",
    "    \n",
    "    Returns\n",
    "    -------\n",
    "    pandas.DataFrame\n",
    "        A DataFrame where each value is replaced by its rank based on the ranking criteria for the corresponding metric.\n",
    "        The rows are indexed by the metric names.\n",
    "    \n",
    "    \"\"\"\n",
    "\n",
    "    # Function to rank values\n",
    "    def rank_values(row):\n",
    "\n",
    "        if row['metric'] == 'Mean Bias':\n",
    "            return row[1:].abs().rank(ascending=True)\n",
    "\n",
    "        if row['metric'] in ['Spearman Correlation', 'Perkins Skill Score']:\n",
    "            return row[1:].rank(ascending=False, method='min')\n",
    "        else:\n",
    "            return row[1:].rank(ascending=True, method='min')\n",
    "\n",
    "    # Apply ranking\n",
    "    df_ranked = df.apply(rank_values, axis=1).set_index(df['metric'])\n",
    "\n",
    "    return df_ranked\n"
   ]
  },
  {
   "cell_type": "markdown",
   "metadata": {},
   "source": [
    "## 3. Calculation of P5, P50, P95 for each year \n",
    "In this example, the P5, P50 and P95 for each year are calculated for the reference run and the test year. "
   ]
  }
 ],
 "metadata": {
  "kernelspec": {
   "display_name": "valenspy_dev",
   "language": "python",
   "name": "python3"
  },
  "language_info": {
   "codemirror_mode": {
    "name": "ipython",
    "version": 3
   },
   "file_extension": ".py",
   "mimetype": "text/x-python",
   "name": "python",
   "nbconvert_exporter": "python",
   "pygments_lexer": "ipython3",
   "version": "3.9.0"
  }
 },
 "nbformat": 4,
 "nbformat_minor": 2
}
