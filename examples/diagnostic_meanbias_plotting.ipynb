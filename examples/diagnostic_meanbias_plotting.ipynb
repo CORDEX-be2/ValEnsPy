{
 "cells": [
  {
   "cell_type": "markdown",
   "metadata": {},
   "source": [
    "# Diagnostics: mean bias and plotting of difference maps\n",
    "\n",
    "A notebook to demonstrate the usage of an implemented plotting function in Valenspy"
   ]
  },
  {
   "cell_type": "code",
   "execution_count": 1,
   "metadata": {},
   "outputs": [],
   "source": [
    "import valenspy as vp\n",
    "from valenspy._utilities import load_yml\n",
    "from pathlib import Path\n",
    "\n",
    "from dask.diagnostics import ProgressBar\n",
    "from valenspy.preprocessing_tasks.regrid import remap_cdo\n",
    "import warnings\n",
    "import xarray as xr\n",
    "\n",
    "# Turn off all warnings\n",
    "warnings.filterwarnings('ignore')\n",
    "\n",
    "\n",
    "# define machine name - used for paths of (observational) datasets\n",
    "machine = 'hortense'\n",
    "\n"
   ]
  },
  {
   "cell_type": "markdown",
   "metadata": {},
   "source": [
    "## 0. Settings"
   ]
  },
  {
   "cell_type": "code",
   "execution_count": 2,
   "metadata": {},
   "outputs": [],
   "source": [
    "model = 'CCLM'\n",
    "ref_dataset = 'ERA5'\n",
    "variable = 'tas'"
   ]
  },
  {
   "cell_type": "markdown",
   "metadata": {},
   "source": [
    "## 1. Loading data\n",
    "\n",
    "### 1.1 Model data\n",
    "\n",
    "To be replaced with automatic input manager returning the ds"
   ]
  },
  {
   "cell_type": "code",
   "execution_count": 3,
   "metadata": {},
   "outputs": [],
   "source": [
    "# get lookup file for model\n",
    "mod_LOOKUP = load_yml(model+\"_lookup\")\n",
    "mod_var = mod_LOOKUP[variable]['mod_name']\n",
    "\n",
    "experiment = \"EUR11_CO_TA_GC_TSO\"\n",
    "postproc_base_dir = \"/dodrio/scratch/projects/2022_200/RCS/CORDEXBE2/postprocessing/\"\n",
    "\n",
    "# define the path\n",
    "directory = Path(postproc_base_dir + experiment +'/'+mod_var + '/')\n",
    "\n",
    "# define the CCLM files for the corresponding variable\n",
    "mod_files = list(directory.glob(mod_var+\"_daymean.nc\")) # Select all the netCDF files in the directory\n",
    "    \n",
    "ds_mod_raw = xr.open_mfdataset(mod_files, combine=\"by_coords\", chunks=\"auto\")"
   ]
  },
  {
   "cell_type": "markdown",
   "metadata": {},
   "source": [
    "### 1.2. Load reference data\n",
    "\n",
    "here we will use ERA5"
   ]
  },
  {
   "cell_type": "code",
   "execution_count": 4,
   "metadata": {},
   "outputs": [
    {
     "name": "stdout",
     "output_type": "stream",
     "text": [
      "File paths found:\n",
      "/dodrio/scratch/projects/2022_200/project_input/External/observations/era5/europe/hourly/2m_temperature/era5-hourly-europe-2m_temperature-1995.nc\n",
      "The file is ValEnsPy CF compliant.\n",
      "100.00% of the variables are ValEnsPy CF compliant\n",
      "ValEnsPy CF compliant: ['tas']\n"
     ]
    }
   ],
   "source": [
    "manager = vp.InputManager(machine=machine)\n",
    "\n",
    "ds_obs = manager.load_data(ref_dataset,variable, period=[1995,1995],freq=\"hourly\",region=\"europe\")\n"
   ]
  },
  {
   "cell_type": "markdown",
   "metadata": {},
   "source": [
    "## 2. preprocessing before calculating the diagnostic\n",
    "in this example, this means selecting time and remapping"
   ]
  },
  {
   "cell_type": "code",
   "execution_count": 5,
   "metadata": {},
   "outputs": [],
   "source": [
    "# regrid\n",
    "# retrieve ERA5 gridfile - for regridding \n",
    "gridfile = manager._get_file_paths(ref_dataset,variable, period=[1995,1995],freq=\"hourly\",region=\"europe\")[0]\n",
    "ds_mod = remap_cdo(gridfile, ds_mod_raw, remap_method = \"con\")\n",
    "\n",
    "# resample ERA5 hourly data to daily\n",
    "ds_obs = ds_obs.resample(time='1D').mean()    \n",
    "\n",
    "# for both datasets, select summer months (JJA)\n",
    "ds_mod = ds_mod.sel(time=ds_mod.time.dt.month.isin([6,7,8]))\n",
    "ds_obs = ds_obs.sel(time=ds_obs.time.dt.month.isin([6,7,8]))\n"
   ]
  },
  {
   "cell_type": "markdown",
   "metadata": {},
   "source": [
    "Now, both datasets are ready to be compared. "
   ]
  },
  {
   "cell_type": "markdown",
   "metadata": {},
   "source": [
    "## 3. Calculate the diagnostic and do plotting"
   ]
  },
  {
   "cell_type": "code",
   "execution_count": null,
   "metadata": {},
   "outputs": [],
   "source": [
    "from valenspy.diagnostic"
   ]
  }
 ],
 "metadata": {
  "kernelspec": {
   "display_name": "env_geo",
   "language": "python",
   "name": "env_geo"
  },
  "language_info": {
   "codemirror_mode": {
    "name": "ipython",
    "version": 3
   },
   "file_extension": ".py",
   "mimetype": "text/x-python",
   "name": "python",
   "nbconvert_exporter": "python",
   "pygments_lexer": "ipython3",
   "version": "3.12.2"
  }
 },
 "nbformat": 4,
 "nbformat_minor": 2
}
