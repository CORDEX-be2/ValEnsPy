{
 "cells": [
  {
   "cell_type": "code",
   "execution_count": 10,
   "metadata": {},
   "outputs": [],
   "source": [
    "import valenspy as vp \n",
    "from valenspy.input.converter import INPUT_CONVERTORS\n",
    "\n",
    "from pathlib import Path"
   ]
  },
  {
   "cell_type": "markdown",
   "metadata": {},
   "source": [
    "# Input convertors\n",
    "Input convertors translate a specific dataset to CF_convention output which eases the intercomparibility of datasets. \n",
    "This notebook illustrates there usage with a simple example - and explains how they work."
   ]
  },
  {
   "cell_type": "code",
   "execution_count": 7,
   "metadata": {},
   "outputs": [
    {
     "data": {
      "text/plain": [
       "dict_keys(['ERA5', 'ERA5-Land', 'EOBS', 'CLIMATE_GRID', 'CCLM', 'ALARO_K'])"
      ]
     },
     "execution_count": 7,
     "metadata": {},
     "output_type": "execute_result"
    }
   ],
   "source": [
    "INPUT_CONVERTORS.keys() #These are the currently available input convertors"
   ]
  },
  {
   "cell_type": "markdown",
   "metadata": {},
   "source": [
    "### Usage through the input manager\n",
    "The input manager uses the input convertors to convert the input data to the CF convention. \n",
    "For basic usage we recommend using the input manager instead of the input convertors directly. See the [input manager notebook](input_manager.ipynb)."
   ]
  },
  {
   "cell_type": "markdown",
   "metadata": {},
   "source": [
    "### Direct usage - ERA-5 data example\n",
    "You can pass your files to the input convertor. The input convertor will:\n",
    "- Read the data\n",
    "- Convert all variables by renaming and changing units where required\n",
    "- Add the necessary metadata - either user defined or predefined\n",
    "- Load the data into a xarray dataset\n",
    "- Provide feedback on which variables are converted and whether or not the resulting ds is CF compliant\n",
    "\n",
    "You should use the correct input convertor for your dataset. "
   ]
  },
  {
   "cell_type": "code",
   "execution_count": 15,
   "metadata": {},
   "outputs": [
    {
     "name": "stdout",
     "output_type": "stream",
     "text": [
      "The file is ValEnsPy CF compliant.\n",
      "50.00% of the variables are ValEnsPy CF compliant\n",
      "ValEnsPy CF compliant: ['tas']\n",
      "Unknown to ValEnsPy: ['time_bnds']\n"
     ]
    }
   ],
   "source": [
    "metadata_info = {'region' : \"europe\", 'freq' : 'daily', 'spatial_resolution': '0.1deg' } #User defined metadata\n",
    "\n",
    "#User defined input files - list of Path objects\n",
    "files = [\n",
    "    Path('/dodrio/scratch/projects/2022_200/project_input/External/observations/era5/europe/daily/2m_temperature/era5-daily-europe-2m_temperature-2013.nc'),\n",
    "    Path('/dodrio/scratch/projects/2022_200/project_input/External/observations/era5/europe/daily/2m_temperature/era5-daily-europe-2m_temperature-2010.nc'),\n",
    "    Path('/dodrio/scratch/projects/2022_200/project_input/External/observations/era5/europe/daily/2m_temperature/era5-daily-europe-2m_temperature-2017.nc'),\n",
    "    Path('/dodrio/scratch/projects/2022_200/project_input/External/observations/era5/europe/daily/2m_temperature/era5-daily-europe-2m_temperature-2006.nc'),\n",
    "    Path('/dodrio/scratch/projects/2022_200/project_input/External/observations/era5/europe/daily/2m_temperature/era5-daily-europe-2m_temperature-2014.nc'),\n",
    "    Path('/dodrio/scratch/projects/2022_200/project_input/External/observations/era5/europe/daily/2m_temperature/era5-daily-europe-2m_temperature-2019.nc'),\n",
    "    Path('/dodrio/scratch/projects/2022_200/project_input/External/observations/era5/europe/daily/2m_temperature/era5-daily-europe-2m_temperature-2000.nc'),\n",
    "    Path('/dodrio/scratch/projects/2022_200/project_input/External/observations/era5/europe/daily/2m_temperature/era5-daily-europe-2m_temperature-2011.nc'),\n",
    "    Path('/dodrio/scratch/projects/2022_200/project_input/External/observations/era5/europe/daily/2m_temperature/era5-daily-europe-2m_temperature-2002.nc'),\n",
    "    Path('/dodrio/scratch/projects/2022_200/project_input/External/observations/era5/europe/daily/2m_temperature/era5-daily-europe-2m_temperature-2008.nc'),\n",
    "    Path('/dodrio/scratch/projects/2022_200/project_input/External/observations/era5/europe/daily/2m_temperature/era5-daily-europe-2m_temperature-2012.nc'),\n",
    "    Path('/dodrio/scratch/projects/2022_200/project_input/External/observations/era5/europe/daily/2m_temperature/era5-daily-europe-2m_temperature-2003.nc'),\n",
    "    Path('/dodrio/scratch/projects/2022_200/project_input/External/observations/era5/europe/daily/2m_temperature/era5-daily-europe-2m_temperature-2018.nc'),\n",
    "    Path('/dodrio/scratch/projects/2022_200/project_input/External/observations/era5/europe/daily/2m_temperature/era5-daily-europe-2m_temperature-2007.nc'),\n",
    "    Path('/dodrio/scratch/projects/2022_200/project_input/External/observations/era5/europe/daily/2m_temperature/era5-daily-europe-2m_temperature-2009.nc'),\n",
    "    Path('/dodrio/scratch/projects/2022_200/project_input/External/observations/era5/europe/daily/2m_temperature/era5-daily-europe-2m_temperature-2004.nc'),\n",
    "    Path('/dodrio/scratch/projects/2022_200/project_input/External/observations/era5/europe/daily/2m_temperature/era5-daily-europe-2m_temperature-2005.nc'),\n",
    "    Path('/dodrio/scratch/projects/2022_200/project_input/External/observations/era5/europe/daily/2m_temperature/era5-daily-europe-2m_temperature-2016.nc'),\n",
    "    Path('/dodrio/scratch/projects/2022_200/project_input/External/observations/era5/europe/daily/2m_temperature/era5-daily-europe-2m_temperature-2015.nc'),\n",
    "    Path('/dodrio/scratch/projects/2022_200/project_input/External/observations/era5/europe/daily/2m_temperature/era5-daily-europe-2m_temperature-2001.nc')\n",
    "    ]\n",
    "\n",
    "\n",
    "#Load the data - with the convert_input method\n",
    "ds = INPUT_CONVERTORS['ERA5'].convert_input(files, metadata_info)"
   ]
  }
 ],
 "metadata": {
  "kernelspec": {
   "display_name": "Python 3",
   "language": "python",
   "name": "python3"
  },
  "language_info": {
   "codemirror_mode": {
    "name": "ipython",
    "version": 3
   },
   "file_extension": ".py",
   "mimetype": "text/x-python",
   "name": "python",
   "nbconvert_exporter": "python",
   "pygments_lexer": "ipython3",
   "version": "3.9.18"
  }
 },
 "nbformat": 4,
 "nbformat_minor": 2
}
