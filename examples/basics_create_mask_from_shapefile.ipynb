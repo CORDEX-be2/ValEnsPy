{
 "cells": [
  {
   "cell_type": "markdown",
   "metadata": {},
   "source": [
    "# Example notebook to create a mask based on a shapefile\n",
    "\n",
    "required: installation of regionmask"
   ]
  },
  {
   "cell_type": "code",
   "execution_count": 2,
   "metadata": {},
   "outputs": [],
   "source": [
    "import valenspy as vp\n",
    "import xarray as xr\n",
    "from pathlib import Path\n",
    "from valenspy._utilities import load_yml\n",
    "import os\n",
    "\n",
    "\n",
    "# define machine name - used for paths of (observational) datasets\n",
    "machine = 'hortense'\n"
   ]
  },
  {
   "cell_type": "markdown",
   "metadata": {},
   "source": [
    "## Load ERA5 data to base mask of"
   ]
  },
  {
   "cell_type": "code",
   "execution_count": 3,
   "metadata": {},
   "outputs": [],
   "source": [
    "# start up input manager\n",
    "manager = vp.InputManager(machine=machine)"
   ]
  },
  {
   "cell_type": "code",
   "execution_count": 4,
   "metadata": {},
   "outputs": [
    {
     "name": "stdout",
     "output_type": "stream",
     "text": [
      "File paths found:\n",
      "/dodrio/scratch/projects/2022_200/project_input/External/observations/era5/europe/daily/2m_temperature/era5-daily-europe-2m_temperature-1995.nc\n",
      "The file is ValEnsPy CF compliant.\n",
      "50.00% of the variables are ValEnsPy CF compliant\n",
      "ValEnsPy CF compliant: ['tas']\n",
      "Unknown to ValEnsPy: ['time_bnds']\n"
     ]
    },
    {
     "name": "stderr",
     "output_type": "stream",
     "text": [
      "/dodrio/scratch/projects/2022_200/project_output/RMIB-UGent/vsc46032_kobe/ValEnsPy/src/valenspy/_unit_conversions.py:79: UserWarning: Unit conversion for K to K is not implemented for variable tas.\n",
      "  warnings.warn(\n"
     ]
    }
   ],
   "source": [
    "# use input manager to load data, defined on settings above\n",
    "ds = manager.load_data(\"ERA5\",[\"tas\"], period=1995, freq=\"daily\", region=\"europe\", path_identifiers = [\"-daily-\"])\n"
   ]
  },
  {
   "cell_type": "markdown",
   "metadata": {},
   "source": [
    "## Create mask based on shapefile for ERA5 dataset"
   ]
  },
  {
   "cell_type": "code",
   "execution_count": 6,
   "metadata": {},
   "outputs": [],
   "source": [
    "import geopandas as gpd\n",
    "import regionmask\n",
    "\n",
    "def get_shapefile_mask(ds: xr.Dataset, shapefile_path: Path):\n",
    "    \"\"\"\n",
    "    Generates a mask from a shapefile to apply to an xarray Dataset.\n",
    "\n",
    "    This function reads a shapefile using Geopandas, converts it to the WGS84 coordinate reference system (CRS), \n",
    "    and creates a mask that can be applied to the input xarray Dataset. The mask identifies the grid cells that \n",
    "    fall within the shapefile's region.\n",
    "\n",
    "    Parameters\n",
    "    ----------\n",
    "    ds : xr.Dataset\n",
    "        Input xarray Dataset containing longitude and latitude coordinates.\n",
    "    shapefile_path : Path\n",
    "        Path to the shapefile to be used for masking.\n",
    "\n",
    "    Returns\n",
    "    -------\n",
    "    mask_shp : np.ndarray\n",
    "        A boolean mask array where grid cells within the shapefile region are marked as True, \n",
    "        and those outside are marked as False.\n",
    "\n",
    "    Notes\n",
    "    -----\n",
    "    - The shapefile is converted to the WGS84 CRS (EPSG:4326) before creating the mask.\n",
    "    - The function uses the regionmask library to generate the mask.\n",
    "\n",
    "    Examples\n",
    "    --------\n",
    "    >>> import xarray as xr\n",
    "    >>> from pathlib import Path\n",
    "    >>> ds = xr.open_dataset('path_to_your_dataset.nc')\n",
    "    >>> shapefile = Path('path_to_your_shapefile.shp')\n",
    "    >>> mask = get_shapefile_mask(ds, shapefile)\n",
    "    \"\"\"\n",
    "    # read shape file into geopandas geodataframe\n",
    "    gdf_shp = gpd.read_file(shapefile_path)\n",
    "\n",
    "    # convert geodataframe to WGS84 and mask - only needed to do once\n",
    "    gdf_shp = gdf_shp.to_crs(epsg=4326)\n",
    "\n",
    "    # do masking\n",
    "    mask_shp = (regionmask.mask_geopandas(gdf_shp, ds.lon.values, ds.lat.values) + 1) > 0\n",
    "\n",
    "    return mask_shp\n"
   ]
  },
  {
   "cell_type": "code",
   "execution_count": 11,
   "metadata": {},
   "outputs": [],
   "source": [
    "# get a belgian mask, first identify the path of the shapefile\n",
    "\n",
    "DATASET_PATHS = load_yml('dataset_PATHS')\n",
    "shapefile_path = DATASET_PATHS[machine]['shapefiles']+'/belgium/' + 'belgium_10km.shp'\n",
    "\n",
    "# get the shapefile mask\n",
    "mask_shp = get_shapefile_mask(ds, shapefile_path)"
   ]
  },
  {
   "cell_type": "code",
   "execution_count": 13,
   "metadata": {},
   "outputs": [
    {
     "data": {
      "text/plain": [
       "<matplotlib.collections.QuadMesh at 0x15146178aea0>"
      ]
     },
     "execution_count": 13,
     "metadata": {},
     "output_type": "execute_result"
    },
    {
     "data": {
      "image/png": "[encoded data removed]",
      "text/plain": [
       "<Figure size 640x480 with 2 Axes>"
      ]
     },
     "metadata": {},
     "output_type": "display_data"
    }
   ],
   "source": [
    "# plot the mask\n",
    "mask_shp.plot()"
   ]
  },
  {
   "cell_type": "code",
   "execution_count": null,
   "metadata": {},
   "outputs": [],
   "source": []
  }
 ],
 "metadata": {
  "kernelspec": {
   "display_name": "Python 3",
   "language": "python",
   "name": "python3"
  },
  "language_info": {
   "codemirror_mode": {
    "name": "ipython",
    "version": 3
   },
   "file_extension": ".py",
   "mimetype": "text/x-python",
   "name": "python",
   "nbconvert_exporter": "python",
   "pygments_lexer": "ipython3",
   "version": "3.9.18"
  }
 },
 "nbformat": 4,
 "nbformat_minor": 2
}
