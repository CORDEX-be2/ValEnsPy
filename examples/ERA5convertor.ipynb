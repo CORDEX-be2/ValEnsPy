{
 "cells": [
  {
   "cell_type": "markdown",
   "metadata": {},
   "source": [
    "# Workflow Example with ERA5 input convertor\n",
    "Here we illustrate a complete workflow example using the ERA5 convertor\n",
    "\n",
    "## Imports"
   ]
  },
  {
   "cell_type": "code",
   "execution_count": 1,
   "metadata": {},
   "outputs": [],
   "source": [
    "from pathlib import Path\n",
    "\n",
    "import xarray as xr\n",
    "import pandas as pd\n",
    "\n",
    "import valenspy as vp #The Valenspy package\n",
    "from valenspy.inputconverter_functions import _non_convertor, ERA5_to_CF\n",
    "\n",
    "from yaml import safe_load\n",
    "from typing import Union, List"
   ]
  },
  {
   "cell_type": "code",
   "execution_count": 2,
   "metadata": {},
   "outputs": [],
   "source": [
    "#Import Converter - This input converter will not do anything to the data.\n",
    "ic = vp.InputConverter(ERA5_to_CF)\n"
   ]
  },
  {
   "cell_type": "markdown",
   "metadata": {},
   "source": [
    "## 1. Convert the data"
   ]
  },
  {
   "cell_type": "markdown",
   "metadata": {},
   "source": [
    "### Get the filenames of ERA5 data corresponding to CORDEX variable name\n"
   ]
  },
  {
   "cell_type": "code",
   "execution_count": 11,
   "metadata": {},
   "outputs": [],
   "source": [
    "\n",
    "machine = \"hortense\"\n",
    "\n",
    "\n",
    "# User defined variable, here we look at 2m temperature. \n",
    "variable = \"tas\"\n",
    "dataset = \"ERA5\"\n",
    "region = \"europe\" # \"belgium\"\n",
    "time_freq = \"daily\" ## Important to account here are the postprocessed files at daily time resolution and their naming (eg max daily temperature does not correspond to ERA5 variable name as defined!!)"
   ]
  },
  {
   "cell_type": "markdown",
   "metadata": {},
   "source": [
    "### Generate the path and filename of obs file"
   ]
  },
  {
   "cell_type": "code",
   "execution_count": 12,
   "metadata": {},
   "outputs": [],
   "source": [
    "# Get the current file directory and load the CORDEX variables.yml file\n",
    "\n",
    "# files = Path(__file__).resolve().parent -- this is not working in notebook\n",
    "src_path = Path(\"../src/valenspy\") ## -- to be removed. \n",
    "\n",
    "with open(src_path / \"ancilliary_data\" / \"CORDEX_variables.yml\") as file:\n",
    "    CORDEX_VARIABLES = safe_load(file)\n",
    "\n",
    "# ERA5-Land has same variable defenitions as ERA5\n",
    "if dataset == 'ERA5-Land':\n",
    "    dataset_lookup = 'ERA5'\n",
    "else: \n",
    "    dataset_lookup = dataset\n",
    "\n",
    "with open(src_path / \"ancilliary_data\" / Path(dataset_lookup+\"_lookup.yml\")) as file:\n",
    "    obs_LOOKUP = safe_load(file)"
   ]
  },
  {
   "cell_type": "code",
   "execution_count": 13,
   "metadata": {},
   "outputs": [
    {
     "data": {
      "text/plain": [
       "[PosixPath('/dodrio/scratch/projects/2022_200/project_input/External/observations/era5/europe/daily/2m_temperature/era5-daily-europe-2m_temperature-2013.nc'),\n",
       " PosixPath('/dodrio/scratch/projects/2022_200/project_input/External/observations/era5/europe/daily/2m_temperature/era5-daily-europe-2m_temperature-2010.nc'),\n",
       " PosixPath('/dodrio/scratch/projects/2022_200/project_input/External/observations/era5/europe/daily/2m_temperature/era5-daily-europe-2m_temperature-2017.nc'),\n",
       " PosixPath('/dodrio/scratch/projects/2022_200/project_input/External/observations/era5/europe/daily/2m_temperature/era5-daily-europe-2m_temperature-2006.nc'),\n",
       " PosixPath('/dodrio/scratch/projects/2022_200/project_input/External/observations/era5/europe/daily/2m_temperature/era5-daily-europe-2m_temperature-2014.nc'),\n",
       " PosixPath('/dodrio/scratch/projects/2022_200/project_input/External/observations/era5/europe/daily/2m_temperature/era5-daily-europe-2m_temperature-2019.nc'),\n",
       " PosixPath('/dodrio/scratch/projects/2022_200/project_input/External/observations/era5/europe/daily/2m_temperature/era5-daily-europe-2m_temperature-2000.nc'),\n",
       " PosixPath('/dodrio/scratch/projects/2022_200/project_input/External/observations/era5/europe/daily/2m_temperature/era5-daily-europe-2m_temperature-2011.nc'),\n",
       " PosixPath('/dodrio/scratch/projects/2022_200/project_input/External/observations/era5/europe/daily/2m_temperature/era5-daily-europe-2m_temperature-2002.nc'),\n",
       " PosixPath('/dodrio/scratch/projects/2022_200/project_input/External/observations/era5/europe/daily/2m_temperature/era5-daily-europe-2m_temperature-2008.nc'),\n",
       " PosixPath('/dodrio/scratch/projects/2022_200/project_input/External/observations/era5/europe/daily/2m_temperature/era5-daily-europe-2m_temperature-2012.nc'),\n",
       " PosixPath('/dodrio/scratch/projects/2022_200/project_input/External/observations/era5/europe/daily/2m_temperature/era5-daily-europe-2m_temperature-2003.nc'),\n",
       " PosixPath('/dodrio/scratch/projects/2022_200/project_input/External/observations/era5/europe/daily/2m_temperature/era5-daily-europe-2m_temperature-2018.nc'),\n",
       " PosixPath('/dodrio/scratch/projects/2022_200/project_input/External/observations/era5/europe/daily/2m_temperature/era5-daily-europe-2m_temperature-2007.nc'),\n",
       " PosixPath('/dodrio/scratch/projects/2022_200/project_input/External/observations/era5/europe/daily/2m_temperature/era5-daily-europe-2m_temperature-2009.nc'),\n",
       " PosixPath('/dodrio/scratch/projects/2022_200/project_input/External/observations/era5/europe/daily/2m_temperature/era5-daily-europe-2m_temperature-2004.nc'),\n",
       " PosixPath('/dodrio/scratch/projects/2022_200/project_input/External/observations/era5/europe/daily/2m_temperature/era5-daily-europe-2m_temperature-2005.nc'),\n",
       " PosixPath('/dodrio/scratch/projects/2022_200/project_input/External/observations/era5/europe/daily/2m_temperature/era5-daily-europe-2m_temperature-2016.nc'),\n",
       " PosixPath('/dodrio/scratch/projects/2022_200/project_input/External/observations/era5/europe/daily/2m_temperature/era5-daily-europe-2m_temperature-2015.nc'),\n",
       " PosixPath('/dodrio/scratch/projects/2022_200/project_input/External/observations/era5/europe/daily/2m_temperature/era5-daily-europe-2m_temperature-2001.nc')]"
      ]
     },
     "execution_count": 13,
     "metadata": {},
     "output_type": "execute_result"
    }
   ],
   "source": [
    "# this will be part of the PATH generator. \n",
    "\n",
    "# get path of observational datasets from path settings .yml\n",
    "with open(src_path / \"ancilliary_data\" / Path(\"dataset_PATHS.yml\")) as file:\n",
    "    dataset_PATHS = safe_load(file)\n",
    "directory = dataset_PATHS[machine][dataset]\n",
    "\n",
    "# get ERA5 variable corresponding to the requested variable using its look-up table\n",
    "obs_var = obs_LOOKUP[variable]['obs_name']\n",
    "\n",
    "# get ERA5 subdirectory\n",
    "subdirectory = Path(directory + '/' + region +'/'+time_freq+'/'+obs_LOOKUP[variable]['obs_long_name']+'/')\n",
    "\n",
    "# open the EOBS file for the corresponding variable\n",
    "files = list(subdirectory.glob(\"*-\"+time_freq+\"-*\"+obs_LOOKUP[variable]['obs_long_name']+\"*20*.nc\")) #Select all the netCDF files in the directory\n",
    "files"
   ]
  },
  {
   "cell_type": "code",
   "execution_count": 14,
   "metadata": {},
   "outputs": [],
   "source": [
    "# test of ERA5 convertor function\n",
    "ERA5_ds = ic.convert_input(files) #Convert the input to the correct format\n",
    "ERA5_ds"
   ]
  }
 ],
 "metadata": {
  "kernelspec": {
   "display_name": "Python 3",
   "language": "python",
   "name": "python3"
  },
  "language_info": {
   "codemirror_mode": {
    "name": "ipython",
    "version": 3
   },
   "file_extension": ".py",
   "mimetype": "text/x-python",
   "name": "python",
   "nbconvert_exporter": "python",
   "pygments_lexer": "ipython3",
   "version": "3.9.18"
  }
 },
 "nbformat": 4,
 "nbformat_minor": 2
}
