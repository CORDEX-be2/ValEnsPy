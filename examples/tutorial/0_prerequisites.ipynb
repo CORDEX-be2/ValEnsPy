{
 "cells": [
  {
   "cell_type": "markdown",
   "metadata": {},
   "source": [
    "# Prerequisites\n",
    "\n",
    "Quick setup and other info"
   ]
  },
  {
   "cell_type": "markdown",
   "metadata": {},
   "source": [
    "## 1. Setup\n",
    "### 1.1 Opening Juptyer Notebooks\n",
    "- JupyterNotebook version: 6.4.0 GCCcore 11.3.0 IPython 8.5.0\n",
    "- Working directory: `/data/gent/vo/002/gvo00202/YOURUSERNAME/`\n",
    "- Custom code: `module load CDO`\n",
    "\n",
    "### 1.2 Activating the kernel - Once off\n",
    "Then open a new notebook and run the provided code in a code cell to setup the environment:"
   ]
  },
  {
   "cell_type": "code",
   "execution_count": null,
   "metadata": {},
   "outputs": [],
   "source": [
    "## Once off setup\n",
    "#!cp /data/gent/vo/002/gvo00202/vsc46032/ValEnsPy/examples/tutorial . #Copy the tutorial folder to your directory\n",
    "#!source /data/gent/vo/002/gvo00202/vsc46032/miniconda3/bin/activate /data/gent/vo/002/gvo00202/vsc46032/conda_envs/valenspy_dev #Activate the environment\n",
    "#ipython kernel install --user --name=valenspy_dev"
   ]
  },
  {
   "cell_type": "markdown",
   "metadata": {},
   "source": [
    "Refresh the page and select a new kernel. Kernel -> Change kernel -> valenspy_dev\n",
    "\n",
    "Test the setup:"
   ]
  },
  {
   "cell_type": "code",
   "execution_count": 1,
   "metadata": {},
   "outputs": [],
   "source": [
    "import valenspy as vp"
   ]
  },
  {
   "cell_type": "markdown",
   "metadata": {},
   "source": [
    "## 2. Python\n",
    "Everything is done in Python. But CDO is used for some operations - therefore module load CDO is required (for regridding functionality).\n",
    "Valenspy is built upon xarray. A basic understanding of xarray is recommended; but in the tutorials, a basic python knowledge is sufficient.\n",
    "\n",
    "### 2.1 xarray\n",
    "\n",
    "Very basic tutorial on the essentials in xarray:  https://github.com/jorisvandenbossche/DS-python-geospatial/blob/main/notebooks/11-xarray-intro.ipynb \n",
    "\n",
    "A more comprehensive tutorial can be found here: https://tutorial.xarray.dev/intro.html "
   ]
  },
  {
   "cell_type": "markdown",
   "metadata": {},
   "source": []
  }
 ],
 "metadata": {
  "kernelspec": {
   "display_name": "valenspy_dev",
   "language": "python",
   "name": "python3"
  },
  "language_info": {
   "codemirror_mode": {
    "name": "ipython",
    "version": 3
   },
   "file_extension": ".py",
   "mimetype": "text/x-python",
   "name": "python",
   "nbconvert_exporter": "python",
   "pygments_lexer": "ipython3",
   "version": "3.10.0"
  }
 },
 "nbformat": 4,
 "nbformat_minor": 2
}
