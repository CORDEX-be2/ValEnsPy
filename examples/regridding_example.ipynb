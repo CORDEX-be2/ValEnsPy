{
 "cells": [
  {
   "cell_type": "markdown",
   "metadata": {},
   "source": [
    "# Example notebook for postprocessing and evaluation of CCLM output\n",
    "Regridding, calculation of mean bias and plotting"
   ]
  },
  {
   "cell_type": "markdown",
   "metadata": {},
   "source": [
    "## 0. Imports & settings"
   ]
  },
  {
   "cell_type": "code",
   "execution_count": 1,
   "metadata": {},
   "outputs": [],
   "source": [
    "from pathlib import Path\n",
    "import os\n",
    "import xarray as xr\n",
    "import pandas as pd\n",
    "\n",
    "import valenspy as vp #The Valenspy package\n",
    "from valenspy.inputconverter_functions import ERA5_to_CF\n",
    "\n",
    "from yaml import safe_load\n"
   ]
  },
  {
   "cell_type": "code",
   "execution_count": 2,
   "metadata": {},
   "outputs": [],
   "source": [
    "## Settings\n",
    "\n",
    "# get source path\n",
    "src_path = Path(\"../src/valenspy\")\n",
    "\n",
    "# define machine name - used for paths of (observational) datasets\n",
    "machine = \"hortense\"\n",
    "\n",
    "# reference dataset to compare to\n",
    "ref_dataset = 'ERA5'\n",
    "\n",
    "# define model and postprocessing direct & get path with postprocessed CCLM output\n",
    "model = \"CCLM\"\n",
    "\n"
   ]
  },
  {
   "cell_type": "code",
   "execution_count": 3,
   "metadata": {},
   "outputs": [],
   "source": [
    "# define bounds per region: for plotting and extracting data. \n",
    "bounds = {'europe':\n",
    "                    {'lat_bounds': [70,35], \n",
    "                    'lon_bounds': [-15,40]}, \n",
    "        'belgium': \n",
    "                    {'lat_bounds': [52,49], \n",
    "                    'lon_bounds': [2,7]}}\n",
    "\n"
   ]
  },
  {
   "cell_type": "markdown",
   "metadata": {},
   "source": [
    "## Specific settings"
   ]
  },
  {
   "cell_type": "code",
   "execution_count": 4,
   "metadata": {},
   "outputs": [],
   "source": [
    "variable = \"tas\"\n",
    "\n",
    "region = \"europe\"\n",
    "\n",
    "experiment = \"EUR11_CO_TA_GC_TSO\"\n",
    "\n",
    "period = [1995,1995]\n",
    "\n",
    "months_to_analyse= [6,7]"
   ]
  },
  {
   "cell_type": "markdown",
   "metadata": {},
   "source": [
    "## 1. Load ERA5 data"
   ]
  },
  {
   "cell_type": "code",
   "execution_count": 5,
   "metadata": {},
   "outputs": [
    {
     "name": "stdout",
     "output_type": "stream",
     "text": [
      "File paths found:\n",
      "/dodrio/scratch/projects/2022_200/project_input/External/observations/era5/europe/daily/2m_temperature/era5-daily-europe-2m_temperature-1995.nc\n",
      "The file is ValEnsPy CF compliant.\n",
      "50.00% of the variables are ValEnsPy CF compliant\n",
      "ValEnsPy CF compliant: ['tas']\n",
      "Unknown to ValEnsPy: ['time_bnds']\n"
     ]
    }
   ],
   "source": [
    "# start up input manager\n",
    "manager = vp.InputManager(machine=machine)\n",
    "\n",
    "# use input manager to load data, defined on settings above\n",
    "ds_ref = manager.load_data(ref_dataset,variable, period=period,freq=\"daily\",region=region, path_identifiers = [\"-daily-\"])\n",
    "\n",
    "\n"
   ]
  },
  {
   "cell_type": "markdown",
   "metadata": {},
   "source": [
    "## 2. Load CCLM data\n",
    "\n",
    "This will be replaced by the CCLM input manager and convertor. "
   ]
  },
  {
   "cell_type": "code",
   "execution_count": 6,
   "metadata": {},
   "outputs": [],
   "source": [
    "## CCLM input manager will produce the paths\n",
    "\n",
    "with open(src_path / \"ancilliary_data\" / Path(\"dataset_PATHS.yml\")) as file:\n",
    "    dataset_PATHS = safe_load(file)\n",
    "model_directory = dataset_PATHS[machine][model]\n",
    "\n",
    "\n",
    "# get lookup file for model\n",
    "with open(src_path / \"ancilliary_data\" / Path(model+\"_lookup.yml\")) as file:\n",
    "    mod_LOOKUP = safe_load(file)\n",
    "\n",
    "\n",
    "# get CCLM variable corresponding to the requested variable using its look-up table\n",
    "mod_var = mod_LOOKUP[variable]['mod_name']\n",
    "\n",
    "# define the path\n",
    "directory = Path(model_directory + experiment +'/'+mod_var + '/')\n",
    "\n",
    "# define the CCLM files for the corresponding variable\n",
    "mod_files = list(directory.glob(mod_var+\"_daymean.nc\")) # Select all the netCDF files in the directory"
   ]
  },
  {
   "cell_type": "code",
   "execution_count": 7,
   "metadata": {},
   "outputs": [],
   "source": [
    "## CCLM input convertor will load the variables and convert them to CF compliant\n",
    "\n",
    "if not mod_files:  # empty list\n",
    "        print(f\"{variable} not available for {experiment}\")\n",
    "else: \n",
    "    \n",
    "    ds_mod = xr.open_mfdataset(mod_files, combine=\"by_coords\", chunks=\"auto\")\n"
   ]
  },
  {
   "cell_type": "markdown",
   "metadata": {},
   "source": [
    "## 3. Do regridding\n",
    "\n",
    "In this example CCLM output is regridded to the reference dataset grid (here ERA5)"
   ]
  },
  {
   "cell_type": "code",
   "execution_count": 8,
   "metadata": {},
   "outputs": [],
   "source": [
    "## Regridding function - transform this one into Valenspy\n",
    "\n",
    "def remap_cdo(gridfile: str, gridname: str, files_to_regrid: list, remap_method: str):\n",
    "    \"\"\"\n",
    "    Remaps a list of NetCDF files to a new grid using CDO (Climate Data Operators).\n",
    "\n",
    "    This function performs regridding of the given NetCDF files to the grid defined \n",
    "    by `gridfile` using the specified remap method. It saves the regridded files in \n",
    "    a \"regridded\" subdirectory within the directory where the original files are located \n",
    "    and returns the combined dataset.\n",
    "\n",
    "    Parameters:\n",
    "    -----------\n",
    "    gridfile : str\n",
    "        Path to the NetCDF file that defines the target grid for regridding.\n",
    "\n",
    "    gridname : str\n",
    "        Name to be used in the naming of the regridded files.\n",
    "    \n",
    "    files_to_regrid : list\n",
    "        List of paths to the NetCDF files that need to be regridded.\n",
    "    \n",
    "    remap_method : str\n",
    "        Method to be used for regridding. This should be a valid remapping method \n",
    "        supported by CDO (e.g., \"remapbil\", \"remapcon\").\n",
    "\n",
    "    Returns:\n",
    "    --------\n",
    "    xarray.Dataset\n",
    "        The combined xarray Dataset containing all the regridded files.\n",
    "\n",
    "    Notes:\n",
    "    ------\n",
    "    - This function uses the CDO command line tool to perform the regridding. \n",
    "      Ensure that CDO is installed and accessible from the command line.\n",
    "    - If using the \"remapcon\" method, ensure that the grid cell bounds are provided \n",
    "      in the input files. Additional processing might be required to add these bounds.\n",
    "    - The function renames longitude and latitude dimensions to \"lon\" and \"lat\" \n",
    "      respectively, if they are named differently in the regridded files.\n",
    "    \"\"\"\n",
    "    # within the directory where the files to be regridded are stored, create a \"regridded\" folder to store the regridded files\n",
    "    regrid_dir = os.path.dirname(files_to_regrid[0]) + \"/regridded/\"\n",
    "\n",
    "    if not os.path.exists(regrid_dir):\n",
    "        os.makedirs(regrid_dir)\n",
    "\n",
    "    for file in files_to_regrid:\n",
    "        regridded_file = os.path.join(regrid_dir, os.path.basename(file)[:-3] + '_' + ref_dataset + '_grid.nc')\n",
    "        cdo_string = f\"cdo {remap_method},{gridfile} {file} {regridded_file}\"\n",
    "        os.system(cdo_string)\n",
    "\n",
    "    files_regridded_all = os.path.join(regrid_dir, '*' + '_' + gridname + '_grid.nc')\n",
    "    ds = xr.open_mfdataset(files_regridded_all, combine=\"by_coords\", chunks=\"auto\")\n",
    "\n",
    "    # Rename dimensions if necessary\n",
    "    ds = ds.rename({\"longitude\": \"lon\", \"latitude\": \"lat\"}) if \"longitude\" in ds.coords or \"latitude\" in ds.coords else ds\n",
    "\n",
    "    return ds\n"
   ]
  },
  {
   "cell_type": "code",
   "execution_count": 9,
   "metadata": {},
   "outputs": [
    {
     "name": "stdout",
     "output_type": "stream",
     "text": [
      "cdo    remapbil: Bilinear weights from curvilinear (446x434) to lonlat (289x163) grid\n"
     ]
    }
   ],
   "source": [
    "# define the grid name as the reference dataset\n",
    "gridname = ref_dataset\n",
    "\n",
    "# retrieve reference dataset gridfile - for regridding \n",
    "gridfile = manager._get_file_paths(ref_dataset, variable, period=[1995, 1995], freq=\"daily\", region=region, path_identifiers = [\"-daily-\"])[0]\n",
    "\n",
    "# regrid\n",
    "ds_mod = remap_cdo(gridfile, gridname,  mod_files, remap_method = \"remapbil\")"
   ]
  }
 ],
 "metadata": {
  "kernelspec": {
   "display_name": "env_geo",
   "language": "python",
   "name": "env_geo"
  },
  "language_info": {
   "codemirror_mode": {
    "name": "ipython",
    "version": 3
   },
   "file_extension": ".py",
   "mimetype": "text/x-python",
   "name": "python",
   "nbconvert_exporter": "python",
   "pygments_lexer": "ipython3",
   "version": "3.12.2"
  }
 },
 "nbformat": 4,
 "nbformat_minor": 2
}
