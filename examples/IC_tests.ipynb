{
 "cells": [
  {
   "cell_type": "code",
   "execution_count": 1,
   "metadata": {},
   "outputs": [
    {
     "name": "stderr",
     "output_type": "stream",
     "text": [
      "/dodrio/scratch/projects/2022_200/project_output/RMIB-UGent/vsc46032_kobe/conda_envs/valenspy_env/lib/python3.11/site-packages/esmpy/interface/loadESMF.py:94: VersionWarning: ESMF installation version 8.8.0, ESMPy version 8.8.0b0\n",
      "  warnings.warn(\"ESMF installation version {}, ESMPy version {}\".format(\n"
     ]
    }
   ],
   "source": [
    "from dask.diagnostics import ProgressBar\n",
    "from pathlib import Path\n",
    "import xarray as xr\n",
    "import matplotlib.pyplot as plt\n",
    "from datatree import DataTree\n",
    "\n",
    "import valenspy as vp"
   ]
  },
  {
   "cell_type": "code",
   "execution_count": 2,
   "metadata": {},
   "outputs": [],
   "source": [
    "manager = vp.InputManager(\"hortense\")"
   ]
  },
  {
   "cell_type": "code",
   "execution_count": null,
   "metadata": {},
   "outputs": [],
   "source": [
    "experiment = \"CB2_CCLM_BEL28_ERA5_evaluation\"\n",
    "ds_cclm_tas     = manager.load_data(\"CCLM\", [\"tas\"], freq=\"daily\", path_identifiers=[experiment, \"mean\"])\n",
    "ds_cclm_tasmax  = manager.load_data(\"CCLM\", [\"tas\"], freq=\"daily\", path_identifiers=[experiment, \"max\"]).rename({'tas':'tasmax'})\n",
    "ds_cclm_tasmin  = manager.load_data(\"CCLM\", [\"tas\"], freq=\"daily\", path_identifiers=[experiment, \"min\"]).rename({'tas':'tasmin'})\n",
    "ds_cclm_pr      = manager.load_data(\"CCLM\", [\"pr\"], freq=\"daily\", path_identifiers=[experiment, \"sum\"])"
   ]
  },
  {
   "cell_type": "code",
   "execution_count": 4,
   "metadata": {},
   "outputs": [
    {
     "name": "stdout",
     "output_type": "stream",
     "text": [
      "File paths found:\n",
      "/dodrio/scratch/projects/2022_200/external/era5/europe/2m_temperature/daily/2m_temperature_era5_europe_daily_min_2000.nc\n",
      "The file is ValEnsPy CF compliant.\n",
      "50.00% of the variables are ValEnsPy CF compliant\n",
      "ValEnsPy CF compliant: ['tas']\n",
      "Unknown to ValEnsPy: ['time_bnds']\n"
     ]
    }
   ],
   "source": [
    "ds_era5 = manager.load_data(\"ERA5\",[\"tas\"], period=[2000],freq=\"daily\",region=\"europe\", path_identifiers=[\"min\"])\n",
    "ds_era5"
   ]
  },
  {
   "cell_type": "code",
   "execution_count": null,
   "metadata": {},
   "outputs": [
    {
     "name": "stdout",
     "output_type": "stream",
     "text": [
      "File paths found:\n",
      "/dodrio/scratch/projects/2022_200/external/climate_grid/regridded/latlon_5km/TEMP_AVG_CLIMATE_GRID_1954_2023_daily_latlon_5km.nc\n",
      "/dodrio/scratch/projects/2022_200/external/climate_grid/regridded/latlon_5km/PRECIP_QUANTITY_CLIMATE_GRID_1951_2023_daily_latlon_5km.nc\n"
     ]
    },
    {
     "name": "stdout",
     "output_type": "stream",
     "text": [
      "The file is ValEnsPy CF compliant.\n",
      "100.00% of the variables are ValEnsPy CF compliant\n",
      "ValEnsPy CF compliant: ['pr', 'tas']\n"
     ]
    }
   ],
   "source": [
    "variables = [\"tas\", \"pr\"]\n",
    "ds_ref = manager.load_data(\"CLIMATE_GRID\", variables, path_identifiers=[\"regridded\"])\n",
    "ds_ref"
   ]
  }
 ],
 "metadata": {
  "kernelspec": {
   "display_name": "Python 3",
   "language": "python",
   "name": "python3"
  },
  "language_info": {
   "codemirror_mode": {
    "name": "ipython",
    "version": 3
   },
   "file_extension": ".py",
   "mimetype": "text/x-python",
   "name": "python",
   "nbconvert_exporter": "python",
   "pygments_lexer": "ipython3",
   "version": "3.11.11"
  }
 },
 "nbformat": 4,
 "nbformat_minor": 2
}
