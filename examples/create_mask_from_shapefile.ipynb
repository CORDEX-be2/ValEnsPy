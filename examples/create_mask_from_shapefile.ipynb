{
 "cells": [
  {
   "cell_type": "markdown",
   "metadata": {},
   "source": [
    "# Example notebook to create a mask based on a shapefile\n",
    "\n",
    "required: installation of regionmask"
   ]
  },
  {
   "cell_type": "code",
   "execution_count": 3,
   "metadata": {},
   "outputs": [],
   "source": [
    "import valenspy as vp\n",
    "import xarray as xr\n",
    "from pathlib import Path\n",
    "from yaml import safe_load\n",
    "import os\n",
    "\n",
    "\n",
    "# define machine name - used for paths of (observational) datasets\n",
    "machine = 'hortense'\n"
   ]
  },
  {
   "cell_type": "markdown",
   "metadata": {},
   "source": [
    "## Load ERA5 data to base mask of"
   ]
  },
  {
   "cell_type": "code",
   "execution_count": 1,
   "metadata": {},
   "outputs": [
    {
     "ename": "NameError",
     "evalue": "name 'vp' is not defined",
     "output_type": "error",
     "traceback": [
      "\u001b[0;31m---------------------------------------------------------------------------\u001b[0m",
      "\u001b[0;31mNameError\u001b[0m                                 Traceback (most recent call last)",
      "Cell \u001b[0;32mIn[1], line 2\u001b[0m\n\u001b[1;32m      1\u001b[0m \u001b[38;5;66;03m# start up input manager\u001b[39;00m\n\u001b[0;32m----> 2\u001b[0m manager \u001b[38;5;241m=\u001b[39m \u001b[43mvp\u001b[49m\u001b[38;5;241m.\u001b[39mInputManager(machine\u001b[38;5;241m=\u001b[39mmachine)\n",
      "\u001b[0;31mNameError\u001b[0m: name 'vp' is not defined"
     ]
    }
   ],
   "source": [
    "# start up input manager\n",
    "manager = vp.InputManager(machine=machine)"
   ]
  },
  {
   "cell_type": "code",
   "execution_count": null,
   "metadata": {},
   "outputs": [
    {
     "name": "stdout",
     "output_type": "stream",
     "text": [
      "File paths found:\n",
      "/dodrio/scratch/projects/2022_200/project_input/External/observations/era5/europe/daily/2m_temperature/era5-daily-europe-2m_temperature-1995.nc\n",
      "The file is ValEnsPy CF compliant.\n",
      "50.00% of the variables are ValEnsPy CF compliant\n",
      "ValEnsPy CF compliant: ['tas']\n",
      "Unknown to ValEnsPy: ['time_bnds']\n"
     ]
    }
   ],
   "source": [
    "# use input manager to load data, defined on settings above\n",
    "ds = manager.load_data(\"ERA5\",[\"tas\"], period=[1995,1995],freq=\"daily\",region=\"europe\", path_identifiers = [\"-daily-\"])\n"
   ]
  },
  {
   "cell_type": "markdown",
   "metadata": {},
   "source": [
    "## Create mask based on shapefile for ERA5 dataset"
   ]
  },
  {
   "cell_type": "code",
   "execution_count": 6,
   "metadata": {},
   "outputs": [
    {
     "ename": "ModuleNotFoundError",
     "evalue": "No module named 'regionmask'",
     "output_type": "error",
     "traceback": [
      "\u001b[0;31m---------------------------------------------------------------------------\u001b[0m",
      "\u001b[0;31mModuleNotFoundError\u001b[0m                       Traceback (most recent call last)",
      "Cell \u001b[0;32mIn[6], line 2\u001b[0m\n\u001b[1;32m      1\u001b[0m \u001b[38;5;28;01mimport\u001b[39;00m \u001b[38;5;21;01mgeopandas\u001b[39;00m \u001b[38;5;28;01mas\u001b[39;00m \u001b[38;5;21;01mgpd\u001b[39;00m\n\u001b[0;32m----> 2\u001b[0m \u001b[38;5;28;01mimport\u001b[39;00m \u001b[38;5;21;01mregionmask\u001b[39;00m\n\u001b[1;32m      4\u001b[0m \u001b[38;5;28;01mdef\u001b[39;00m \u001b[38;5;21mget_shapefile_mask\u001b[39m(ds_in: xr\u001b[38;5;241m.\u001b[39mDataset, shapefile_path: Path):\n\u001b[1;32m      5\u001b[0m \u001b[38;5;250m    \u001b[39m\u001b[38;5;124;03m\"\"\"\u001b[39;00m\n\u001b[1;32m      6\u001b[0m \u001b[38;5;124;03m    Generates a mask from a shapefile to apply to an xarray Dataset.\u001b[39;00m\n\u001b[1;32m      7\u001b[0m \n\u001b[0;32m   (...)\u001b[0m\n\u001b[1;32m     36\u001b[0m \u001b[38;5;124;03m    >>> mask = get_shapefile_mask(ds, shapefile)\u001b[39;00m\n\u001b[1;32m     37\u001b[0m \u001b[38;5;124;03m    \"\"\"\u001b[39;00m\n",
      "\u001b[0;31mModuleNotFoundError\u001b[0m: No module named 'regionmask'"
     ]
    }
   ],
   "source": [
    "import geopandas as gpd\n",
    "import regionmask\n",
    "\n",
    "def get_shapefile_mask(ds_in: xr.Dataset, shapefile_path: Path):\n",
    "    \"\"\"\n",
    "    Generates a mask from a shapefile to apply to an xarray Dataset.\n",
    "\n",
    "    This function reads a shapefile using Geopandas, converts it to the WGS84 coordinate reference system (CRS), \n",
    "    and creates a mask that can be applied to the input xarray Dataset. The mask identifies the grid cells that \n",
    "    fall within the shapefile's region.\n",
    "\n",
    "    Parameters\n",
    "    ----------\n",
    "    ds_in : xr.Dataset\n",
    "        Input xarray Dataset containing longitude and latitude coordinates.\n",
    "    shapefile_path : Path\n",
    "        Path to the shapefile to be used for masking.\n",
    "\n",
    "    Returns\n",
    "    -------\n",
    "    mask_shp : np.ndarray\n",
    "        A boolean mask array where grid cells within the shapefile region are marked as True, \n",
    "        and those outside are marked as False.\n",
    "\n",
    "    Notes\n",
    "    -----\n",
    "    - The shapefile is converted to the WGS84 CRS (EPSG:4326) before creating the mask.\n",
    "    - The function uses the regionmask library to generate the mask.\n",
    "\n",
    "    Examples\n",
    "    --------\n",
    "    >>> import xarray as xr\n",
    "    >>> from pathlib import Path\n",
    "    >>> ds = xr.open_dataset('path_to_your_dataset.nc')\n",
    "    >>> shapefile = Path('path_to_your_shapefile.shp')\n",
    "    >>> mask = get_shapefile_mask(ds, shapefile)\n",
    "    \"\"\"\n",
    "    # read shape file into geopandas geodataframe\n",
    "    gdf_shp = gpd.read_file(shapefile_path)\n",
    "\n",
    "    # convert geodataframe to WGS84 and mask - only needed to do once\n",
    "    gdf_shp = gdf_shp.to_crs(epsg=4326)\n",
    "\n",
    "    # do masking\n",
    "    mask_shp = (regionmask.mask_geopandas(gdf_shp, ds_in.lon.values, ds_in.lat.values) + 1) > 0\n",
    "\n",
    "    return mask_shp\n"
   ]
  },
  {
   "cell_type": "code",
   "execution_count": 5,
   "metadata": {},
   "outputs": [
    {
     "ename": "NameError",
     "evalue": "name 'get_shapefile_mask' is not defined",
     "output_type": "error",
     "traceback": [
      "\u001b[0;31m---------------------------------------------------------------------------\u001b[0m",
      "\u001b[0;31mNameError\u001b[0m                                 Traceback (most recent call last)",
      "Cell \u001b[0;32mIn[5], line 11\u001b[0m\n\u001b[1;32m      8\u001b[0m shapefile_path \u001b[38;5;241m=\u001b[39m DATASET_PATHS[machine][\u001b[38;5;124m'\u001b[39m\u001b[38;5;124mshapefiles\u001b[39m\u001b[38;5;124m'\u001b[39m]\u001b[38;5;241m+\u001b[39m\u001b[38;5;124m'\u001b[39m\u001b[38;5;124m/belgium/\u001b[39m\u001b[38;5;124m'\u001b[39m \u001b[38;5;241m+\u001b[39m \u001b[38;5;124m'\u001b[39m\u001b[38;5;124mbelgium_10km.shp\u001b[39m\u001b[38;5;124m'\u001b[39m\n\u001b[1;32m     10\u001b[0m \u001b[38;5;66;03m# get the shapefile mask\u001b[39;00m\n\u001b[0;32m---> 11\u001b[0m mask_shp \u001b[38;5;241m=\u001b[39m \u001b[43mget_shapefile_mask\u001b[49m(ds_in, shapefile_path)\n",
      "\u001b[0;31mNameError\u001b[0m: name 'get_shapefile_mask' is not defined"
     ]
    }
   ],
   "source": [
    "# get a belgian mask, first identify the path of the shapefile\n",
    "\n",
    "src_path = Path(\"../src/valenspy\") #Path(__file__).resolve().parent\n",
    "\n",
    "with open(src_path / \"ancilliary_data\" / \"dataset_PATHS.yml\") as file:\n",
    "    DATASET_PATHS = safe_load(file)\n",
    "\n",
    "shapefile_path = DATASET_PATHS[machine]['shapefiles']+'/belgium/' + 'belgium_10km.shp'\n",
    "\n",
    "# get the shapefile mask\n",
    "mask_shp = get_shapefile_mask(ds_in, shapefile_path)"
   ]
  },
  {
   "cell_type": "code",
   "execution_count": null,
   "metadata": {},
   "outputs": [],
   "source": [
    "# plot the mask\n",
    "mask_shp.plot()"
   ]
  }
 ],
 "metadata": {
  "kernelspec": {
   "display_name": "valenspy_dev",
   "language": "python",
   "name": "python3"
  },
  "language_info": {
   "codemirror_mode": {
    "name": "ipython",
    "version": 3
   },
   "file_extension": ".py",
   "mimetype": "text/x-python",
   "name": "python",
   "nbconvert_exporter": "python",
   "pygments_lexer": "ipython3",
   "version": "3.9.19"
  }
 },
 "nbformat": 4,
 "nbformat_minor": 2
}
