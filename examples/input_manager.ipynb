{
 "cells": [
  {
   "cell_type": "code",
   "execution_count": 1,
   "metadata": {},
   "outputs": [],
   "source": [
    "import valenspy as vp\n",
    "import xarray as xr\n",
    "from pathlib import Path"
   ]
  },
  {
   "cell_type": "code",
   "execution_count": 2,
   "metadata": {},
   "outputs": [],
   "source": [
    "manager = vp.InputManager(machine='hortense')"
   ]
  },
  {
   "cell_type": "code",
   "execution_count": 3,
   "metadata": {},
   "outputs": [
    {
     "data": {
      "text/plain": [
       "{PosixPath('/dodrio/scratch/projects/2022_200/project_input/External/observations/era5/belgium/daily/total_precipitation/era5-daily_max-belgium-total_precipitation-2000.nc'),\n",
       " PosixPath('/dodrio/scratch/projects/2022_200/project_input/External/observations/era5/belgium/daily/total_precipitation/era5-daily_max-belgium-total_precipitation-2001.nc'),\n",
       " PosixPath('/dodrio/scratch/projects/2022_200/project_input/External/observations/era5/europe/daily/total_precipitation/era5-daily_max-europe-total_precipitation-2000.nc'),\n",
       " PosixPath('/dodrio/scratch/projects/2022_200/project_input/External/observations/era5/europe/daily/total_precipitation/era5-daily_max-europe-total_precipitation-2001.nc')}"
      ]
     },
     "execution_count": 3,
     "metadata": {},
     "output_type": "execute_result"
    }
   ],
   "source": [
    "manager._get_file_paths(\"ERA5\",[\"pr\"], period=[2000,2001], path_identifiers=[\"max\"]) #The magic happens here ! All "
   ]
  },
  {
   "cell_type": "code",
   "execution_count": 6,
   "metadata": {},
   "outputs": [],
   "source": [
    "ds = manager.load_data(\"ERA5\",[\"tas\"], period=[2000,2001], path_identifiers=[\"max\"]) #\n",
    "ds"
   ]
  },
  {
   "cell_type": "code",
   "execution_count": null,
   "metadata": {},
   "outputs": [],
   "source": []
  }
 ],
 "metadata": {
  "kernelspec": {
   "display_name": "Python 3",
   "language": "python",
   "name": "python3"
  },
  "language_info": {
   "codemirror_mode": {
    "name": "ipython",
    "version": 3
   },
   "file_extension": ".py",
   "mimetype": "text/x-python",
   "name": "python",
   "nbconvert_exporter": "python",
   "pygments_lexer": "ipython3",
   "version": "3.9.18"
  }
 },
 "nbformat": 4,
 "nbformat_minor": 2
}
