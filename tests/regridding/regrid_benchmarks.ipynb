{
 "cells": [
  {
   "cell_type": "code",
   "execution_count": 1,
   "metadata": {},
   "outputs": [],
   "source": [
    "import xarray as xr\n",
    "import valenspy as vp\n",
    "from valenspy.preprocessing_tasks.regrid import remap_cdo"
   ]
  },
  {
   "cell_type": "markdown",
   "metadata": {},
   "source": [
    "# Comparing regridding using cdo_python vs cdo\n",
    "Quick test to compare regridding using cdo and cdo_python.\n",
    "\n",
    "NOTE - The results are quite inconsistent when re-running them and seem to depend on the state of the VSC.\n",
    "\n",
    "## Load the data"
   ]
  },
  {
   "cell_type": "code",
   "execution_count": 2,
   "metadata": {},
   "outputs": [
    {
     "name": "stdout",
     "output_type": "stream",
     "text": [
      "File paths found:\n",
      "/dodrio/scratch/projects/2022_200/project_input/External/observations/era5/europe/daily/2m_temperature/era5-daily-europe-2m_temperature-1995.nc\n",
      "The file is ValEnsPy CF compliant.\n",
      "50.00% of the variables are ValEnsPy CF compliant\n",
      "ValEnsPy CF compliant: ['tas']\n",
      "Unknown to ValEnsPy: ['time_bnds']\n"
     ]
    }
   ],
   "source": [
    "manager = vp.InputManager(machine=\"hortense\")\n",
    "ds_ref = manager.load_data(\"ERA5\",\"tas\", period=1995,freq=\"daily\",region=\"europe\", path_identifiers = [\"-daily-\"])"
   ]
  },
  {
   "cell_type": "markdown",
   "metadata": {},
   "source": [
    "## Regridding to 1x1 degree grid"
   ]
  },
  {
   "cell_type": "code",
   "execution_count": 3,
   "metadata": {},
   "outputs": [],
   "source": [
    "gridfile = \"r360x180\"\n",
    "ds_file_path = manager._get_file_paths('ERA5', \"tas\", period=[1995, 1995], freq=\"daily\", region=\"europe\", path_identifiers = [\"-daily-\"])[0]\n",
    "ds = ds_ref"
   ]
  },
  {
   "cell_type": "markdown",
   "metadata": {},
   "source": [
    "### CDO"
   ]
  },
  {
   "cell_type": "code",
   "execution_count": 4,
   "metadata": {},
   "outputs": [
    {
     "name": "stdout",
     "output_type": "stream",
     "text": [
      "\u001b[32mcdo    remapbil: \u001b[0mBilinear weights from lonlat (289x163) to lonlat (360x180) grid\n",
      "cdo    remapbil:                        1 1 1 1 1 1 1 1 1 1 2 2 2 2 2 2 2 2 2 2 3 3 3 3 3 3 3 3 3 3 4 4 4 4 4 4 4 4 4 4 5 5 5 5 5 5 5 5 5 5 6 6 6 6 6 6 6 6 6 6 7 7 7 7 7 7 7 7 7 7 8 8 8 8 8 8 8 8 8 8 9 9 9 9 9 9 9 9 9 91\u001b[32mcdo    remapbil: \u001b[0mProcessed 17194055 values from 1 variable over 365 timesteps [4.59s 126MB]\n",
      "\u001b[32mcdo    remapbil: \u001b[0mBilinear weights from lonlat (289x163) to lonlat (360x180) grid\n",
      "cdo    remapbil:                        1 1 1 1 1 1 1 1 1 1 2 2 2 2 2 2 2 2 2 2 3 3 3 3 3 3 3 3 3 3 4 4 4 4 4 4 4 4 4 4 5 5 5 5 5 5 5 5 5 5 6 6 6 6 6 6 6 6 6 6 7 7 7 7 7 7 7 7 7 7 8 8 8 8 8 8 8 8 8 8 9 9 9 9 9 9 9 9 9 91\u001b[32mcdo    remapbil: \u001b[0mProcessed 17194055 values from 1 variable over 365 timesteps [3.65s 125MB]\n",
      "\u001b[32mcdo    remapbil: \u001b[0mBilinear weights from lonlat (289x163) to lonlat (360x180) grid\n",
      "cdo    remapbil:                        1 1 1 1 1 1 1 1 1 1 2 2 2 2 2 2 2 2 2 2 3 3 3 3 3 3 3 3 3 3 4 4 4 4 4 4 4 4 4 4 5 5 5 5 5 5 5 5 5 5 6 6 6 6 6 6 6 6 6 6 7 7 7 7 7 7 7 7 7 7 8 8 8 8 8 8 8 8 8 8 9 9 9 9 9 9 9 9 9 91\u001b[32mcdo    remapbil: \u001b[0mProcessed 17194055 values from 1 variable over 365 timesteps [4.28s 125MB]\n",
      "\u001b[32mcdo    remapbil: \u001b[0mBilinear weights from lonlat (289x163) to lonlat (360x180) grid\n",
      "cdo    remapbil:                        1 1 1 1 1 1 1 1 1 1 2 2 2 2 2 2 2 2 2 2 3 3 3 3 3 3 3 3 3 3 4 4 4 4 4 4 4 4 4 4 5 5 5 5 5 5 5 5 5 5 6 6 6 6 6 6 6 6 6 6 7 7 7 7 7 7 7 7 7 7 8 8 8 8 8 8 8 8 8 8 9 9 9 9 9 9 9 9 9 91\u001b[32mcdo    remapbil: \u001b[0mProcessed 17194055 values from 1 variable over 365 timesteps [5.32s 125MB]\n",
      "\u001b[32mcdo    remapbil: \u001b[0mBilinear weights from lonlat (289x163) to lonlat (360x180) grid\n",
      "cdo    remapbil:                        1 1 1 1 1 1 1 1 1 1 2 2 2 2 2 2 2 2 2 2 3 3 3 3 3 3 3 3 3 3 4 4 4 4 4 4 4 4 4 4 5 5 5 5 5 5 5 5 5 5 6 6 6 6 6 6 6 6 6 6 7 7 7 7 7 7 7 7 7 7 8 8 8 8 8 8 8 8 8 8 9 9 9 9 9 9 9 9 9 91\u001b[32mcdo    remapbil: \u001b[0mProcessed 17194055 values from 1 variable over 365 timesteps [6.21s 125MB]\n",
      "\u001b[32mcdo    remapbil: \u001b[0mBilinear weights from lonlat (289x163) to lonlat (360x180) grid\n",
      "cdo    remapbil:                        1 1 1 1 1 1 1 1 1 1 2 2 2 2 2 2 2 2 2 2 3 3 3 3 3 3 3 3 3 3 4 4 4 4 4 4 4 4 4 4 5 5 5 5 5 5 5 5 5 5 6 6 6 6 6 6 6 6 6 6 7 7 7 7 7 7 7 7 7 7 8 8 8 8 8 8 8 8 8 8 9 9 9 9 9 9 9 9 9 91\u001b[32mcdo    remapbil: \u001b[0mBilinear weights from lonlat (289x163) to lonlat (360x180) grid\n",
      "cdo    remapbil:                        1 1 1 1 1 1 1 1 1 1 2 2 2 2 2 2 2 2 2 2 3 3 3 3 3 3 3 3 3 3 4 4 4 4 4 4 4 4 4 4 5 5 5 5 5 5 5 5 5 5 6 6 6 6 6 6 6 6 6 6 7 7 7 7 7 7 7 7 7 7 8 8 8 8 8 8 8 8 8 8 9 9 9 9 9 9 9 9 9 91\u001b[32mcdo    remapbil: \u001b[0mProcessed 17194055 values from 1 variable over 365 timesteps [2.92s 125MB]\n",
      "\u001b[32mcdo    remapbil: \u001b[0mBilinear weights from lonlat (289x163) to lonlat (360x180) grid\n",
      "cdo    remapbil:                        1 1 1 1 1 1 1 1 1 1 2 2 2 2 2 2 2 2 2 2 3 3 3 3 3 3 3 3 3 3 4 4 4 4 4 4 4 4 4 4 5 5 5 5 5 5 5 5 5 5 6 6 6 6 6 6 6 6 6 6 7 7 7 7 7 7 7 7 7 7 8 8 8 8 8 8 8 8 8 8 9 9 9 9 9 9 9 9 9 91\u001b[32mcdo    remapbil: \u001b[0mProcessed 17194055 values from 1 variable over 365 timesteps [3.23s 125MB]\n",
      "5.12 s ± 1.34 s per loop (mean ± std. dev. of 7 runs, 1 loop each)\n"
     ]
    }
   ],
   "source": [
    "%%timeit\n",
    "!cdo remapbil,{gridfile} {ds_file_path} /tmp/test_2.nc\n",
    "ds_regridded_cdo = xr.open_dataset(\"/tmp/test_2.nc\")"
   ]
  },
  {
   "cell_type": "markdown",
   "metadata": {},
   "source": [
    "A more fair comparison (and something that we will also have to do if we want to include it in valenspy):"
   ]
  },
  {
   "cell_type": "code",
   "execution_count": 5,
   "metadata": {},
   "outputs": [
    {
     "name": "stdout",
     "output_type": "stream",
     "text": [
      "\u001b[32mcdo    remapbil: \u001b[0mBilinear weights from lonlat (289x163) to lonlat (360x180) grid\n",
      "cdo    remapbil:                        1 1 1 1 1 1 1 1 1 1 2 2 2 2 2 2 2 2 2 2 3 3 3 3 3 3 3 3 3 3 4 4 4 4 4 4 4 4 4 4 5 5 5 5 5 5 5 5 5 5 6 6 6 6 6 6 6 6 6 6 7 7 7 7 7 7 7 7 7 7 8 8 8 8 8 8 8 8 8 8 9 9 9 9 9 9 9 9 9 91\u001b[32mcdo    remapbil: \u001b[0mProcessed 17194055 values from 1 variable over 365 timesteps [4.60s 125MB]\n",
      "\u001b[32mcdo    remapbil: \u001b[0mBilinear weights from lonlat (289x163) to lonlat (360x180) grid\n",
      "cdo    remapbil:                        1 1 1 1 1 1 1 1 1 1 2 2 2 2 2 2 2 2 2 2 3 3 3 3 3 3 3 3 3 3 4 4 4 4 4 4 4 4 4 4 5 5 5 5 5 5 5 5 5 5 6 6 6 6 6 6 6 6 6 6 7 7 7 7 7 7 7 7 7 7 8 8 8 8 8 8 8 8 8 8 9 9 9 9 9 9 9 9 9 91\u001b[32mcdo    remapbil: \u001b[0mProcessed 17194055 values from 1 variable over 365 timesteps [4.06s 125MB]\n",
      "\u001b[32mcdo    remapbil: \u001b[0mBilinear weights from lonlat (289x163) to lonlat (360x180) grid\n",
      "cdo    remapbil:                        1 1 1 1 1 1 1 1 1 1 2 2 2 2 2 2 2 2 2 2 3 3 3 3 3 3 3 3 3 3 4 4 4 4 4 4 4 4 4 4 5 5 5 5 5 5 5 5 5 5 6 6 6 6 6 6 6 6 6 6 7 7 7 7 7 7 7 7 7 7 8 8 8 8 8 8 8 8 8 8 9 9 9 9 9 9 9 9 9 91\u001b[32mcdo    remapbil: \u001b[0mProcessed 17194055 values from 1 variable over 365 timesteps [3.06s 125MB]\n",
      "\u001b[32mcdo    remapbil: \u001b[0mBilinear weights from lonlat (289x163) to lonlat (360x180) grid\n",
      "cdo    remapbil:                        1 1 1 1 1 1 1 1 1 1 2 2 2 2 2 2 2 2 2 2 3 3 3 3 3 3 3 3 3 3 4 4 4 4 4 4 4 4 4 4 5 5 5 5 5 5 5 5 5 5 6 6 6 6 6 6 6 6 6 6 7 7 7 7 7 7 7 7 7 7 8 8 8 8 8 8 8 8 8 8 9 9 9 9 9 9 9 9 9 91\u001b[32mcdo    remapbil: \u001b[0mProcessed 17194055 values from 1 variable over 365 timesteps [4.76s 125MB]\n",
      "\u001b[32mcdo    remapbil: \u001b[0mBilinear weights from lonlat (289x163) to lonlat (360x180) grid\n",
      "cdo    remapbil:                        1 1 1 1 1 1 1 1 1 1 2 2 2 2 2 2 2 2 2 2 3 3 3 3 3 3 3 3 3 3 4 4 4 4 4 4 4 4 4 4 5 5 5 5 5 5 5 5 5 5 6 6 6 6 6 6 6 6 6 6 7 7 7 7 7 7 7 7 7 7 8 8 8 8 8 8 8 8 8 8 9 9 9 9 9 9 9 9 9 91\u001b[32mcdo    remapbil: \u001b[0mProcessed 17194055 values from 1 variable over 365 timesteps [2.05s 125MB]\n",
      "\u001b[32mcdo    remapbil: \u001b[0mBilinear weights from lonlat (289x163) to lonlat (360x180) grid\n",
      "cdo    remapbil:                        1 1 1 1 1 1 1 1 1 1 2 2 2 2 2 2 2 2 2 2 3 3 3 3 3 3 3 3 3 3 4 4 4 4 4 4 4 4 4 4 5 5 5 5 5 5 5 5 5 5 6 6 6 6 6 6 6 6 6 6 7 7 7 7 7 7 7 7 7 7 8 8 8 8 8 8 8 8 8 8 9 9 9 9 9 9 9 9 9 91\u001b[32mcdo    remapbil: \u001b[0mProcessed 17194055 values from 1 variable over 365 timesteps [1.96s 125MB]\n",
      "\u001b[32mcdo    remapbil: \u001b[0mBilinear weights from lonlat (289x163) to lonlat (360x180) grid\n",
      "cdo    remapbil:                        1 1 1 1 1 1 1 1 1 1 2 2 2 2 2 2 2 2 2 2 3 3 3 3 3 3 3 3 3 3 4 4 4 4 4 4 4 4 4 4 5 5 5 5 5 5 5 5 5 5 6 6 6 6 6 6 6 6 6 6 7 7 7 7 7 7 7 7 7 7 8 8 8 8 8 8 8 8 8 8 9 9 9 9 9 9 9 9 9 91\u001b[32mcdo    remapbil: \u001b[0mProcessed 17194055 values from 1 variable over 365 timesteps [3.02s 125MB]\n",
      "\u001b[32mcdo    remapbil: \u001b[0mBilinear weights from lonlat (289x163) to lonlat (360x180) grid\n",
      "cdo    remapbil:                        1 1 1 1 1 1 1 1 1 1 2 2 2 2 2 2 2 2 2 2 3 3 3 3 3 3 3 3 3 3 4 4 4 4 4 4 4 4 4 4 5 5 5 5 5 5 5 5 5 5 6 6 6 6 6 6 6 6 6 6 7 7 7 7 7 7 7 7 7 7 8 8 8 8 8 8 8 8 8 8 9 9 9 9 9 9 9 9 9 91\u001b[32mcdo    remapbil: \u001b[0mProcessed 17194055 values from 1 variable over 365 timesteps [2.03s 125MB]\n",
      "3.51 s ± 1.11 s per loop (mean ± std. dev. of 7 runs, 1 loop each)\n"
     ]
    }
   ],
   "source": [
    "%%timeit\n",
    "\n",
    "\n",
    "!cdo remapbil,{gridfile} {ds_file_path} /tmp/test_out.nc\n",
    "ds_regridded_cdo = xr.open_dataset(\"/tmp/test_out.nc\")"
   ]
  },
  {
   "cell_type": "markdown",
   "metadata": {},
   "source": [
    "### CDO-python\n",
    "Force is true is needed as remap_cdo uses available cache files if they exist by default."
   ]
  },
  {
   "cell_type": "code",
   "execution_count": 6,
   "metadata": {},
   "outputs": [
    {
     "name": "stdout",
     "output_type": "stream",
     "text": [
      "2.51 s ± 778 ms per loop (mean ± std. dev. of 7 runs, 1 loop each)\n"
     ]
    }
   ],
   "source": [
    "%%timeit\n",
    "\n",
    "ds_regridded_cdo_python = remap_cdo(gridfile, ds, remap_method=\"bil\") "
   ]
  },
  {
   "cell_type": "markdown",
   "metadata": {},
   "source": [
    "### Comparing the different regridding options\n",
    "Maybe not ideaal test for nn as a europe grid is being mapped to a global grid"
   ]
  },
  {
   "cell_type": "code",
   "execution_count": 7,
   "metadata": {},
   "outputs": [],
   "source": [
    "gridfile = \"r360x180\"\n",
    "ds_file_path = manager._get_file_paths('ERA5', \"tas\", period=[1995, 1995], freq=\"daily\", region=\"europe\", path_identifiers = [\"-daily-\"])[0]\n",
    "ds = ds_ref"
   ]
  },
  {
   "cell_type": "code",
   "execution_count": 8,
   "metadata": {},
   "outputs": [
    {
     "name": "stdout",
     "output_type": "stream",
     "text": [
      "3.07 s ± 1.2 s per loop (mean ± std. dev. of 7 runs, 1 loop each)\n",
      "The slowest run took 4.07 times longer than the fastest. This could mean that an intermediate result is being cached.\n",
      "4 s ± 2.22 s per loop (mean ± std. dev. of 7 runs, 1 loop each)\n",
      "The slowest run took 4.55 times longer than the fastest. This could mean that an intermediate result is being cached.\n",
      "7.27 s ± 3.25 s per loop (mean ± std. dev. of 7 runs, 1 loop each)\n",
      "5.54 s ± 1.38 s per loop (mean ± std. dev. of 7 runs, 1 loop each)\n"
     ]
    }
   ],
   "source": [
    "%timeit ds_regridded_cdo_python = remap_cdo(gridfile, ds, remap_method=\"bil\")\n",
    "%timeit ds_regridded_cdo_python = remap_cdo(gridfile, ds, remap_method=\"con\")\n",
    "%timeit ds_regridded_cdo_python = remap_cdo(gridfile, ds, remap_method=\"dis\")\n",
    "%timeit ds_regridded_cdo_python = remap_cdo(gridfile, ds, remap_method=\"nn\")"
   ]
  },
  {
   "cell_type": "markdown",
   "metadata": {},
   "source": [
    "This compares the regridding methods but should not be used to compare cdo and cdo-python as no IO is done in from xarray in the cdo case, this is done in the cdo-python case."
   ]
  },
  {
   "cell_type": "code",
   "execution_count": 9,
   "metadata": {},
   "outputs": [
    {
     "name": "stdout",
     "output_type": "stream",
     "text": [
      "\u001b[32mcdo    remapbil: \u001b[0mBilinear weights from lonlat (289x163) to lonlat (360x180) grid\n",
      "cdo    remapbil:                        1 1 1 1 1 1 1 1 1 1 2 2 2 2 2 2 2 2 2 2 3 3 3 3 3 3 3 3 3 3 4 4 4 4 4 4 4 4 4 4 5 5 5 5 5 5 5 5 5 5 6 6 6 6 6 6 6 6 6 6 7 7 7 7 7 7 7 7 7 7 8 8 8 8 8 8 8 8 8 8 9 9 9 9 9 9 9 9 9 91\u001b[32mcdo    remapbil: \u001b[0mProcessed 17194055 values from 1 variable over 365 timesteps [10.01s 267MB]\n",
      "\u001b[32mcdo    remapbil: \u001b[0mBilinear weights from lonlat (289x163) to lonlat (360x180) grid\n",
      "cdo    remapbil:                        1 1 1 1 1 1 1 1 1 1 2 2 2 2 2 2 2 2 2 2 3 3 3 3 3 3 3 3 3 3 4 4 4 4 4 4 4 4 4 4 5 5 5 5 5 5 5 5 5 5 6 6 6 6 6 6 6 6 6 6 7 7 7 7 7 7 7 7 7 7 8 8 8 8 8 8 8 8 8 8 9 9 9 9 9 9 9 9 9 91\u001b[32mcdo    remapbil: \u001b[0mBilinear weights from lonlat (289x163) to lonlat (360x180) grid\n",
      "cdo    remapbil:                        1 1 1 1 1 1 1 1 1 1 2 2 2 2 2 2 2 2 2 2 3 3 3 3 3 3 3 3 3 3 4 4 4 4 4 4 4 4 4 4 5 5 5 5 5 5 5 5 5 5 6 6 6 6 6 6 6 6 6 6 7 7 7 7 7 7 7 7 7 7 8 8 8 8 8 8 8 8 8 8 9 9 9 9 9 9 9 9 9 91\u001b[32mcdo    remapbil: \u001b[0mProcessed 17194055 values from 1 variable over 365 timesteps [4.39s 267MB]\n",
      "\u001b[32mcdo    remapbil: \u001b[0mBilinear weights from lonlat (289x163) to lonlat (360x180) grid\n",
      "cdo    remapbil:                        1 1 1 1 1 1 1 1 1 1 2 2 2 2 2 2 2 2 2 2 3 3 3 3 3 3 3 3 3 3 4 4 4 4 4 4 4 4 4 4 5 5 5 5 5 5 5 5 5 5 6 6 6 6 6 6 6 6 6 6 7 7 7 7 7 7 7 7 7 7 8 8 8 8 8 8 8 8 8 8 9 9 9 9 9 9 9 9 9 91\u001b[32mcdo    remapbil: \u001b[0mProcessed 17194055 values from 1 variable over 365 timesteps [15.72s 267MB]\n",
      "\u001b[32mcdo    remapbil: \u001b[0mBilinear weights from lonlat (289x163) to lonlat (360x180) grid\n",
      "cdo    remapbil:                        1 1 1 1 1 1 1 1 1 1 2 2 2 2 2 2 2 2 2 2 3 3 3 3 3 3 3 3 3 3 4 4 4 4 4 4 4 4 4 4 5 5 5 5 5 5 5 5 5 5 6 6 6 6 6 6 6 6 6 6 7 7 7 7 7 7 7 7 7 7 8 8 8 8 8 8 8 8 8 8 9 9 9 9 9 9 9 9 9 91\u001b[32mcdo    remapbil: \u001b[0mProcessed 17194055 values from 1 variable over 365 timesteps [12.51s 267MB]\n",
      "\u001b[32mcdo    remapbil: \u001b[0mBilinear weights from lonlat (289x163) to lonlat (360x180) grid\n",
      "cdo    remapbil:                        1 1 1 1 1 1 1 1 1 1 2 2 2 2 2 2 2 2 2 2 3 3 3 3 3 3 3 3 3 3 4 4 4 4 4 4 4 4 4 4 5 5 5 5 5 5 5 5 5 5 6 6 6 6 6 6 6 6 6 6 7 7 7 7 7 7 7 7 7 7 8 8 8 8 8 8 8 8 8 8 9 9 9 9 9 9 9 9 9 91\u001b[32mcdo    remapbil: \u001b[0mProcessed 17194055 values from 1 variable over 365 timesteps [8.85s 267MB]\n",
      "\u001b[32mcdo    remapbil: \u001b[0mBilinear weights from lonlat (289x163) to lonlat (360x180) grid\n",
      "cdo    remapbil:                        1 1 1 1 1 1 1 1 1 1 2 2 2 2 2 2 2 2 2 2 3 3 3 3 3 3 3 3 3 3 4 4 4 4 4 4 4 4 4 4 5 5 5 5 5 5 5 5 5 5 6 6 6 6 6 6 6 6 6 6 7 7 7 7 7 7 7 7 7 7 8 8 8 8 8 8 8 8 8 8 9 9 9 9 9 9 9 9 9 91\u001b[32mcdo    remapbil: \u001b[0mProcessed 17194055 values from 1 variable over 365 timesteps [13.36s 267MB]\n",
      "\u001b[32mcdo    remapbil: \u001b[0mBilinear weights from lonlat (289x163) to lonlat (360x180) grid\n",
      "cdo    remapbil:                        1 1 1 1 1 1 1 1 1 1 2 2 2 2 2 2 2 2 2 2 3 3 3 3 3 3 3 3 3 3 4 4 4 4 4 4 4 4 4 4 5 5 5 5 5 5 5 5 5 5 6 6 6 6 6 6 6 6 6 6 7 7 7 7 7 7 7 7 7 7 8 8 8 8 8 8 8 8 8 8 9 9 9 9 9 9 9 9 9 91\u001b[32mcdo    remapbil: \u001b[0mProcessed 17194055 values from 1 variable over 365 timesteps [11.98s 267MB]\n",
      "11.9 s ± 3.34 s per loop (mean ± std. dev. of 7 runs, 1 loop each)\n",
      "\u001b[32mcdo    remapcon: \u001b[0mYAC first order conservative weights from lonlat (289x163) to lonlat (360x180) grid\n",
      "cdo    remapcon:                        1 1 1 1 1 1 1 1 1 1 2 2 2 2 2 2 2 2 2 2 3 3 3 3 3 3 3 3 3 3 4 4 4 4 4 4 4 4 4 4 5 5 5 5 5 5 5 5 5 5 6 6 6 6 6 6 6 6 6 6 7 7 7 7 7 7 7 7 7 7 8 8 8 8 8 8 8 8 8 8 9 9 9 9 9 9 9 9 9 91\u001b[32mcdo    remapcon: \u001b[0mProcessed 17194055 values from 1 variable over 365 timesteps [12.98s 267MB]\n",
      "\u001b[32mcdo    remapcon: \u001b[0mYAC first order conservative weights from lonlat (289x163) to lonlat (360x180) grid\n",
      "cdo    remapcon:                        1 1 1 1 1 1 1 1 1 1 2 2 2 2 2 2 2 2 2 2 3 3 3 3 3 3 3 3 3 3 4 4 4 4 4 4 4 4 4 4 5 5 5 5 5 5 5 5 5 5 6 6 6 6 6 6 6 6 6 6 7 7 7 7 7 7 7 7 7 7 8 8 8 8 8 8 8 8 8 8 9 9 9 9 9 9 9 9 9 91\u001b[32mcdo    remapcon: \u001b[0mProcessed 17194055 values from 1 variable over 365 timesteps [7.07s 267MB]\n",
      "\u001b[32mcdo    remapcon: \u001b[0mYAC first order conservative weights from lonlat (289x163) to lonlat (360x180) grid\n",
      "cdo    remapcon:                        1 1 1 1 1 1 1 1 1 1 2 2 2 2 2 2 2 2 2 2 3 3 3 3 3 3 3 3 3 3 4 4 4 4 4 4 4 4 4 4 5 5 5 5 5 5 5 5 5 5 6 6 6 6 6 6 6 6 6 6 7 7 7 7 7 7 7 7 7 7 8 8 8 8 8 8 8 8 8 8 9 9 9 9 9 9 9 9 9 91\u001b[32mcdo    remapcon: \u001b[0mProcessed 17194055 values from 1 variable over 365 timesteps [6.02s 267MB]\n",
      "\u001b[32mcdo    remapcon: \u001b[0mYAC first order conservative weights from lonlat (289x163) to lonlat (360x180) grid\n",
      "cdo    remapcon:                        1 1 1 1 1 1 1 1 1 1 2 2 2 2 2 2 2 2 2 2 3 3 3 3 3 3 3 3 3 3 4 4 4 4 4 4 4 4 4 4 5 5 5 5 5 5 5 5 5 5 6 6 6 6 6 6 6 6 6 6 7 7 7 7 7 7 7 7 7 7 8 8 8 8 8 8 8 8 8 8 9 9 9 9 9 9 9 9 9 91\u001b[32mcdo    remapcon: \u001b[0mProcessed 17194055 values from 1 variable over 365 timesteps [2.46s 267MB]\n",
      "\u001b[32mcdo    remapcon: \u001b[0mYAC first order conservative weights from lonlat (289x163) to lonlat (360x180) grid\n",
      "cdo    remapcon:                        1 1 1 1 1 1 1 1 1 1 2 2 2 2 2 2 2 2 2 2 3 3 3 3 3 3 3 3 3 3 4 4 4 4 4 4 4 4 4 4 5 5 5 5 5 5 5 5 5 5 6 6 6 6 6 6 6 6 6 6 7 7 7 7 7 7 7 7 7 7 8 8 8 8 8 8 8 8 8 8 9 9 9 9 9 9 9 9 9 91\u001b[32mcdo    remapcon: \u001b[0mProcessed 17194055 values from 1 variable over 365 timesteps [2.49s 267MB]\n",
      "\u001b[32mcdo    remapcon: \u001b[0mYAC first order conservative weights from lonlat (289x163) to lonlat (360x180) grid\n",
      "cdo    remapcon:                        1 1 1 1 1 1 1 1 1 1 2 2 2 2 2 2 2 2 2 2 3 3 3 3 3 3 3 3 3 3 4 4 4 4 4 4 4 4 4 4 5 5 5 5 5 5 5 5 5 5 6 6 6 6 6 6 6 6 6 6 7 7 7 7 7 7 7 7 7 7 8 8 8 8 8 8 8 8 8 8 9 9 9 9 9 9 9 9 9 91\u001b[32mcdo    remapcon: \u001b[0mProcessed 17194055 values from 1 variable over 365 timesteps [3.94s 267MB]\n",
      "\u001b[32mcdo    remapcon: \u001b[0mYAC first order conservative weights from lonlat (289x163) to lonlat (360x180) grid\n",
      "cdo    remapcon:                        1 1 1 1 1 1 1 1 1 1 2 2 2 2 2 2 2 2 2 2 3 3 3 3 3 3 3 3 3 3 4 4 4 4 4 4 4 4 4 4 5 5 5 5 5 5 5 5 5 5 6 6 6 6 6 6 6 6 6 6 7 7 7 7 7 7 7 7 7 7 8 8 8 8 8 8 8 8 8 8 9 9 9 9 9 9 9 9 9 91\u001b[32mcdo    remapcon: \u001b[0mProcessed 17194055 values from 1 variable over 365 timesteps [4.04s 267MB]\n",
      "\u001b[32mcdo    remapcon: \u001b[0mYAC first order conservative weights from lonlat (289x163) to lonlat (360x180) grid\n",
      "cdo    remapcon:                        1 1 1 1 1 1 1 1 1 1 2 2 2 2 2 2 2 2 2 2 3 3 3 3 3 3 3 3 3 3 4 4 4 4 4 4 4 4 4 4 5 5 5 5 5 5 5 5 5 5 6 6 6 6 6 6 6 6 6 6 7 7 7 7 7 7 7 7 7 7 8 8 8 8 8 8 8 8 8 8 9 9 9 9 9 9 9 9 9 91\u001b[32mcdo    remapcon: \u001b[0mProcessed 17194055 values from 1 variable over 365 timesteps [3.25s 267MB]\n",
      "4.62 s ± 1.63 s per loop (mean ± std. dev. of 7 runs, 1 loop each)\n",
      "\u001b[32mcdo    remapdis: \u001b[0mDistance-weighted average weights from lonlat (289x163) to lonlat (360x180) grid\n",
      "cdo    remapdis:                        1 1 1 1 1 1 1 1 1 1 2 2 2 2 2 2 2 2 2 2 3 3 3 3 3 3 3 3 3 3 4 4 4 4 4 4 4 4 4 4 5 5 5 5 5 5 5 5 5 5 6 6 6 6 6 6 6 6 6 6 7 7 7 7 7 7 7 7 7 7 8 8 8 8 8 8 8 8 8 8 9 9 9 9 9 9 9 9 9 91\u001b[32mcdo    remapdis: \u001b[0mProcessed 17194055 values from 1 variable over 365 timesteps [5.32s 267MB]\n",
      "\u001b[32mcdo    remapdis: \u001b[0mDistance-weighted average weights from lonlat (289x163) to lonlat (360x180) grid\n",
      "cdo    remapdis:                        1 1 1 1 1 1 1 1 1 1 2 2 2 2 2 2 2 2 2 2 3 3 3 3 3 3 3 3 3 3 4 4 4 4 4 4 4 4 4 4 5 5 5 5 5 5 5 5 5 5 6 6 6 6 6 6 6 6 6 6 7 7 7 7 7 7 7 7 7 7 8 8 8 8 8 8 8 8 8 8 9 9 9 9 9 9 9 9 9 91\u001b[32mcdo    remapdis: \u001b[0mProcessed 17194055 values from 1 variable over 365 timesteps [6.72s 267MB]\n",
      "\u001b[32mcdo    remapdis: \u001b[0mDistance-weighted average weights from lonlat (289x163) to lonlat (360x180) grid\n",
      "cdo    remapdis:                        1 1 1 1 1 1 1 1 1 1 2 2 2 2 2 2 2 2 2 2 3 3 3 3 3 3 3 3 3 3 4 4 4 4 4 4 4 4 4 4 5 5 5 5 5 5 5 5 5 5 6 6 6 6 6 6 6 6 6 6 7 7 7 7 7 7 7 7 7 7 8 8 8 8 8 8 8 8 8 8 9 9 9 9 9 9 9 9 9 91\u001b[32mcdo    remapdis: \u001b[0mProcessed 17194055 values from 1 variable over 365 timesteps [8.65s 267MB]\n",
      "\u001b[32mcdo    remapdis: \u001b[0mDistance-weighted average weights from lonlat (289x163) to lonlat (360x180) grid\n",
      "cdo    remapdis:                        1 1 1 1 1 1 1 1 1 1 2 2 2 2 2 2 2 2 2 2 3 3 3 3 3 3 3 3 3 3 4 4 4 4 4 4 4 4 4 4 5 5 5 5 5 5 5 5 5 5 6 6 6 6 6 6 6 6 6 6 7 7 7 7 7 7 7 7 7 7 8 8 8 8 8 8 8 8 8 8 9 9 9 9 9 9 9 9 9 91\u001b[32mcdo    remapdis: \u001b[0mProcessed 17194055 values from 1 variable over 365 timesteps [5.22s 267MB]\n",
      "\u001b[32mcdo    remapdis: \u001b[0mDistance-weighted average weights from lonlat (289x163) to lonlat (360x180) grid\n",
      "cdo    remapdis:                        1 1 1 1 1 1 1 1 1 1 2 2 2 2 2 2 2 2 2 2 3 3 3 3 3 3 3 3 3 3 4 4 4 4 4 4 4 4 4 4 5 5 5 5 5 5 5 5 5 5 6 6 6 6 6 6 6 6 6 6 7 7 7 7 7 7 7 7 7 7 8 8 8 8 8 8 8 8 8 8 9 9 9 9 9 9 9 9 9 91\u001b[32mcdo    remapdis: \u001b[0mProcessed 17194055 values from 1 variable over 365 timesteps [4.76s 267MB]\n",
      "\u001b[32mcdo    remapdis: \u001b[0mDistance-weighted average weights from lonlat (289x163) to lonlat (360x180) grid\n",
      "cdo    remapdis:                        1 1 1 1 1 1 1 1 1 1 2 2 2 2 2 2 2 2 2 2 3 3 3 3 3 3 3 3 3 3 4 4 4 4 4 4 4 4 4 4 5 5 5 5 5 5 5 5 5 5 6 6 6 6 6 6 6 6 6 6 7 7 7 7 7 7 7 7 7 7 8 8 8 8 8 8 8 8 8 8 9 9 9 9 9 9 9 9 9 91\u001b[32mcdo    remapdis: \u001b[0mProcessed 17194055 values from 1 variable over 365 timesteps [6.25s 267MB]\n",
      "\u001b[32mcdo    remapdis: \u001b[0mDistance-weighted average weights from lonlat (289x163) to lonlat (360x180) grid\n",
      "cdo    remapdis:                        1 1 1 1 1 1 1 1 1 1 2 2 2 2 2 2 2 2 2 2 3 3 3 3 3 3 3 3 3 3 4 4 4 4 4 4 4 4 4 4 5 5 5 5 5 5 5 5 5 5 6 6 6 6 6 6 6 6 6 6 7 7 7 7 7 7 7 7 7 7 8 8 8 8 8 8 8 8 8 8 9 9 9 9 9 9 9 9 9 91\u001b[32mcdo    remapdis: \u001b[0mProcessed 17194055 values from 1 variable over 365 timesteps [9.05s 267MB]\n",
      "\u001b[32mcdo    remapdis: \u001b[0mDistance-weighted average weights from lonlat (289x163) to lonlat (360x180) grid\n",
      "cdo    remapdis:                        1 1 1 1 1 1 1 1 1 1 2 2 2 2 2 2 2 2 2 2 3 3 3 3 3 3 3 3 3 3 4 4 4 4 4 4 4 4 4 4 5 5 5 5 5 5 5 5 5 5 6 6 6 6 6 6 6 6 6 6 7 7 7 7 7 7 7 7 7 7 8 8 8 8 8 8 8 8 8 8 9 9 9 9 9 9 9 9 9 91\u001b[32mcdo    remapdis: \u001b[0mProcessed 17194055 values from 1 variable over 365 timesteps [6.08s 267MB]\n",
      "7.28 s ± 1.56 s per loop (mean ± std. dev. of 7 runs, 1 loop each)\n",
      "\u001b[32mcdo    remapnn: \u001b[0mNearest neighbor weights from lonlat (289x163) to lonlat (360x180) grid\n",
      "cdo    remapnn:                        1 1 1 1 1 1 1 1 1 1 2 2 2 2 2 2 2 2 2 2 3 3 3 3 3 3 3 3 3 3 4 4 4 4 4 4 4 4 4 4 5 5 5 5 5 5 5 5 5 5 6 6 6 6 6 6 6 6 6 6 7 7 7 7 7 7 7 7 7 7 8 8 8 8 8 8 8 8 8 8 9 9 9 9 9 9 9 9 9 910\u001b[32mcdo    remapnn: \u001b[0mProcessed 17194055 values from 1 variable over 365 timesteps [6.23s 267MB]\n",
      "\u001b[32mcdo    remapnn: \u001b[0mNearest neighbor weights from lonlat (289x163) to lonlat (360x180) grid\n",
      "cdo    remapnn:                        1 1 1 1 1 1 1 1 1 1 2 2 2 2 2 2 2 2 2 2 3 3 3 3 3 3 3 3 3 3 4 4 4 4 4 4 4 4 4 4 5 5 5 5 5 5 5 5 5 5 6 6 6 6 6 6 6 6 6 6 7 7 7 7 7 7 7 7 7 7 8 8 8 8 8 8 8 8 8 8 9 9 9 9 9 9 9 9 9 910\u001b[32mcdo    remapnn: \u001b[0mProcessed 17194055 values from 1 variable over 365 timesteps [9.30s 267MB]\n",
      "\u001b[32mcdo    remapnn: \u001b[0mNearest neighbor weights from lonlat (289x163) to lonlat (360x180) grid\n",
      "cdo    remapnn:                        1 1 1 1 1 1 1 1 1 1 2 2 2 2 2 2 2 2 2 2 3 3 3 3 3 3 3 3 3 3 4 4 4 4 4 4 4 4 4 4 5 5 5 5 5 5 5 5 5 5 6 6 6 6 6 6 6 6 6 6 7 7 7 7 7 7 7 7 7 7 8 8 8 8 8 8 8 8 8 8 9 9 9 9 9 9 9 9 9 910\u001b[32mcdo    remapnn: \u001b[0mProcessed 17194055 values from 1 variable over 365 timesteps [4.16s 267MB]\n",
      "\u001b[32mcdo    remapnn: \u001b[0mNearest neighbor weights from lonlat (289x163) to lonlat (360x180) grid\n",
      "cdo    remapnn:                        1 1 1 1 1 1 1 1 1 1 2 2 2 2 2 2 2 2 2 2 3 3 3 3 3 3 3 3 3 3 4 4 4 4 4 4 4 4 4 4 5 5 5 5 5 5 5 5 5 5 6 6 6 6 6 6 6 6 6 6 7 7 7 7 7 7 7 7 7 7 8 8 8 8 8 8 8 8 8 8 9 9 9 9 9 9 9 9 9 910\u001b[32mcdo    remapnn: \u001b[0mProcessed 17194055 values from 1 variable over 365 timesteps [4.26s 267MB]\n",
      "\u001b[32mcdo    remapnn: \u001b[0mNearest neighbor weights from lonlat (289x163) to lonlat (360x180) grid\n",
      "cdo    remapnn:                        1 1 1 1 1 1 1 1 1 1 2 2 2 2 2 2 2 2 2 2 3 3 3 3 3 3 3 3 3 3 4 4 4 4 4 4 4 4 4 4 5 5 5 5 5 5 5 5 5 5 6 6 6 6 6 6 6 6 6 6 7 7 7 7 7 7 7 7 7 7 8 8 8 8 8 8 8 8 8 8 9 9 9 9 9 9 9 9 9 910\u001b[32mcdo    remapnn: \u001b[0mProcessed 17194055 values from 1 variable over 365 timesteps [6.08s 267MB]\n",
      "\u001b[32mcdo    remapnn: \u001b[0mNearest neighbor weights from lonlat (289x163) to lonlat (360x180) grid\n",
      "cdo    remapnn:                        1 1 1 1 1 1 1 1 1 1 2 2 2 2 2 2 2 2 2 2 3 3 3 3 3 3 3 3 3 3 4 4 4 4 4 4 4 4 4 4 5 5 5 5 5 5 5 5 5 5 6 6 6 6 6 6 6 6 6 6 7 7 7 7 7 7 7 7 7 7 8 8 8 8 8 8 8 8 8 8 9 9 9 9 9 9 9 9 9 910\u001b[32mcdo    remapnn: \u001b[0mProcessed 17194055 values from 1 variable over 365 timesteps [4.97s 267MB]\n",
      "\u001b[32mcdo    remapnn: \u001b[0mNearest neighbor weights from lonlat (289x163) to lonlat (360x180) grid\n",
      "cdo    remapnn:                        1 1 1 1 1 1 1 1 1 1 2 2 2 2 2 2 2 2 2 2 3 3 3 3 3 3 3 3 3 3 4 4 4 4 4 4 4 4 4 4 5 5 5 5 5 5 5 5 5 5 6 6 6 6 6 6 6 6 6 6 7 7 7 7 7 7 7 7 7 7 8 8 8 8 8 8 8 8 8 8 9 9 9 9 9 9 9 9 9 910\u001b[32mcdo    remapnn: \u001b[0mProcessed 17194055 values from 1 variable over 365 timesteps [4.48s 267MB]\n",
      "\u001b[32mcdo    remapnn: \u001b[0mNearest neighbor weights from lonlat (289x163) to lonlat (360x180) grid\n",
      "cdo    remapnn:                        1 1 1 1 1 1 1 1 1 1 2 2 2 2 2 2 2 2 2 2 3 3 3 3 3 3 3 3 3 3 4 4 4 4 4 4 4 4 4 4 5 5 5 5 5 5 5 5 5 5 6 6 6 6 6 6 6 6 6 6 7 7 7 7 7 7 7 7 7 7 8 8 8 8 8 8 8 8 8 8 9 9 9 9 9 9 9 9 9 910\u001b[32mcdo    remapnn: \u001b[0mProcessed 17194055 values from 1 variable over 365 timesteps [5.45s 267MB]\n",
      "5.91 s ± 1.67 s per loop (mean ± std. dev. of 7 runs, 1 loop each)\n"
     ]
    }
   ],
   "source": [
    "%timeit !cdo remapbil,{gridfile} {ds_file_path} /tmp/test_bil_out.nc\n",
    "%timeit !cdo remapcon,{gridfile} {ds_file_path} /tmp/test_con_out.nc\n",
    "%timeit !cdo remapdis,{gridfile} {ds_file_path} /tmp/test_dis_out.nc\n",
    "%timeit !cdo remapnn,{gridfile} {ds_file_path} /tmp/test_nn_out.nc"
   ]
  },
  {
   "cell_type": "markdown",
   "metadata": {},
   "source": [
    "## Testing the impact of caching and output paths\n",
    "Note that the default for remap_cdo (valenspy) is to use the cached files, this is not the case for cdo-python.\n",
    "\n",
    "### Temperary directories impact\n",
    "Without caching - using the standard temp directory seems to be faster"
   ]
  },
  {
   "cell_type": "code",
   "execution_count": 10,
   "metadata": {},
   "outputs": [
    {
     "name": "stdout",
     "output_type": "stream",
     "text": [
      "3.04 s ± 1.59 s per loop (mean ± std. dev. of 7 runs, 1 loop each)\n",
      "3.83 s ± 1.02 s per loop (mean ± std. dev. of 7 runs, 1 loop each)\n"
     ]
    }
   ],
   "source": [
    "%timeit ds_regridded_cdo_python = remap_cdo(gridfile, ds, remap_method=\"bil\")\n",
    "%timeit ds_regridded_cdo_python = remap_cdo(gridfile, ds, remap_method=\"bil\", tempdir=\"/dodrio/scratch/projects/2022_200/project_output/RMIB-UGent/vsc46032_kobe/tmp\")\n"
   ]
  },
  {
   "cell_type": "markdown",
   "metadata": {},
   "source": [
    "### Caching\n",
    "Caching is currently not possible when also returning an xarray. This is a bug in cdo_python. Therefore, we will currently not support caching in valenspy."
   ]
  },
  {
   "cell_type": "code",
   "execution_count": 11,
   "metadata": {},
   "outputs": [],
   "source": [
    "import cdo\n",
    "cdo_obj = cdo.Cdo(tempdir=\"/dodrio/scratch/projects/2022_200/project_output/RMIB-UGent/vsc46032_kobe/tmp/test\")"
   ]
  },
  {
   "cell_type": "code",
   "execution_count": 16,
   "metadata": {},
   "outputs": [
    {
     "data": {
      "text/plain": [
       "[]"
      ]
     },
     "execution_count": 16,
     "metadata": {},
     "output_type": "execute_result"
    }
   ],
   "source": [
    "ds_regridded_cdo_python = cdo_obj.remapbil(gridfile, input=ds, returnXDataset=True, force=False)\n",
    "ds_regridded_cdo_python #Returns an empty list"
   ]
  },
  {
   "cell_type": "code",
   "execution_count": 13,
   "metadata": {},
   "outputs": [
    {
     "data": {
      "text/html": [
       "<div><svg style=\"position: absolute; width: 0; height: 0; overflow: hidden\">\n",
       "<defs>\n",
       "<symbol id=\"icon-database\" viewBox=\"0 0 32 32\">\n",
       "<path d=\"M16 0c-8.837 0-16 2.239-16 5v4c0 2.761 7.163 5 16 5s16-2.239 16-5v-4c0-2.761-7.163-5-16-5z\"></path>\n",
       "<path d=\"M16 17c-8.837 0-16-2.239-16-5v6c0 2.761 7.163 5 16 5s16-2.239 16-5v-6c0 2.761-7.163 5-16 5z\"></path>\n",
       "<path d=\"M16 26c-8.837 0-16-2.239-16-5v6c0 2.761 7.163 5 16 5s16-2.239 16-5v-6c0 2.761-7.163 5-16 5z\"></path>\n",
       "</symbol>\n",
       "<symbol id=\"icon-file-text2\" viewBox=\"0 0 32 32\">\n",
       "<path d=\"M28.681 7.159c-0.694-0.947-1.662-2.053-2.724-3.116s-2.169-2.030-3.116-2.724c-1.612-1.182-2.393-1.319-2.841-1.319h-15.5c-1.378 0-2.5 1.121-2.5 2.5v27c0 1.378 1.122 2.5 2.5 2.5h23c1.378 0 2.5-1.122 2.5-2.5v-19.5c0-0.448-0.137-1.23-1.319-2.841zM24.543 5.457c0.959 0.959 1.712 1.825 2.268 2.543h-4.811v-4.811c0.718 0.556 1.584 1.309 2.543 2.268zM28 29.5c0 0.271-0.229 0.5-0.5 0.5h-23c-0.271 0-0.5-0.229-0.5-0.5v-27c0-0.271 0.229-0.5 0.5-0.5 0 0 15.499-0 15.5 0v7c0 0.552 0.448 1 1 1h7v19.5z\"></path>\n",
       "<path d=\"M23 26h-14c-0.552 0-1-0.448-1-1s0.448-1 1-1h14c0.552 0 1 0.448 1 1s-0.448 1-1 1z\"></path>\n",
       "<path d=\"M23 22h-14c-0.552 0-1-0.448-1-1s0.448-1 1-1h14c0.552 0 1 0.448 1 1s-0.448 1-1 1z\"></path>\n",
       "<path d=\"M23 18h-14c-0.552 0-1-0.448-1-1s0.448-1 1-1h14c0.552 0 1 0.448 1 1s-0.448 1-1 1z\"></path>\n",
       "</symbol>\n",
       "</defs>\n",
       "</svg>\n",
       "<style>/* CSS stylesheet for displaying xarray objects in jupyterlab.\n",
       " *\n",
       " */\n",
       "\n",
       ":root {\n",
       "  --xr-font-color0: var(--jp-content-font-color0, rgba(0, 0, 0, 1));\n",
       "  --xr-font-color2: var(--jp-content-font-color2, rgba(0, 0, 0, 0.54));\n",
       "  --xr-font-color3: var(--jp-content-font-color3, rgba(0, 0, 0, 0.38));\n",
       "  --xr-border-color: var(--jp-border-color2, #e0e0e0);\n",
       "  --xr-disabled-color: var(--jp-layout-color3, #bdbdbd);\n",
       "  --xr-background-color: var(--jp-layout-color0, white);\n",
       "  --xr-background-color-row-even: var(--jp-layout-color1, white);\n",
       "  --xr-background-color-row-odd: var(--jp-layout-color2, #eeeeee);\n",
       "}\n",
       "\n",
       "html[theme=dark],\n",
       "body[data-theme=dark],\n",
       "body.vscode-dark {\n",
       "  --xr-font-color0: rgba(255, 255, 255, 1);\n",
       "  --xr-font-color2: rgba(255, 255, 255, 0.54);\n",
       "  --xr-font-color3: rgba(255, 255, 255, 0.38);\n",
       "  --xr-border-color: #1F1F1F;\n",
       "  --xr-disabled-color: #515151;\n",
       "  --xr-background-color: #111111;\n",
       "  --xr-background-color-row-even: #111111;\n",
       "  --xr-background-color-row-odd: #313131;\n",
       "}\n",
       "\n",
       ".xr-wrap {\n",
       "  display: block !important;\n",
       "  min-width: 300px;\n",
       "  max-width: 700px;\n",
       "}\n",
       "\n",
       ".xr-text-repr-fallback {\n",
       "  /* fallback to plain text repr when CSS is not injected (untrusted notebook) */\n",
       "  display: none;\n",
       "}\n",
       "\n",
       ".xr-header {\n",
       "  padding-top: 6px;\n",
       "  padding-bottom: 6px;\n",
       "  margin-bottom: 4px;\n",
       "  border-bottom: solid 1px var(--xr-border-color);\n",
       "}\n",
       "\n",
       ".xr-header > div,\n",
       ".xr-header > ul {\n",
       "  display: inline;\n",
       "  margin-top: 0;\n",
       "  margin-bottom: 0;\n",
       "}\n",
       "\n",
       ".xr-obj-type,\n",
       ".xr-array-name {\n",
       "  margin-left: 2px;\n",
       "  margin-right: 10px;\n",
       "}\n",
       "\n",
       ".xr-obj-type {\n",
       "  color: var(--xr-font-color2);\n",
       "}\n",
       "\n",
       ".xr-sections {\n",
       "  padding-left: 0 !important;\n",
       "  display: grid;\n",
       "  grid-template-columns: 150px auto auto 1fr 20px 20px;\n",
       "}\n",
       "\n",
       ".xr-section-item {\n",
       "  display: contents;\n",
       "}\n",
       "\n",
       ".xr-section-item input {\n",
       "  display: none;\n",
       "}\n",
       "\n",
       ".xr-section-item input + label {\n",
       "  color: var(--xr-disabled-color);\n",
       "}\n",
       "\n",
       ".xr-section-item input:enabled + label {\n",
       "  cursor: pointer;\n",
       "  color: var(--xr-font-color2);\n",
       "}\n",
       "\n",
       ".xr-section-item input:enabled + label:hover {\n",
       "  color: var(--xr-font-color0);\n",
       "}\n",
       "\n",
       ".xr-section-summary {\n",
       "  grid-column: 1;\n",
       "  color: var(--xr-font-color2);\n",
       "  font-weight: 500;\n",
       "}\n",
       "\n",
       ".xr-section-summary > span {\n",
       "  display: inline-block;\n",
       "  padding-left: 0.5em;\n",
       "}\n",
       "\n",
       ".xr-section-summary-in:disabled + label {\n",
       "  color: var(--xr-font-color2);\n",
       "}\n",
       "\n",
       ".xr-section-summary-in + label:before {\n",
       "  display: inline-block;\n",
       "  content: '►';\n",
       "  font-size: 11px;\n",
       "  width: 15px;\n",
       "  text-align: center;\n",
       "}\n",
       "\n",
       ".xr-section-summary-in:disabled + label:before {\n",
       "  color: var(--xr-disabled-color);\n",
       "}\n",
       "\n",
       ".xr-section-summary-in:checked + label:before {\n",
       "  content: '▼';\n",
       "}\n",
       "\n",
       ".xr-section-summary-in:checked + label > span {\n",
       "  display: none;\n",
       "}\n",
       "\n",
       ".xr-section-summary,\n",
       ".xr-section-inline-details {\n",
       "  padding-top: 4px;\n",
       "  padding-bottom: 4px;\n",
       "}\n",
       "\n",
       ".xr-section-inline-details {\n",
       "  grid-column: 2 / -1;\n",
       "}\n",
       "\n",
       ".xr-section-details {\n",
       "  display: none;\n",
       "  grid-column: 1 / -1;\n",
       "  margin-bottom: 5px;\n",
       "}\n",
       "\n",
       ".xr-section-summary-in:checked ~ .xr-section-details {\n",
       "  display: contents;\n",
       "}\n",
       "\n",
       ".xr-array-wrap {\n",
       "  grid-column: 1 / -1;\n",
       "  display: grid;\n",
       "  grid-template-columns: 20px auto;\n",
       "}\n",
       "\n",
       ".xr-array-wrap > label {\n",
       "  grid-column: 1;\n",
       "  vertical-align: top;\n",
       "}\n",
       "\n",
       ".xr-preview {\n",
       "  color: var(--xr-font-color3);\n",
       "}\n",
       "\n",
       ".xr-array-preview,\n",
       ".xr-array-data {\n",
       "  padding: 0 5px !important;\n",
       "  grid-column: 2;\n",
       "}\n",
       "\n",
       ".xr-array-data,\n",
       ".xr-array-in:checked ~ .xr-array-preview {\n",
       "  display: none;\n",
       "}\n",
       "\n",
       ".xr-array-in:checked ~ .xr-array-data,\n",
       ".xr-array-preview {\n",
       "  display: inline-block;\n",
       "}\n",
       "\n",
       ".xr-dim-list {\n",
       "  display: inline-block !important;\n",
       "  list-style: none;\n",
       "  padding: 0 !important;\n",
       "  margin: 0;\n",
       "}\n",
       "\n",
       ".xr-dim-list li {\n",
       "  display: inline-block;\n",
       "  padding: 0;\n",
       "  margin: 0;\n",
       "}\n",
       "\n",
       ".xr-dim-list:before {\n",
       "  content: '(';\n",
       "}\n",
       "\n",
       ".xr-dim-list:after {\n",
       "  content: ')';\n",
       "}\n",
       "\n",
       ".xr-dim-list li:not(:last-child):after {\n",
       "  content: ',';\n",
       "  padding-right: 5px;\n",
       "}\n",
       "\n",
       ".xr-has-index {\n",
       "  font-weight: bold;\n",
       "}\n",
       "\n",
       ".xr-var-list,\n",
       ".xr-var-item {\n",
       "  display: contents;\n",
       "}\n",
       "\n",
       ".xr-var-item > div,\n",
       ".xr-var-item label,\n",
       ".xr-var-item > .xr-var-name span {\n",
       "  background-color: var(--xr-background-color-row-even);\n",
       "  margin-bottom: 0;\n",
       "}\n",
       "\n",
       ".xr-var-item > .xr-var-name:hover span {\n",
       "  padding-right: 5px;\n",
       "}\n",
       "\n",
       ".xr-var-list > li:nth-child(odd) > div,\n",
       ".xr-var-list > li:nth-child(odd) > label,\n",
       ".xr-var-list > li:nth-child(odd) > .xr-var-name span {\n",
       "  background-color: var(--xr-background-color-row-odd);\n",
       "}\n",
       "\n",
       ".xr-var-name {\n",
       "  grid-column: 1;\n",
       "}\n",
       "\n",
       ".xr-var-dims {\n",
       "  grid-column: 2;\n",
       "}\n",
       "\n",
       ".xr-var-dtype {\n",
       "  grid-column: 3;\n",
       "  text-align: right;\n",
       "  color: var(--xr-font-color2);\n",
       "}\n",
       "\n",
       ".xr-var-preview {\n",
       "  grid-column: 4;\n",
       "}\n",
       "\n",
       ".xr-index-preview {\n",
       "  grid-column: 2 / 5;\n",
       "  color: var(--xr-font-color2);\n",
       "}\n",
       "\n",
       ".xr-var-name,\n",
       ".xr-var-dims,\n",
       ".xr-var-dtype,\n",
       ".xr-preview,\n",
       ".xr-attrs dt {\n",
       "  white-space: nowrap;\n",
       "  overflow: hidden;\n",
       "  text-overflow: ellipsis;\n",
       "  padding-right: 10px;\n",
       "}\n",
       "\n",
       ".xr-var-name:hover,\n",
       ".xr-var-dims:hover,\n",
       ".xr-var-dtype:hover,\n",
       ".xr-attrs dt:hover {\n",
       "  overflow: visible;\n",
       "  width: auto;\n",
       "  z-index: 1;\n",
       "}\n",
       "\n",
       ".xr-var-attrs,\n",
       ".xr-var-data,\n",
       ".xr-index-data {\n",
       "  display: none;\n",
       "  background-color: var(--xr-background-color) !important;\n",
       "  padding-bottom: 5px !important;\n",
       "}\n",
       "\n",
       ".xr-var-attrs-in:checked ~ .xr-var-attrs,\n",
       ".xr-var-data-in:checked ~ .xr-var-data,\n",
       ".xr-index-data-in:checked ~ .xr-index-data {\n",
       "  display: block;\n",
       "}\n",
       "\n",
       ".xr-var-data > table {\n",
       "  float: right;\n",
       "}\n",
       "\n",
       ".xr-var-name span,\n",
       ".xr-var-data,\n",
       ".xr-index-name div,\n",
       ".xr-index-data,\n",
       ".xr-attrs {\n",
       "  padding-left: 25px !important;\n",
       "}\n",
       "\n",
       ".xr-attrs,\n",
       ".xr-var-attrs,\n",
       ".xr-var-data,\n",
       ".xr-index-data {\n",
       "  grid-column: 1 / -1;\n",
       "}\n",
       "\n",
       "dl.xr-attrs {\n",
       "  padding: 0;\n",
       "  margin: 0;\n",
       "  display: grid;\n",
       "  grid-template-columns: 125px auto;\n",
       "}\n",
       "\n",
       ".xr-attrs dt,\n",
       ".xr-attrs dd {\n",
       "  padding: 0;\n",
       "  margin: 0;\n",
       "  float: left;\n",
       "  padding-right: 10px;\n",
       "  width: auto;\n",
       "}\n",
       "\n",
       ".xr-attrs dt {\n",
       "  font-weight: normal;\n",
       "  grid-column: 1;\n",
       "}\n",
       "\n",
       ".xr-attrs dt:hover span {\n",
       "  display: inline-block;\n",
       "  background: var(--xr-background-color);\n",
       "  padding-right: 10px;\n",
       "}\n",
       "\n",
       ".xr-attrs dd {\n",
       "  grid-column: 2;\n",
       "  white-space: pre-wrap;\n",
       "  word-break: break-all;\n",
       "}\n",
       "\n",
       ".xr-icon-database,\n",
       ".xr-icon-file-text2,\n",
       ".xr-no-icon {\n",
       "  display: inline-block;\n",
       "  vertical-align: middle;\n",
       "  width: 1em;\n",
       "  height: 1.5em !important;\n",
       "  stroke-width: 0;\n",
       "  stroke: currentColor;\n",
       "  fill: currentColor;\n",
       "}\n",
       "</style><pre class='xr-text-repr-fallback'>&lt;xarray.Dataset&gt; Size: 189MB\n",
       "Dimensions:    (time: 365, bnds: 2, lon: 360, lat: 180)\n",
       "Coordinates:\n",
       "  * time       (time) datetime64[ns] 3kB 1995-01-01T11:30:00 ... 1995-12-31T1...\n",
       "  * lon        (lon) float64 3kB 0.0 1.0 2.0 3.0 4.0 ... 356.0 357.0 358.0 359.0\n",
       "  * lat        (lat) float64 1kB -89.5 -88.5 -87.5 -86.5 ... 86.5 87.5 88.5 89.5\n",
       "Dimensions without coordinates: bnds\n",
       "Data variables:\n",
       "    time_bnds  (time, bnds) datetime64[ns] 6kB ...\n",
       "    tas        (time, lat, lon) float64 189MB ...\n",
       "Attributes:\n",
       "    CDI:               Climate Data Interface version 2.1.1 (https://mpimet.m...\n",
       "    Conventions:       CF-1.6\n",
       "    history:           Fri Aug 02 11:33:30 2024: cdo -O -s -f nc -remapbil,r3...\n",
       "    frequency:         day\n",
       "    dataset:           ERA5\n",
       "    freq:              daily\n",
       "    region:            europe\n",
       "    path_identifiers:  -daily-\n",
       "    CDO:               Climate Data Operators version 2.1.1 (https://mpimet.m...</pre><div class='xr-wrap' style='display:none'><div class='xr-header'><div class='xr-obj-type'>xarray.Dataset</div></div><ul class='xr-sections'><li class='xr-section-item'><input id='section-2c058b51-407e-444d-ae7d-73f50ce14251' class='xr-section-summary-in' type='checkbox' disabled ><label for='section-2c058b51-407e-444d-ae7d-73f50ce14251' class='xr-section-summary'  title='Expand/collapse section'>Dimensions:</label><div class='xr-section-inline-details'><ul class='xr-dim-list'><li><span class='xr-has-index'>time</span>: 365</li><li><span>bnds</span>: 2</li><li><span class='xr-has-index'>lon</span>: 360</li><li><span class='xr-has-index'>lat</span>: 180</li></ul></div><div class='xr-section-details'></div></li><li class='xr-section-item'><input id='section-1c9f4e54-827f-4855-8c95-d080396bc52b' class='xr-section-summary-in' type='checkbox'  checked><label for='section-1c9f4e54-827f-4855-8c95-d080396bc52b' class='xr-section-summary' >Coordinates: <span>(3)</span></label><div class='xr-section-inline-details'></div><div class='xr-section-details'><ul class='xr-var-list'><li class='xr-var-item'><div class='xr-var-name'><span class='xr-has-index'>time</span></div><div class='xr-var-dims'>(time)</div><div class='xr-var-dtype'>datetime64[ns]</div><div class='xr-var-preview xr-preview'>1995-01-01T11:30:00 ... 1995-12-...</div><input id='attrs-c4a59567-69cc-4e45-9091-0ea073b67eea' class='xr-var-attrs-in' type='checkbox' ><label for='attrs-c4a59567-69cc-4e45-9091-0ea073b67eea' title='Show/Hide attributes'><svg class='icon xr-icon-file-text2'><use xlink:href='#icon-file-text2'></use></svg></label><input id='data-84b58918-e65b-48e2-b8e2-5d93ccd0d683' class='xr-var-data-in' type='checkbox'><label for='data-84b58918-e65b-48e2-b8e2-5d93ccd0d683' title='Show/Hide data repr'><svg class='icon xr-icon-database'><use xlink:href='#icon-database'></use></svg></label><div class='xr-var-attrs'><dl class='xr-attrs'><dt><span>standard_name :</span></dt><dd>time</dd><dt><span>long_name :</span></dt><dd>time</dd><dt><span>bounds :</span></dt><dd>time_bnds</dd><dt><span>axis :</span></dt><dd>T</dd></dl></div><div class='xr-var-data'><pre>array([&#x27;1995-01-01T11:30:00.000000000&#x27;, &#x27;1995-01-02T11:30:00.000000000&#x27;,\n",
       "       &#x27;1995-01-03T11:30:00.000000000&#x27;, ..., &#x27;1995-12-29T11:30:00.000000000&#x27;,\n",
       "       &#x27;1995-12-30T11:30:00.000000000&#x27;, &#x27;1995-12-31T11:30:00.000000000&#x27;],\n",
       "      dtype=&#x27;datetime64[ns]&#x27;)</pre></div></li><li class='xr-var-item'><div class='xr-var-name'><span class='xr-has-index'>lon</span></div><div class='xr-var-dims'>(lon)</div><div class='xr-var-dtype'>float64</div><div class='xr-var-preview xr-preview'>0.0 1.0 2.0 ... 357.0 358.0 359.0</div><input id='attrs-50eafe0f-7dc2-49ba-84f2-02b71b553266' class='xr-var-attrs-in' type='checkbox' ><label for='attrs-50eafe0f-7dc2-49ba-84f2-02b71b553266' title='Show/Hide attributes'><svg class='icon xr-icon-file-text2'><use xlink:href='#icon-file-text2'></use></svg></label><input id='data-b6e8d1b1-8cbc-4331-91ad-2f3d384de336' class='xr-var-data-in' type='checkbox'><label for='data-b6e8d1b1-8cbc-4331-91ad-2f3d384de336' title='Show/Hide data repr'><svg class='icon xr-icon-database'><use xlink:href='#icon-database'></use></svg></label><div class='xr-var-attrs'><dl class='xr-attrs'><dt><span>standard_name :</span></dt><dd>longitude</dd><dt><span>long_name :</span></dt><dd>longitude</dd><dt><span>units :</span></dt><dd>degrees_east</dd><dt><span>axis :</span></dt><dd>X</dd></dl></div><div class='xr-var-data'><pre>array([  0.,   1.,   2., ..., 357., 358., 359.])</pre></div></li><li class='xr-var-item'><div class='xr-var-name'><span class='xr-has-index'>lat</span></div><div class='xr-var-dims'>(lat)</div><div class='xr-var-dtype'>float64</div><div class='xr-var-preview xr-preview'>-89.5 -88.5 -87.5 ... 88.5 89.5</div><input id='attrs-1602f285-3e35-4f5d-a580-b46b4f030069' class='xr-var-attrs-in' type='checkbox' ><label for='attrs-1602f285-3e35-4f5d-a580-b46b4f030069' title='Show/Hide attributes'><svg class='icon xr-icon-file-text2'><use xlink:href='#icon-file-text2'></use></svg></label><input id='data-f3a04460-3f83-4252-8657-ace0158cafd2' class='xr-var-data-in' type='checkbox'><label for='data-f3a04460-3f83-4252-8657-ace0158cafd2' title='Show/Hide data repr'><svg class='icon xr-icon-database'><use xlink:href='#icon-database'></use></svg></label><div class='xr-var-attrs'><dl class='xr-attrs'><dt><span>standard_name :</span></dt><dd>latitude</dd><dt><span>long_name :</span></dt><dd>latitude</dd><dt><span>units :</span></dt><dd>degrees_north</dd><dt><span>axis :</span></dt><dd>Y</dd></dl></div><div class='xr-var-data'><pre>array([-89.5, -88.5, -87.5, -86.5, -85.5, -84.5, -83.5, -82.5, -81.5, -80.5,\n",
       "       -79.5, -78.5, -77.5, -76.5, -75.5, -74.5, -73.5, -72.5, -71.5, -70.5,\n",
       "       -69.5, -68.5, -67.5, -66.5, -65.5, -64.5, -63.5, -62.5, -61.5, -60.5,\n",
       "       -59.5, -58.5, -57.5, -56.5, -55.5, -54.5, -53.5, -52.5, -51.5, -50.5,\n",
       "       -49.5, -48.5, -47.5, -46.5, -45.5, -44.5, -43.5, -42.5, -41.5, -40.5,\n",
       "       -39.5, -38.5, -37.5, -36.5, -35.5, -34.5, -33.5, -32.5, -31.5, -30.5,\n",
       "       -29.5, -28.5, -27.5, -26.5, -25.5, -24.5, -23.5, -22.5, -21.5, -20.5,\n",
       "       -19.5, -18.5, -17.5, -16.5, -15.5, -14.5, -13.5, -12.5, -11.5, -10.5,\n",
       "        -9.5,  -8.5,  -7.5,  -6.5,  -5.5,  -4.5,  -3.5,  -2.5,  -1.5,  -0.5,\n",
       "         0.5,   1.5,   2.5,   3.5,   4.5,   5.5,   6.5,   7.5,   8.5,   9.5,\n",
       "        10.5,  11.5,  12.5,  13.5,  14.5,  15.5,  16.5,  17.5,  18.5,  19.5,\n",
       "        20.5,  21.5,  22.5,  23.5,  24.5,  25.5,  26.5,  27.5,  28.5,  29.5,\n",
       "        30.5,  31.5,  32.5,  33.5,  34.5,  35.5,  36.5,  37.5,  38.5,  39.5,\n",
       "        40.5,  41.5,  42.5,  43.5,  44.5,  45.5,  46.5,  47.5,  48.5,  49.5,\n",
       "        50.5,  51.5,  52.5,  53.5,  54.5,  55.5,  56.5,  57.5,  58.5,  59.5,\n",
       "        60.5,  61.5,  62.5,  63.5,  64.5,  65.5,  66.5,  67.5,  68.5,  69.5,\n",
       "        70.5,  71.5,  72.5,  73.5,  74.5,  75.5,  76.5,  77.5,  78.5,  79.5,\n",
       "        80.5,  81.5,  82.5,  83.5,  84.5,  85.5,  86.5,  87.5,  88.5,  89.5])</pre></div></li></ul></div></li><li class='xr-section-item'><input id='section-26398b16-cb9e-4fca-a6e8-884a48fa69a1' class='xr-section-summary-in' type='checkbox'  checked><label for='section-26398b16-cb9e-4fca-a6e8-884a48fa69a1' class='xr-section-summary' >Data variables: <span>(2)</span></label><div class='xr-section-inline-details'></div><div class='xr-section-details'><ul class='xr-var-list'><li class='xr-var-item'><div class='xr-var-name'><span>time_bnds</span></div><div class='xr-var-dims'>(time, bnds)</div><div class='xr-var-dtype'>datetime64[ns]</div><div class='xr-var-preview xr-preview'>...</div><input id='attrs-c18dca5f-0991-4a05-9edb-e85e8d49060e' class='xr-var-attrs-in' type='checkbox' disabled><label for='attrs-c18dca5f-0991-4a05-9edb-e85e8d49060e' title='Show/Hide attributes'><svg class='icon xr-icon-file-text2'><use xlink:href='#icon-file-text2'></use></svg></label><input id='data-a2d1f630-d00f-4be8-bc86-5fbd0d6be18e' class='xr-var-data-in' type='checkbox'><label for='data-a2d1f630-d00f-4be8-bc86-5fbd0d6be18e' title='Show/Hide data repr'><svg class='icon xr-icon-database'><use xlink:href='#icon-database'></use></svg></label><div class='xr-var-attrs'><dl class='xr-attrs'></dl></div><div class='xr-var-data'><pre>[730 values with dtype=datetime64[ns]]</pre></div></li><li class='xr-var-item'><div class='xr-var-name'><span>tas</span></div><div class='xr-var-dims'>(time, lat, lon)</div><div class='xr-var-dtype'>float64</div><div class='xr-var-preview xr-preview'>...</div><input id='attrs-7b37ef1d-35fc-463f-ad59-a144d49a8d94' class='xr-var-attrs-in' type='checkbox' ><label for='attrs-7b37ef1d-35fc-463f-ad59-a144d49a8d94' title='Show/Hide attributes'><svg class='icon xr-icon-file-text2'><use xlink:href='#icon-file-text2'></use></svg></label><input id='data-16ec1712-e38d-45bb-9d59-eeec5139b534' class='xr-var-data-in' type='checkbox'><label for='data-16ec1712-e38d-45bb-9d59-eeec5139b534' title='Show/Hide data repr'><svg class='icon xr-icon-database'><use xlink:href='#icon-database'></use></svg></label><div class='xr-var-attrs'><dl class='xr-attrs'><dt><span>standard_name :</span></dt><dd>air_temperature</dd><dt><span>long_name :</span></dt><dd>Near-Surface Air Temperature</dd><dt><span>units :</span></dt><dd>K</dd><dt><span>original_name :</span></dt><dd>t2m</dd><dt><span>original_long_name :</span></dt><dd>2m_temperature</dd><dt><span>dataset :</span></dt><dd>ERA5</dd><dt><span>freq :</span></dt><dd>daily</dd><dt><span>region :</span></dt><dd>europe</dd><dt><span>path_identifiers :</span></dt><dd>-daily-</dd></dl></div><div class='xr-var-data'><pre>[23652000 values with dtype=float64]</pre></div></li></ul></div></li><li class='xr-section-item'><input id='section-ce8e540f-002e-4e2d-b48d-cb1c1404987f' class='xr-section-summary-in' type='checkbox'  ><label for='section-ce8e540f-002e-4e2d-b48d-cb1c1404987f' class='xr-section-summary' >Indexes: <span>(3)</span></label><div class='xr-section-inline-details'></div><div class='xr-section-details'><ul class='xr-var-list'><li class='xr-var-item'><div class='xr-index-name'><div>time</div></div><div class='xr-index-preview'>PandasIndex</div><div></div><input id='index-a3a02355-e187-42d4-a3a7-960e701ade4b' class='xr-index-data-in' type='checkbox'/><label for='index-a3a02355-e187-42d4-a3a7-960e701ade4b' title='Show/Hide index repr'><svg class='icon xr-icon-database'><use xlink:href='#icon-database'></use></svg></label><div class='xr-index-data'><pre>PandasIndex(DatetimeIndex([&#x27;1995-01-01 11:30:00&#x27;, &#x27;1995-01-02 11:30:00&#x27;,\n",
       "               &#x27;1995-01-03 11:30:00&#x27;, &#x27;1995-01-04 11:30:00&#x27;,\n",
       "               &#x27;1995-01-05 11:30:00&#x27;, &#x27;1995-01-06 11:30:00&#x27;,\n",
       "               &#x27;1995-01-07 11:30:00&#x27;, &#x27;1995-01-08 11:30:00&#x27;,\n",
       "               &#x27;1995-01-09 11:30:00&#x27;, &#x27;1995-01-10 11:30:00&#x27;,\n",
       "               ...\n",
       "               &#x27;1995-12-22 11:30:00&#x27;, &#x27;1995-12-23 11:30:00&#x27;,\n",
       "               &#x27;1995-12-24 11:30:00&#x27;, &#x27;1995-12-25 11:30:00&#x27;,\n",
       "               &#x27;1995-12-26 11:30:00&#x27;, &#x27;1995-12-27 11:30:00&#x27;,\n",
       "               &#x27;1995-12-28 11:30:00&#x27;, &#x27;1995-12-29 11:30:00&#x27;,\n",
       "               &#x27;1995-12-30 11:30:00&#x27;, &#x27;1995-12-31 11:30:00&#x27;],\n",
       "              dtype=&#x27;datetime64[ns]&#x27;, name=&#x27;time&#x27;, length=365, freq=None))</pre></div></li><li class='xr-var-item'><div class='xr-index-name'><div>lon</div></div><div class='xr-index-preview'>PandasIndex</div><div></div><input id='index-62cdae3e-c239-4a89-a0b2-1515a50dd91b' class='xr-index-data-in' type='checkbox'/><label for='index-62cdae3e-c239-4a89-a0b2-1515a50dd91b' title='Show/Hide index repr'><svg class='icon xr-icon-database'><use xlink:href='#icon-database'></use></svg></label><div class='xr-index-data'><pre>PandasIndex(Index([  0.0,   1.0,   2.0,   3.0,   4.0,   5.0,   6.0,   7.0,   8.0,   9.0,\n",
       "       ...\n",
       "       350.0, 351.0, 352.0, 353.0, 354.0, 355.0, 356.0, 357.0, 358.0, 359.0],\n",
       "      dtype=&#x27;float64&#x27;, name=&#x27;lon&#x27;, length=360))</pre></div></li><li class='xr-var-item'><div class='xr-index-name'><div>lat</div></div><div class='xr-index-preview'>PandasIndex</div><div></div><input id='index-e6008751-5b5d-4e5e-a317-17dc54ad7ad6' class='xr-index-data-in' type='checkbox'/><label for='index-e6008751-5b5d-4e5e-a317-17dc54ad7ad6' title='Show/Hide index repr'><svg class='icon xr-icon-database'><use xlink:href='#icon-database'></use></svg></label><div class='xr-index-data'><pre>PandasIndex(Index([-89.5, -88.5, -87.5, -86.5, -85.5, -84.5, -83.5, -82.5, -81.5, -80.5,\n",
       "       ...\n",
       "        80.5,  81.5,  82.5,  83.5,  84.5,  85.5,  86.5,  87.5,  88.5,  89.5],\n",
       "      dtype=&#x27;float64&#x27;, name=&#x27;lat&#x27;, length=180))</pre></div></li></ul></div></li><li class='xr-section-item'><input id='section-7d1efddb-5ce0-4cbb-9851-d847bc287ca6' class='xr-section-summary-in' type='checkbox'  checked><label for='section-7d1efddb-5ce0-4cbb-9851-d847bc287ca6' class='xr-section-summary' >Attributes: <span>(9)</span></label><div class='xr-section-inline-details'></div><div class='xr-section-details'><dl class='xr-attrs'><dt><span>CDI :</span></dt><dd>Climate Data Interface version 2.1.1 (https://mpimet.mpg.de/cdi)</dd><dt><span>Conventions :</span></dt><dd>CF-1.6</dd><dt><span>history :</span></dt><dd>Fri Aug 02 11:33:30 2024: cdo -O -s -f nc -remapbil,r360x180 /dodrio/scratch/projects/2022_200/project_output/RMIB-UGent/vsc46032_kobe/tmp/test/cdoPy_1wy5naw /dodrio/scratch/projects/2022_200/project_output/RMIB-UGent/vsc46032_kobe/tmp/test/cdoPyujrj6mbg\n",
       "Tue Feb 08 16:00:13 2022: cdo -z zip daymean /mnt/HDS_BREGILABEPOC/BREGILABEPOC/bertvs/era5/europe/hourly/2m_temperature/era5-hourly-europe-2m_temperature-1995.nc /mnt/HDS_BREGILABEPOC/BREGILABEPOC/bertvs/era5/europe/daily/2m_temperature/era5-daily-europe-2m_temperature-1995.nc\n",
       "2020-02-19 02:16:05 GMT by grib_to_netcdf-2.16.0: /opt/ecmwf/eccodes/bin/grib_to_netcdf -S param -o /cache/data7/adaptor.mars.internal-1582077887.433423-11792-30-1aa6303b-69b5-4330-b6ee-49b8b7cd6e02.nc /cache/tmp/1aa6303b-69b5-4330-b6ee-49b8b7cd6e02-adaptor.mars.internal-1582077887.4339662-11792-12-tmp.grib</dd><dt><span>frequency :</span></dt><dd>day</dd><dt><span>dataset :</span></dt><dd>ERA5</dd><dt><span>freq :</span></dt><dd>daily</dd><dt><span>region :</span></dt><dd>europe</dd><dt><span>path_identifiers :</span></dt><dd>-daily-</dd><dt><span>CDO :</span></dt><dd>Climate Data Operators version 2.1.1 (https://mpimet.mpg.de/cdo)</dd></dl></div></li></ul></div></div>"
      ],
      "text/plain": [
       "<xarray.Dataset> Size: 189MB\n",
       "Dimensions:    (time: 365, bnds: 2, lon: 360, lat: 180)\n",
       "Coordinates:\n",
       "  * time       (time) datetime64[ns] 3kB 1995-01-01T11:30:00 ... 1995-12-31T1...\n",
       "  * lon        (lon) float64 3kB 0.0 1.0 2.0 3.0 4.0 ... 356.0 357.0 358.0 359.0\n",
       "  * lat        (lat) float64 1kB -89.5 -88.5 -87.5 -86.5 ... 86.5 87.5 88.5 89.5\n",
       "Dimensions without coordinates: bnds\n",
       "Data variables:\n",
       "    time_bnds  (time, bnds) datetime64[ns] 6kB ...\n",
       "    tas        (time, lat, lon) float64 189MB ...\n",
       "Attributes:\n",
       "    CDI:               Climate Data Interface version 2.1.1 (https://mpimet.m...\n",
       "    Conventions:       CF-1.6\n",
       "    history:           Fri Aug 02 11:33:30 2024: cdo -O -s -f nc -remapbil,r3...\n",
       "    frequency:         day\n",
       "    dataset:           ERA5\n",
       "    freq:              daily\n",
       "    region:            europe\n",
       "    path_identifiers:  -daily-\n",
       "    CDO:               Climate Data Operators version 2.1.1 (https://mpimet.m..."
      ]
     },
     "execution_count": 13,
     "metadata": {},
     "output_type": "execute_result"
    }
   ],
   "source": [
    "ds_regridded_cdo_python = cdo_obj.remapbil(gridfile, input=ds, returnXDataset=True)\n",
    "ds_regridded_cdo_python #Returns a dataset"
   ]
  },
  {
   "cell_type": "markdown",
   "metadata": {},
   "source": [
    "For future testing of caching - force is no longer an option in remap_cdo - see above"
   ]
  },
  {
   "cell_type": "code",
   "execution_count": 14,
   "metadata": {},
   "outputs": [],
   "source": [
    "# %timeit ds_regridded_cdo_python = remap_cdo(gridfile, ds, remap_method=\"bil\", force=False) #With caching\n",
    "# %timeit ds_regridded_cdo_python = remap_cdo(gridfile, ds, remap_method=\"bil\", force=True) #Without caching\n",
    "# %timeit ds_regridded_cdo_python = remap_cdo(gridfile, ds, remap_method=\"bil\", tempdir=\"/dodrio/scratch/projects/2022_200/project_output/RMIB-UGent/vsc46032_kobe/tmp\") #With caching and tempdir"
   ]
  },
  {
   "cell_type": "markdown",
   "metadata": {},
   "source": [
    "### Quick plot to compare the results"
   ]
  },
  {
   "cell_type": "code",
   "execution_count": 17,
   "metadata": {},
   "outputs": [
    {
     "name": "stdout",
     "output_type": "stream",
     "text": [
      "\u001b[32mcdo    remapbil: \u001b[0mBilinear weights from lonlat (289x163) to lonlat (360x180) grid\n",
      "cdo    remapbil:                        1 1 1 1 1 1 1 1 1 1 2 2 2 2 2 2 2 2 2 2 3 3 3 3 3 3 3 3 3 3 4 4 4 4 4 4 4 4 4 4 5 5 5 5 5 5 5 5 5 5 6 6 6 6 6 6 6 6 6 6 7 7 7 7 7 7 7 7 7 7 8 8 8 8 8 8 8 8 8 8 9 9 9 9 9 9 9 9 9 91\u001b[32mcdo    remapbil: \u001b[0mProcessed 17194055 values from 1 variable over 365 timesteps [3.34s 272MB]\n",
      "The file is ValEnsPy CF compliant.\n",
      "50.00% of the variables are ValEnsPy CF compliant\n",
      "ValEnsPy CF compliant: ['tas']\n",
      "Unknown to ValEnsPy: ['time_bnds']\n"
     ]
    }
   ],
   "source": [
    "from valenspy.inputconverter_functions import ERA5_to_CF\n",
    "from pathlib import Path\n",
    "\n",
    "!cdo remapbil,{gridfile} {ds_file_path} /tmp/test_2.nc\n",
    "ic = vp.InputConverter(ERA5_to_CF)\n",
    "ds_regridded_cdo = ic.convert_input(Path(\"/tmp/test_2.nc\"))"
   ]
  },
  {
   "cell_type": "code",
   "execution_count": 18,
   "metadata": {},
   "outputs": [],
   "source": [
    "ds_regridded_cdo_python = remap_cdo(gridfile, ds_ref, remap_method=\"bil\")"
   ]
  },
  {
   "cell_type": "code",
   "execution_count": 19,
   "metadata": {},
   "outputs": [
    {
     "data": {
      "image/png": "[encoded data removed]",
      "text/plain": [
       "<Figure size 1500x500 with 8 Axes>"
      ]
     },
     "metadata": {},
     "output_type": "display_data"
    }
   ],
   "source": [
    "#Plot ds_regridded_cdo_python and ds_regridded_cdo\n",
    "import matplotlib.pyplot as plt\n",
    "import numpy as np\n",
    "\n",
    "fig, axs = plt.subplots(1,4, figsize=(15,5))\n",
    "ds_regridded_cdo_python.isel(time=0).tas.plot(ax=axs[0])\n",
    "ds_regridded_cdo.tas.isel(time=0).plot(ax=axs[1])\n",
    "(ds_regridded_cdo_python.tas.isel(time=0) - ds_regridded_cdo.tas.isel(time=0)).plot(ax=axs[2])\n",
    "ds_ref.tas.isel(time=0).plot(ax=axs[3])\n",
    "#Axis titles\n",
    "axs[0].set_title(\"Python regridded\")\n",
    "axs[1].set_title(\"CDO regridded\")\n",
    "axs[2].set_title(\"Difference\")\n",
    "axs[3].set_title(\"Original\")\n",
    "plt.show()"
   ]
  },
  {
   "cell_type": "markdown",
   "metadata": {},
   "source": [
    "## Bigger test\n",
    "Note change to other regridding type (currently bilinear) in the code itself."
   ]
  },
  {
   "cell_type": "code",
   "execution_count": null,
   "metadata": {},
   "outputs": [],
   "source": [
    "gridfile = #The gridfile for cdo regridding\n",
    "ds_file_path = #The path to the files to regrid\n",
    "ds = #The dataset to regrid (xarray dataset)"
   ]
  },
  {
   "cell_type": "markdown",
   "metadata": {},
   "source": [
    "### CDO"
   ]
  },
  {
   "cell_type": "code",
   "execution_count": null,
   "metadata": {},
   "outputs": [],
   "source": [
    "%%timeit\n",
    "!cdo remapbil,{gridfile} {ds_file_path} /tmp/test_2.nc\n",
    "ds_regridded_cdo = xr.open_dataset(\"/tmp/test_2.nc\")"
   ]
  },
  {
   "cell_type": "markdown",
   "metadata": {},
   "source": [
    "A more fair comparison (and something that we will also have to do if we want to include it in valenspy):"
   ]
  },
  {
   "cell_type": "code",
   "execution_count": null,
   "metadata": {},
   "outputs": [],
   "source": [
    "%%timeit\n",
    "\n",
    "ds.to_netcdf(\"/tmp/test_in.nc\")\n",
    "!cdo remapbil,{gridfile} /tmp/test_in.nc /tmp/test_out.nc\n",
    "ds_regridded_cdo = xr.open_dataset(\"/tmp/test_out.nc\")"
   ]
  },
  {
   "cell_type": "markdown",
   "metadata": {},
   "source": [
    "### CDO-python"
   ]
  },
  {
   "cell_type": "code",
   "execution_count": null,
   "metadata": {},
   "outputs": [],
   "source": [
    "%%timeit\n",
    "\n",
    "ds_regridded_cdo_python = remap_cdo(gridfile, ds, remap_method=\"bil\")"
   ]
  },
  {
   "cell_type": "markdown",
   "metadata": {},
   "source": [
    "### Quick plot to compare the results"
   ]
  },
  {
   "cell_type": "code",
   "execution_count": null,
   "metadata": {},
   "outputs": [],
   "source": [
    "from valenspy.inputconverter_functions import ERA5_to_CF\n",
    "from pathlib import Path\n",
    "\n",
    "!cdo remapbil,{gridfile} {ds_file_path} /tmp/test_2.nc\n",
    "ic = vp.InputConverter(ERA5_to_CF)\n",
    "ds_regridded_cdo = ic.convert_input(Path(\"/tmp/test.nc\"))\n",
    "ds_regridded_cdo_python = remap_cdo(gridfile, ds_ref, remap_method=\"bil\")"
   ]
  },
  {
   "cell_type": "code",
   "execution_count": null,
   "metadata": {},
   "outputs": [],
   "source": [
    "#Plot ds_regridded_cdo_python and ds_regridded_cdo\n",
    "import matplotlib.pyplot as plt\n",
    "import numpy as np\n",
    "\n",
    "fig, axs = plt.subplots(1,4, figsize=(15,5))\n",
    "ds_regridded_cdo_python.isel(time=0).tas.plot(ax=axs[0])\n",
    "ds_regridded_cdo.tas.isel(time=0).plot(ax=axs[1])\n",
    "(ds_regridded_cdo_python.tas.isel(time=0) - ds_regridded_cdo.tas.isel(time=0)).plot(ax=axs[2])\n",
    "ds_ref.tas.isel(time=0).plot(ax=axs[3])\n",
    "#Axis titles\n",
    "axs[0].set_title(\"Python regridded\")\n",
    "axs[1].set_title(\"CDO regridded\")\n",
    "axs[2].set_title(\"Difference\")\n",
    "axs[3].set_title(\"Original\")\n",
    "plt.show()"
   ]
  }
 ],
 "metadata": {
  "kernelspec": {
   "display_name": "Python 3",
   "language": "python",
   "name": "python3"
  },
  "language_info": {
   "codemirror_mode": {
    "name": "ipython",
    "version": 3
   },
   "file_extension": ".py",
   "mimetype": "text/x-python",
   "name": "python",
   "nbconvert_exporter": "python",
   "pygments_lexer": "ipython3",
   "version": "3.9.18"
  }
 },
 "nbformat": 4,
 "nbformat_minor": 2
}
