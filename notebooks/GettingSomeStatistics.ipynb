{
 "cells": [
  {
   "cell_type": "markdown",
   "metadata": {},
   "source": [
    "# Analysing a case study \n",
    "Options will be to select a period, and do some calculations there\n",
    "For several locations"
   ]
  },
  {
   "cell_type": "code",
   "execution_count": 3,
   "metadata": {},
   "outputs": [
    {
     "ename": "ImportError",
     "evalue": "cannot import name 'mean_bias' from 'valenspy.diagnostic_functions' (/dodrio/scratch/projects/2022_200/project_output/rcs/CORDEXBE2/fiens/ValEnsPy/src/valenspy/diagnostic_functions.py)",
     "output_type": "error",
     "traceback": [
      "\u001b[0;31m---------------------------------------------------------------------------\u001b[0m",
      "\u001b[0;31mImportError\u001b[0m                               Traceback (most recent call last)",
      "Cell \u001b[0;32mIn[3], line 4\u001b[0m\n\u001b[1;32m      1\u001b[0m \u001b[38;5;28;01mimport\u001b[39;00m \u001b[38;5;21;01mvalenspy\u001b[39;00m \u001b[38;5;28;01mas\u001b[39;00m \u001b[38;5;21;01mvp\u001b[39;00m\n\u001b[1;32m      2\u001b[0m \u001b[38;5;66;03m#from valenspy._utilities import load_yml\u001b[39;00m\n\u001b[1;32m      3\u001b[0m \u001b[38;5;66;03m#from valenspy.preprocessing_tasks.select import select_point\u001b[39;00m\n\u001b[0;32m----> 4\u001b[0m \u001b[38;5;28;01mfrom\u001b[39;00m \u001b[38;5;21;01mvalenspy\u001b[39;00m\u001b[38;5;21;01m.\u001b[39;00m\u001b[38;5;21;01mdiagnostic_functions\u001b[39;00m \u001b[38;5;28;01mimport\u001b[39;00m mean_bias, mean_absolute_error, root_mean_square_error, spearman_correlation, perkins_skill_score, time_series_spatial_mean\n\u001b[1;32m      5\u001b[0m \u001b[38;5;28;01mfrom\u001b[39;00m \u001b[38;5;21;01mvalenspy\u001b[39;00m\u001b[38;5;21;01m.\u001b[39;00m\u001b[38;5;21;01mdiagnostic_visualizations\u001b[39;00m \u001b[38;5;28;01mimport\u001b[39;00m plot_time_series, plot_map\n\u001b[1;32m      6\u001b[0m \u001b[38;5;28;01mfrom\u001b[39;00m \u001b[38;5;21;01mpathlib\u001b[39;00m \u001b[38;5;28;01mimport\u001b[39;00m Path\n",
      "\u001b[0;31mImportError\u001b[0m: cannot import name 'mean_bias' from 'valenspy.diagnostic_functions' (/dodrio/scratch/projects/2022_200/project_output/rcs/CORDEXBE2/fiens/ValEnsPy/src/valenspy/diagnostic_functions.py)"
     ]
    }
   ],
   "source": [
    "import valenspy as vp\n",
    "from valenspy._utilities import load_yml\n",
    "from valenspy.preprocessing_tasks.select import select_point\n",
    "from valenspy.diagnostic_functions import mean_bias, mean_absolute_error, root_mean_square_error, spearman_correlation, perkins_skill_score, time_series_spatial_mean\n",
    "from valenspy.diagnostic_visualizations import plot_time_series, plot_map\n",
    "from pathlib import Path\n",
    "\n",
    "import matplotlib.pyplot as plt\n",
    "import xarray as xr\n",
    "import numpy as np\n",
    "import pandas as pd\n",
    "\n",
    "\n",
    "# define machine name - used for paths of (observational) datasets\n",
    "machine = 'hortense'\n",
    "\n",
    "manager = vp.InputManager(machine=machine)"
   ]
  },
  {
   "cell_type": "code",
   "execution_count": null,
   "metadata": {},
   "outputs": [],
   "source": [
    "def get_metrics_variables(metric)\n",
    "    # returns the variables required for a certain metric\n",
    "    if metric == \"HUMIDEX\":\n",
    "        return [\"tas\", \"rh\"]"
   ]
  },
  {
   "cell_type": "code",
   "execution_count": null,
   "metadata": {},
   "outputs": [],
   "source": [
    "variable = \"T_2M\"\n",
    "experiment = \"CB2_CCLM_BE28_ERA5_evaluation\"\n",
    "daily_statistic = \"mean\"\n",
    "\n",
    "files_exp = \"/dodrio/scratch/projects/2022_200/project_output/rcs/CORDEXBE2/postprocessing/\"+ experiment + '/' + variable + \"/daily/\" + variable + \"_daily_\" + daily_statistic + \"_1995.nc\"\n",
    "print(files_exp)\n",
    "ds_exp = xr.open_mfdataset(files_exp, combine='by_coords')\n",
    "\n",
    "#ds_exp = manager.load_data(model, [variable], freq=\"daily\", path_identifiers=[experiment, daily_statistic])\n",
    "da_exp = ds_exp[variable]\n",
    "da_exp"
   ]
  }
 ],
 "metadata": {
  "kernelspec": {
   "display_name": "valenspy_dev",
   "language": "python",
   "name": "python3"
  },
  "language_info": {
   "codemirror_mode": {
    "name": "ipython",
    "version": 3
   },
   "file_extension": ".py",
   "mimetype": "text/x-python",
   "name": "python",
   "nbconvert_exporter": "python",
   "pygments_lexer": "ipython3",
   "version": "3.9.0"
  }
 },
 "nbformat": 4,
 "nbformat_minor": 2
}
